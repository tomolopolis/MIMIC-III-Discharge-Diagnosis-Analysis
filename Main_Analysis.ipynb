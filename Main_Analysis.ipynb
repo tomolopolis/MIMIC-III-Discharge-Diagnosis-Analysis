{
 "cells": [
  {
   "cell_type": "code",
   "execution_count": 2,
   "metadata": {},
   "outputs": [],
   "source": [
    "%load_ext autoreload\n",
    "\n",
    "%autoreload 2\n",
    "\n",
    "from medcat.cat import CAT\n",
    "from medcat.utils.vocab import Vocab\n",
    "from medcat.cdb import CDB\n",
    "from medcat.prepare_cdb import PrepareCDB\n",
    "\n",
    "from reconcile import map_medcat_annos_to_icd9, remove_duplicate_mapped_assigned_codes\n",
    "\n",
    "from icd9cms import search\n",
    "import os\n",
    "import pandas as pd\n",
    "import numpy as np\n",
    "from collections import defaultdict\n",
    "import json\n",
    "from matplotlib import pyplot as plt\n",
    "import seaborn as sns\n",
    "import scipy"
   ]
  },
  {
   "cell_type": "code",
   "execution_count": 66,
   "metadata": {},
   "outputs": [
    {
     "data": {
      "text/plain": [
       "634709"
      ]
     },
     "execution_count": 66,
     "metadata": {},
     "output_type": "execute_result"
    }
   ],
   "source": [
    "codes.shape[0]"
   ]
  },
  {
   "cell_type": "code",
   "execution_count": 65,
   "metadata": {},
   "outputs": [
    {
     "data": {
      "text/plain": [
       "(484744, 10)"
      ]
     },
     "execution_count": 65,
     "metadata": {},
     "output_type": "execute_result"
    }
   ],
   "source": [
    "joined_df_fine_tuned.shape"
   ]
  },
  {
   "cell_type": "code",
   "execution_count": 353,
   "metadata": {},
   "outputs": [],
   "source": [
    "codes = pd.read_csv('data/admission_codes.csv')\n",
    "df = codes.groupby('icd9_code').count()\n",
    "df.reset_index(inplace=True)\n",
    "df.columns = ['cui', 'count', '_', '_']\n",
    "clean_codes = df.loc[:, ['cui', 'count']]"
   ]
  },
  {
   "cell_type": "markdown",
   "metadata": {},
   "source": [
    "### Top 5 Occurring Codes in MIMIC-III"
   ]
  },
  {
   "cell_type": "code",
   "execution_count": 13,
   "metadata": {},
   "outputs": [
    {
     "data": {
      "text/html": [
       "<div>\n",
       "<style scoped>\n",
       "    .dataframe tbody tr th:only-of-type {\n",
       "        vertical-align: middle;\n",
       "    }\n",
       "\n",
       "    .dataframe tbody tr th {\n",
       "        vertical-align: top;\n",
       "    }\n",
       "\n",
       "    .dataframe thead th {\n",
       "        text-align: right;\n",
       "    }\n",
       "</style>\n",
       "<table border=\"1\" class=\"dataframe\">\n",
       "  <thead>\n",
       "    <tr style=\"text-align: right;\">\n",
       "      <th></th>\n",
       "      <th>cui</th>\n",
       "      <th>count</th>\n",
       "    </tr>\n",
       "  </thead>\n",
       "  <tbody>\n",
       "    <tr>\n",
       "      <th>1920</th>\n",
       "      <td>4019</td>\n",
       "      <td>20703</td>\n",
       "    </tr>\n",
       "    <tr>\n",
       "      <th>2066</th>\n",
       "      <td>4280</td>\n",
       "      <td>13111</td>\n",
       "    </tr>\n",
       "    <tr>\n",
       "      <th>2055</th>\n",
       "      <td>42731</td>\n",
       "      <td>12891</td>\n",
       "    </tr>\n",
       "    <tr>\n",
       "      <th>1977</th>\n",
       "      <td>41401</td>\n",
       "      <td>12429</td>\n",
       "    </tr>\n",
       "    <tr>\n",
       "      <th>2897</th>\n",
       "      <td>5849</td>\n",
       "      <td>9119</td>\n",
       "    </tr>\n",
       "  </tbody>\n",
       "</table>\n",
       "</div>"
      ],
      "text/plain": [
       "        cui  count\n",
       "1920   4019  20703\n",
       "2066   4280  13111\n",
       "2055  42731  12891\n",
       "1977  41401  12429\n",
       "2897   5849   9119"
      ]
     },
     "execution_count": 13,
     "metadata": {},
     "output_type": "execute_result"
    }
   ],
   "source": [
    "clean_codes.sort_values('count', ascending=False).head(5)"
   ]
  },
  {
   "cell_type": "code",
   "execution_count": 14,
   "metadata": {},
   "outputs": [],
   "source": [
    "# needed columns \n",
    "# cui,str,onto,tty,tui,sty,desc,is_unique,examples\n",
    "code_meta_dir = defaultdict(list)\n",
    "for row in clean_codes.itertuples():\n",
    "    found_code = search(row.cui)\n",
    "    code_meta_dir['cui'].append(row.cui)\n",
    "    code_meta_dir['count'].append(row.count)\n",
    "    code_meta_dir['str'].append(found_code.short_desc)\n",
    "    code_meta_dir['onto'].append('icd9')\n",
    "    parent_code = found_code\n",
    "    if  found_code.code[0] != 'E' and len(found_code.code) > 3:\n",
    "        parent_code = search(found_code.code[0:3])\n",
    "    elif found_code.code[0] == 'E' and len(found_code.code) > 4:\n",
    "        parent_code = search(found_code.code[0:4])\n",
    "    code_meta_dir['tui'].append(parent_code.code)\n",
    "    code_meta_dir['sty'].append(parent_code.short_desc)\n",
    "    code_meta_dir['desc'].append(found_code.long_desc or found_code.short_desc)\n",
    "    code_meta_dir['is_unique'].append(-1)"
   ]
  },
  {
   "cell_type": "code",
   "execution_count": 15,
   "metadata": {},
   "outputs": [],
   "source": [
    "cdb_df = pd.DataFrame(code_meta_dir).sort_values('count', ascending=False)"
   ]
  },
  {
   "cell_type": "code",
   "execution_count": 16,
   "metadata": {},
   "outputs": [
    {
     "data": {
      "text/html": [
       "<div>\n",
       "<style scoped>\n",
       "    .dataframe tbody tr th:only-of-type {\n",
       "        vertical-align: middle;\n",
       "    }\n",
       "\n",
       "    .dataframe tbody tr th {\n",
       "        vertical-align: top;\n",
       "    }\n",
       "\n",
       "    .dataframe thead th {\n",
       "        text-align: right;\n",
       "    }\n",
       "</style>\n",
       "<table border=\"1\" class=\"dataframe\">\n",
       "  <thead>\n",
       "    <tr style=\"text-align: right;\">\n",
       "      <th></th>\n",
       "      <th>cui</th>\n",
       "      <th>count</th>\n",
       "      <th>str</th>\n",
       "      <th>onto</th>\n",
       "      <th>tui</th>\n",
       "      <th>sty</th>\n",
       "      <th>desc</th>\n",
       "      <th>is_unique</th>\n",
       "    </tr>\n",
       "  </thead>\n",
       "  <tbody>\n",
       "    <tr>\n",
       "      <th>1920</th>\n",
       "      <td>4019</td>\n",
       "      <td>20703</td>\n",
       "      <td>Hypertension NOS</td>\n",
       "      <td>icd9</td>\n",
       "      <td>401</td>\n",
       "      <td>Essential hypertension</td>\n",
       "      <td>Unspecified essential hypertension</td>\n",
       "      <td>-1</td>\n",
       "    </tr>\n",
       "    <tr>\n",
       "      <th>2066</th>\n",
       "      <td>4280</td>\n",
       "      <td>13111</td>\n",
       "      <td>CHF NOS</td>\n",
       "      <td>icd9</td>\n",
       "      <td>428</td>\n",
       "      <td>Heart failure</td>\n",
       "      <td>Congestive heart failure, unspecified</td>\n",
       "      <td>-1</td>\n",
       "    </tr>\n",
       "    <tr>\n",
       "      <th>2055</th>\n",
       "      <td>42731</td>\n",
       "      <td>12891</td>\n",
       "      <td>Atrial fibrillation</td>\n",
       "      <td>icd9</td>\n",
       "      <td>427</td>\n",
       "      <td>Cardiac dysrhythmias</td>\n",
       "      <td>Atrial fibrillation</td>\n",
       "      <td>-1</td>\n",
       "    </tr>\n",
       "    <tr>\n",
       "      <th>1977</th>\n",
       "      <td>41401</td>\n",
       "      <td>12429</td>\n",
       "      <td>Crnry athrscl natve vssl</td>\n",
       "      <td>icd9</td>\n",
       "      <td>414</td>\n",
       "      <td>Other forms of chronic ischemic heart disease</td>\n",
       "      <td>Coronary atherosclerosis of native coronary ar...</td>\n",
       "      <td>-1</td>\n",
       "    </tr>\n",
       "    <tr>\n",
       "      <th>2897</th>\n",
       "      <td>5849</td>\n",
       "      <td>9119</td>\n",
       "      <td>Acute kidney failure NOS</td>\n",
       "      <td>icd9</td>\n",
       "      <td>584</td>\n",
       "      <td>Acute kidney failure</td>\n",
       "      <td>Acute kidney failure, unspecified</td>\n",
       "      <td>-1</td>\n",
       "    </tr>\n",
       "    <tr>\n",
       "      <th>811</th>\n",
       "      <td>25000</td>\n",
       "      <td>9058</td>\n",
       "      <td>DMII wo cmp nt st uncntr</td>\n",
       "      <td>icd9</td>\n",
       "      <td>250</td>\n",
       "      <td>Diabetes mellitus</td>\n",
       "      <td>Diabetes mellitus without mention of complicat...</td>\n",
       "      <td>-1</td>\n",
       "    </tr>\n",
       "    <tr>\n",
       "      <th>931</th>\n",
       "      <td>2724</td>\n",
       "      <td>8690</td>\n",
       "      <td>Hyperlipidemia NEC/NOS</td>\n",
       "      <td>icd9</td>\n",
       "      <td>272</td>\n",
       "      <td>Disorders of lipoid metabolism</td>\n",
       "      <td>Other and unspecified hyperlipidemia</td>\n",
       "      <td>-1</td>\n",
       "    </tr>\n",
       "    <tr>\n",
       "      <th>2484</th>\n",
       "      <td>51881</td>\n",
       "      <td>7497</td>\n",
       "      <td>Acute respiratry failure</td>\n",
       "      <td>icd9</td>\n",
       "      <td>518</td>\n",
       "      <td>Other diseases of lung</td>\n",
       "      <td>Acute respiratory failure</td>\n",
       "      <td>-1</td>\n",
       "    </tr>\n",
       "    <tr>\n",
       "      <th>2965</th>\n",
       "      <td>5990</td>\n",
       "      <td>6555</td>\n",
       "      <td>Urin tract infection NOS</td>\n",
       "      <td>icd9</td>\n",
       "      <td>599</td>\n",
       "      <td>Other disorders of urethra and urinary tract</td>\n",
       "      <td>Urinary tract infection, site not specified</td>\n",
       "      <td>-1</td>\n",
       "    </tr>\n",
       "    <tr>\n",
       "      <th>2576</th>\n",
       "      <td>53081</td>\n",
       "      <td>6326</td>\n",
       "      <td>Esophageal reflux</td>\n",
       "      <td>icd9</td>\n",
       "      <td>530</td>\n",
       "      <td>Diseases of esophagus</td>\n",
       "      <td>Esophageal reflux</td>\n",
       "      <td>-1</td>\n",
       "    </tr>\n",
       "  </tbody>\n",
       "</table>\n",
       "</div>"
      ],
      "text/plain": [
       "        cui  count                       str  onto  tui  \\\n",
       "1920   4019  20703          Hypertension NOS  icd9  401   \n",
       "2066   4280  13111                   CHF NOS  icd9  428   \n",
       "2055  42731  12891       Atrial fibrillation  icd9  427   \n",
       "1977  41401  12429  Crnry athrscl natve vssl  icd9  414   \n",
       "2897   5849   9119  Acute kidney failure NOS  icd9  584   \n",
       "811   25000   9058  DMII wo cmp nt st uncntr  icd9  250   \n",
       "931    2724   8690    Hyperlipidemia NEC/NOS  icd9  272   \n",
       "2484  51881   7497  Acute respiratry failure  icd9  518   \n",
       "2965   5990   6555  Urin tract infection NOS  icd9  599   \n",
       "2576  53081   6326         Esophageal reflux  icd9  530   \n",
       "\n",
       "                                                sty  \\\n",
       "1920                         Essential hypertension   \n",
       "2066                                  Heart failure   \n",
       "2055                           Cardiac dysrhythmias   \n",
       "1977  Other forms of chronic ischemic heart disease   \n",
       "2897                           Acute kidney failure   \n",
       "811                               Diabetes mellitus   \n",
       "931                  Disorders of lipoid metabolism   \n",
       "2484                         Other diseases of lung   \n",
       "2965   Other disorders of urethra and urinary tract   \n",
       "2576                          Diseases of esophagus   \n",
       "\n",
       "                                                   desc  is_unique  \n",
       "1920                 Unspecified essential hypertension         -1  \n",
       "2066              Congestive heart failure, unspecified         -1  \n",
       "2055                                Atrial fibrillation         -1  \n",
       "1977  Coronary atherosclerosis of native coronary ar...         -1  \n",
       "2897                  Acute kidney failure, unspecified         -1  \n",
       "811   Diabetes mellitus without mention of complicat...         -1  \n",
       "931                Other and unspecified hyperlipidemia         -1  \n",
       "2484                          Acute respiratory failure         -1  \n",
       "2965        Urinary tract infection, site not specified         -1  \n",
       "2576                                  Esophageal reflux         -1  "
      ]
     },
     "execution_count": 16,
     "metadata": {},
     "output_type": "execute_result"
    }
   ],
   "source": [
    "cdb_df.sort_values('count', ascending=False).head(10)"
   ]
  },
  {
   "cell_type": "markdown",
   "metadata": {},
   "source": [
    "## Link Pre-trained UMLS to ICD-9-CM\n",
    "CSV mapping file from: https://bioportal.bioontology.org/ontologies/ICD9CM/?p=summary\n",
    "\n",
    "After testing with ICD9 mapping. Many mappings appear to be missing with UMLS. Using the trained / built ICD10 to UMLS mapping"
   ]
  },
  {
   "cell_type": "code",
   "execution_count": 7,
   "metadata": {},
   "outputs": [],
   "source": [
    "# mapping = pd.read_csv('ICD9CM.csv')"
   ]
  },
  {
   "cell_type": "markdown",
   "metadata": {},
   "source": [
    "## Mapping ICD9 to ICD10"
   ]
  },
  {
   "cell_type": "code",
   "execution_count": 17,
   "metadata": {},
   "outputs": [],
   "source": [
    "codes = pd.read_csv('data/admission_codes.csv')"
   ]
  },
  {
   "cell_type": "code",
   "execution_count": 18,
   "metadata": {},
   "outputs": [],
   "source": [
    "icd9_to_10_mapping = pd.read_csv('refdata/icd9toicd10cmgem.csv')\n",
    "sorted_codes = codes.icd9_code.value_counts().reset_index().sort_values('icd9_code', ascending=False)\n",
    "sorted_codes.columns = ['code', 'count']\n",
    "count = 0\n",
    "icd10 = []\n",
    "for c in sorted_codes.code:\n",
    "    mapped_rows = icd9_to_10_mapping[icd9_to_10_mapping.icd9cm == c]   \n",
    "    icd10.append(','.join(mapped_rows.icd10cm.tolist()) if \n",
    "                 mapped_rows.shape[0] > 1 else mapped_rows.icd10cm.iloc[0])\n",
    "sorted_codes['icd10'] = icd10"
   ]
  },
  {
   "cell_type": "code",
   "execution_count": 19,
   "metadata": {},
   "outputs": [],
   "source": [
    "total_assigned_codes = sorted_codes['count'].sum()"
   ]
  },
  {
   "cell_type": "code",
   "execution_count": 20,
   "metadata": {},
   "outputs": [
    {
     "data": {
      "text/plain": [
       "450732"
      ]
     },
     "execution_count": 20,
     "metadata": {},
     "output_type": "execute_result"
    }
   ],
   "source": [
    "sorted_codes['count'].iloc[:300].sum()"
   ]
  },
  {
   "cell_type": "markdown",
   "metadata": {},
   "source": [
    "## Code Proportions of Total Assigned Codes\n",
    "We go with thea top 400 ICD-9 codes in the following analysis, giving  is a reasonable number for 'majority' coverage of the codes in MIMIC-III without validating all ~6k. "
   ]
  },
  {
   "cell_type": "code",
   "execution_count": 21,
   "metadata": {},
   "outputs": [],
   "source": [
    "code_ranges = [50, 100, 200, 300, 400, 500, 600]\n",
    "props_of_total_codes = [(r, round((sorted_codes['count'].iloc[:r].sum() / total_assigned_codes) * 100, 2)) for r in code_ranges] "
   ]
  },
  {
   "cell_type": "code",
   "execution_count": 22,
   "metadata": {},
   "outputs": [
    {
     "data": {
      "text/plain": [
       "[(50, 38.24),\n",
       " (100, 50.11),\n",
       " (200, 63.39),\n",
       " (300, 71.01),\n",
       " (400, 76.2),\n",
       " (500, 79.96),\n",
       " (600, 82.9)]"
      ]
     },
     "execution_count": 22,
     "metadata": {},
     "output_type": "execute_result"
    }
   ],
   "source": [
    "props_of_total_codes"
   ]
  },
  {
   "cell_type": "markdown",
   "metadata": {},
   "source": [
    "## Filter Down to top 400 ICD-9 Codes\n",
    "That have first been mapped to ICD-10 codes, then mapped to UMLS CUI Codes."
   ]
  },
  {
   "cell_type": "code",
   "execution_count": 23,
   "metadata": {},
   "outputs": [],
   "source": [
    "icd10_mapping = pd.read_csv('refdata/UMLS_to_ICD10.csv')"
   ]
  },
  {
   "cell_type": "code",
   "execution_count": 24,
   "metadata": {},
   "outputs": [],
   "source": [
    "icd10_mapping = icd10_mapping.loc[:, ['Class ID', 'CUI', 'Semantic type UMLS property']]"
   ]
  },
  {
   "cell_type": "code",
   "execution_count": 25,
   "metadata": {},
   "outputs": [],
   "source": [
    "icd10_mapping['tuis'] = icd10_mapping['Semantic type UMLS property']\\\n",
    "    .str.split('|').dropna().apply(\\\n",
    "        lambda tui_list: ','.join([l.split('/')[-1] for l in tui_list]))"
   ]
  },
  {
   "cell_type": "code",
   "execution_count": 26,
   "metadata": {},
   "outputs": [],
   "source": [
    "icd10_mapping['code'] = icd10_mapping['Class ID'].str.split('/').apply(lambda l: l[-1])"
   ]
  },
  {
   "cell_type": "code",
   "execution_count": 27,
   "metadata": {},
   "outputs": [],
   "source": [
    "from itertools import chain\n",
    "icd10_codes_to_keep = list(chain.from_iterable(sorted_codes[0:400].icd10.str.split(',').tolist()))"
   ]
  },
  {
   "cell_type": "code",
   "execution_count": 28,
   "metadata": {},
   "outputs": [],
   "source": [
    "icd10_mapping['code'] = icd10_mapping.code.str.replace('.', '')\n",
    "tuis_to_keep = chain.from_iterable([icd10_mapping[icd10_mapping.code == code].tuis.tolist() for code in icd10_codes_to_keep])\n",
    "tuis_to_keep = set(chain.from_iterable([tui.split(',') for tui in tuis_to_keep]))\n",
    "cuis_to_keep = chain.from_iterable([icd10_mapping[icd10_mapping.code == code].CUI.tolist() for code in icd10_codes_to_keep])\n",
    "cuis_to_keep = list(chain.from_iterable([cui.split('|') for cui in cuis_to_keep]))\n",
    "cuis_to_keep = list(set(cuis_to_keep))"
   ]
  },
  {
   "cell_type": "code",
   "execution_count": 29,
   "metadata": {},
   "outputs": [],
   "source": [
    "icd10_mapping = pd.read_csv('refdata/UMLS_to_ICD10.csv')\n",
    "icd10_mapping['icd10'] = icd10_mapping['Class ID'].str.split('/').apply(lambda l: l[-1])\n",
    "icd10_mapping['icd10'] = icd10_mapping.icd10.str.replace('.', '')"
   ]
  },
  {
   "cell_type": "markdown",
   "metadata": {},
   "source": [
    "## Code Reconciliation\n",
    "Given a set of predicted UMLS concepts for the DD subsections made by MedCAT, we aim to reconcile the codes assigned to the discharge diagnosis subsections in MIMIC-III."
   ]
  },
  {
   "cell_type": "markdown",
   "metadata": {},
   "source": [
    "Firstly, we map the predicted codes back into their ICD-9 counterparts. MedCAT already contains a UMLS to ICD-10-CM mapping, so we directly use that mapping supplied by the tool."
   ]
  },
  {
   "cell_type": "code",
   "execution_count": 74,
   "metadata": {},
   "outputs": [],
   "source": [
    "notes = pd.read_csv('data/mimic_dd_icd9_sections.csv')\n",
    "notes['name'] = notes.name.str.split(':').apply(lambda l: l[1])\n",
    "codes = pd.read_csv('data/admission_codes.csv')\n",
    "objs = json.load(open('data/mimic_dd_annos.json'))"
   ]
  },
  {
   "cell_type": "markdown",
   "metadata": {},
   "source": [
    "### Map parsed UMLS concepts with attached ICD-10 codes to ICD9"
   ]
  },
  {
   "cell_type": "code",
   "execution_count": 75,
   "metadata": {},
   "outputs": [],
   "source": [
    "parsed_dd_mapped_to_icd9 = map_medcat_annos_to_icd9(objs, notes, codes, cuis_to_keep)"
   ]
  },
  {
   "cell_type": "markdown",
   "metadata": {},
   "source": [
    "### Reconcile Codes\n",
    "As UMLS codes can map many-to-many to ICD-10 and ICD-9 codes, a single UMLS prediction by MedCAT can map to many associated ICD codes. If the MIMIC-III assigned codes matches one of these UMLS assigned codes we assume the MIMIC-III assigned code is correct and remove all others that refer to the same span of text.\n",
    "\n",
    "Then split the reconciled codes into 3 datasets:\n",
    "- Assigned in MIMIC-III and Not Predicted by MedCAT, denoted **A_NP** in the paper.\n",
    "- Predicted by MedCAT and Assigned in MIMIC-III, denoted **P_A** in the paper. \n",
    "- Predicted by MedCAT and Not Assigned in MIMIC-III, denoted **P_NA** in the paper. "
   ]
  },
  {
   "cell_type": "code",
   "execution_count": 76,
   "metadata": {},
   "outputs": [],
   "source": [
    "joined_df = remove_duplicate_mapped_assigned_codes(notes, codes, parsed_dd_mapped_to_icd9)"
   ]
  },
  {
   "cell_type": "markdown",
   "metadata": {},
   "source": [
    "### Plot Base Predictions by MedCAT of DD Susections\n",
    "- Predicted codes that match with Assigned codes from MIMIC-III\n",
    "- Predicted codes but have no matching assigned codes. (These are the most interesting cases, where we can begin to argue where the coding is unreliable).\n",
    "- We accept the gap between assigned codes and no predictions is large due to:\n",
    " - codes coming from outside the DD subsection\n",
    " - possibly overcoding"
   ]
  },
  {
   "cell_type": "code",
   "execution_count": 33,
   "metadata": {},
   "outputs": [],
   "source": [
    "def compute_y(joined_df, filter_unvalidated_codes=None):\n",
    "    matched_codes = joined_df[joined_df.match == 'match'].icd9.unique()\n",
    "    joined_df_assignedno_pred = joined_df[joined_df.match == 'assigned_no_pred']\n",
    "    joined_df_assignedno_pred = joined_df_assignedno_pred[joined_df_assignedno_pred.icd9.isin(matched_codes)].shape[0]\n",
    "    pred_no_assn = joined_df[joined_df.match == 'pred_no_assign']\n",
    "    matched = joined_df[joined_df.match == 'match']\n",
    "    \n",
    "    print(len(matched.icd9.unique()))\n",
    "    if filter_unvalidated_codes:\n",
    "        matched = matched[~matched.icd9.isin(filter_unvalidated_codes)]\n",
    "        pred_no_assn = pred_no_assn[~pred_no_assn.icd9.isin(filter_unvalidated_codes)]\n",
    "\n",
    "    y = [joined_df[joined_df.match == 'assigned_no_pred'].shape[0],  # raw code counts\n",
    "         joined_df_assignedno_pred, # raw code counts not including the codes that had at least one match in MedCAT\n",
    "         matched.shape[0], # raw code counts that match with assigned codes\n",
    "         pred_no_assn.shape[0] # raw code counts that were not assigned but were predicted.\n",
    "        ]\n",
    "    return y"
   ]
  },
  {
   "cell_type": "markdown",
   "metadata": {},
   "source": [
    "## MedCAT Fine-Tuning / Validation Stratified Sampling \n",
    "We sub-sample each of the three datasets by:\n",
    " - by ICD-9 Code\n",
    " - by HADMD ID\n",
    "\n",
    "The **A_NP** dataset is used for MedCAT 'fine-tuning', so the model can include additional synoyms or abbreviations for codes.\n",
    "\n",
    "**P_A** and **P_NA** are used to validate the tool ensuring the model predictions are valid."
   ]
  },
  {
   "cell_type": "code",
   "execution_count": 429,
   "metadata": {},
   "outputs": [],
   "source": [
    "random_state = 42\n",
    "def sample_dataset(dataset, sample_size, num_discard_lead_samples=0, only_sample_codes=None):\n",
    "    samples = []\n",
    "    for code, group_df in dataset.groupby('icd9'):\n",
    "        if only_sample_codes is not None and code not in only_sample_codes:\n",
    "            continue\n",
    "        sample_df = group_df.sample(min(group_df.shape[0], sample_size), random_state=random_state).loc[:, ['hadm']]\n",
    "        sample_df.iloc[num_discard_lead_samples:]\n",
    "        sample_df['icd9'] = code\n",
    "        sample_df['text'] = [notes[notes.name == str(sample.hadm)].text.iloc[0] for sample in sample_df.itertuples()]\n",
    "        samples.append(sample_df)\n",
    "    return pd.concat(samples).reset_index(drop=True)"
   ]
  },
  {
   "cell_type": "markdown",
   "metadata": {},
   "source": [
    "### Sample - Prediction and Assigned"
   ]
  },
  {
   "cell_type": "code",
   "execution_count": 430,
   "metadata": {},
   "outputs": [],
   "source": [
    "sample_dataset(joined_df[joined_df.match == 'match'], 10).to_csv('sampled_correct_preds.csv', index=False)"
   ]
  },
  {
   "cell_type": "markdown",
   "metadata": {},
   "source": [
    "### Sample - Pred and Not Assigned"
   ]
  },
  {
   "cell_type": "code",
   "execution_count": null,
   "metadata": {},
   "outputs": [],
   "source": [
    "sample_dataset(joined_df[joined_df.match == 'pred_no_assign'], 10).to_csv('sampled_preds_no_assign.csv', index=False)"
   ]
  },
  {
   "cell_type": "markdown",
   "metadata": {},
   "source": [
    "### Sample - Assigned, No Pred"
   ]
  },
  {
   "cell_type": "code",
   "execution_count": null,
   "metadata": {},
   "outputs": [],
   "source": [
    "sample_dataset(joined_df[joined_df.match == 'assigned_no_pred'], 10).to_csv('sampled_assigned_no_pred.csv', index=False)"
   ]
  },
  {
   "cell_type": "markdown",
   "metadata": {},
   "source": [
    "# Create Datasets to be evaluated in MedCATTrainer\n",
    "We use a running instance of the [MedCATTrainer](https://github.com/Cogstack/MedCATTrainer) interface.\n",
    "\n",
    "We use the ReST API for creating datasets / projects"
   ]
  },
  {
   "cell_type": "code",
   "execution_count": 10,
   "metadata": {},
   "outputs": [],
   "source": [
    "import requests\n",
    "import json\n",
    "import pandas as pd"
   ]
  },
  {
   "cell_type": "markdown",
   "metadata": {},
   "source": [
    "### First 'Login' to the API with Username and Password.\n",
    "The returned API token once logged in is used in subsequent request headers."
   ]
  },
  {
   "cell_type": "code",
   "execution_count": 16,
   "metadata": {},
   "outputs": [],
   "source": [
    "headers = {\n",
    "    'Authorization': f'Token {json.loads(requests.post(\"http://localhost:8001/api/api-token-auth/\", json={\"username\": \"admin\", \"password\": \"admin\"}).text)[\"token\"]}',\n",
    "}"
   ]
  },
  {
   "cell_type": "markdown",
   "metadata": {},
   "source": [
    "### Create Datasets for Fine-Tuning / Validation\n",
    "Each ICD-9 Code for each of the 3 (**A_NP**, **P_A**, **P_NA**) are created."
   ]
  },
  {
   "cell_type": "code",
   "execution_count": 100,
   "metadata": {},
   "outputs": [],
   "source": [
    "def create_datasets(filename, dataset_name_prefix, dataset_desc_prefix):\n",
    "    dataset_ids = []\n",
    "    for code, group_df in list(pd.read_csv(filename).groupby('icd9')):\n",
    "        group_df.columns = ['name', 'icd9', 'text']\n",
    "        payload = {\n",
    "            'dataset_name': f'{dataset_name_prefix}{code}',\n",
    "            'dataset': group_df.loc[:, ['name', 'text']].to_dict(),\n",
    "            'description': f'{dataset_desc_prefix}{code}',\n",
    "        }\n",
    "        resp = requests.post('http://localhost:8001/api/create-dataset/', json=payload, headers=headers)\n",
    "        dataset_ids.append(json.loads(resp.text)['dataset_id'])\n",
    "    return dataset_ids"
   ]
  },
  {
   "cell_type": "code",
   "execution_count": null,
   "metadata": {},
   "outputs": [],
   "source": [
    "assn_no_pred_dataset_ids = create_datasets('sampled_assigned_no_pred.csv', 'Assn No Pred ', 'Assigned with no prediction for code ')"
   ]
  },
  {
   "cell_type": "code",
   "execution_count": 114,
   "metadata": {},
   "outputs": [],
   "source": [
    "assn_pred_dataset_ids = create_datasets('sampled_correct_preds.csv', 'Corr No Pred ', 'Assigned and predicted for code ')"
   ]
  },
  {
   "cell_type": "code",
   "execution_count": 106,
   "metadata": {},
   "outputs": [],
   "source": [
    "preds_no_assgn_dataset_ids = create_datasets('sampled_preds_no_assign.csv', 'Preds No Assn ', 'Predicted but no assignment for code ')"
   ]
  },
  {
   "cell_type": "markdown",
   "metadata": {},
   "source": [
    "### Create Projects for Fine-Tuning / Validation\n",
    "Each ICD-9 Code for each of the 3 (**A_NP**, **P_A**, **P_NA**) are created.\n",
    "\n",
    "We create an associated .csv file for each of 3 datasets to track the manual validation / fine-tuning effort."
   ]
  },
  {
   "cell_type": "code",
   "execution_count": 102,
   "metadata": {},
   "outputs": [],
   "source": [
    "icd10_mapping.icd10_code = icd10_mapping.icd10_code.str.replace('.', '')\n",
    "icd9_to_10_mapping.reset_index(inplace=True)"
   ]
  },
  {
   "cell_type": "code",
   "execution_count": 112,
   "metadata": {},
   "outputs": [],
   "source": [
    "def create_projects(project_prefix, filename, dataset_ids):\n",
    "    code_maps = {'icd9_code': [], 'icd9_long_title': [], 'icd10_code': [], 'umls_cuis': []}\n",
    "    for dataset_id, (code, group_df) in zip(dataset_ids, pd.read_csv(filename).groupby('icd9')):\n",
    "        icd10_mapped_codes = icd9_to_10_mapping[icd9_to_10_mapping.icd9cm == code].icd10cm.tolist()\n",
    "        cuis = list(chain.from_iterable([c.split('|') for c in icd10_mapping[icd10_mapping.icd10_code.isin(icd10_mapped_codes)].CUI.tolist()]))\n",
    "        payload = {\n",
    "            'name': f'{project_prefix} - DS: {dataset_id} code: {code} desc: {codes[codes.icd9 == code].iloc[0].short_title}',\n",
    "            'description': '',\n",
    "            'cuis': ','.join(cuis),\n",
    "            'tuis': '',\n",
    "            'require_entity_validation': True,\n",
    "            'train_model_on_submit': True,\n",
    "            'dataset': dataset_id,\n",
    "            'concept_db': 3, # UMLS Full CDB \n",
    "            'vocab': 1, # vocab full\n",
    "            'members': [1]\n",
    "        }\n",
    "        code_maps['icd9_code'].append(code)\n",
    "        code_maps['icd9_long_title'].append(search(code).long_desc)\n",
    "        code_maps['icd10_code'].append(icd10_mapped_codes)\n",
    "        code_maps['umls_cuis'].append(cuis)\n",
    "        resp = requests.post('http://localhost:8001/api/project-annotate-entities/', json=payload, headers=headers)\n",
    "        if resp.ok:\n",
    "            print(f'created project for dataset:{dataset_id}')\n",
    "        else:\n",
    "            print(f'error creating project for dataset:{dataset_id}')\n",
    "            print(resp.text)\n",
    "            raise Exception()\n",
    "    return code_maps"
   ]
  },
  {
   "cell_type": "code",
   "execution_count": 207,
   "metadata": {},
   "outputs": [],
   "source": [
    "df = list(pd.read_csv('sampled_assigned_no_pred.csv').groupby('icd9'))\n",
    "icd9_to_10_mapping[icd9_to_10_mapping.icd9cm == '00845'].icd10cm.tolist()\n",
    "df = list(pd.read_csv('sampled_correct_preds.csv').groupby('icd9'))"
   ]
  },
  {
   "cell_type": "code",
   "execution_count": 252,
   "metadata": {},
   "outputs": [],
   "source": [
    "code_maps_asssn_no_preds = create_projects('Assn No Prd', 'sampled_assigned_no_pred.csv', assn_no_pred_dataset_ids)\n",
    "pd.DataFrame(code_maps_asssn_no_preds).to_csv('code_maps_sampled_assgned_no_pred.csv', index=False)"
   ]
  },
  {
   "cell_type": "code",
   "execution_count": null,
   "metadata": {},
   "outputs": [],
   "source": [
    "code_maps_preds_no_assign = create_projects('Prd N Asn', 'sampled_preds_no_assign.csv', preds_no_assgn_dataset_ids)\n",
    "pd.DataFrame(code_maps_preds_no_assign).to_csv('code_maps_sampeld_preds_no_assn.csv', index=False)"
   ]
  },
  {
   "cell_type": "code",
   "execution_count": 124,
   "metadata": {},
   "outputs": [],
   "source": [
    "code_maps_correct_preds = create_projects('Cor Prd', 'sampled_correct_preds.csv', assn_pred_dataset_ids)\n",
    "pd.DataFrame(code_maps_correct_preds).to_csv('code_maps_sampled_correct_preds.csv', index=False)"
   ]
  },
  {
   "cell_type": "markdown",
   "metadata": {},
   "source": [
    "## Manual validation of above samples of each Dataset\n",
    "Each csv dataset has an associated .xlsx, with further columns added for validation."
   ]
  },
  {
   "cell_type": "markdown",
   "metadata": {},
   "source": [
    "### Further Samples of Assigned but no prediction from MedCAT\n",
    "- During validation of the 'Assigned with no prediction of code', we annotate if more samples are required.\n",
    "- Re-sample only those with 'TRUE' in the column of more_samples_required."
   ]
  },
  {
   "cell_type": "code",
   "execution_count": 422,
   "metadata": {},
   "outputs": [],
   "source": [
    "code_maps_assn_no_preds_complete = pd.read_excel('code_maps_sampled_assgned_no_pred.xlsx')"
   ]
  },
  {
   "cell_type": "code",
   "execution_count": 425,
   "metadata": {},
   "outputs": [],
   "source": [
    "icd9_codes_to_resample = code_maps_assn_no_preds_complete[code_maps_assn_no_preds_complete.more_samples_required].icd9_code.tolist()"
   ]
  },
  {
   "cell_type": "code",
   "execution_count": 433,
   "metadata": {},
   "outputs": [],
   "source": [
    "sample_dataset(joined_df[joined_df.match == 'assigned_no_pred'], 10, 10, icd9_codes_to_resample).to_csv('sampled_assigned_no_pred_more.csv', index=False)"
   ]
  },
  {
   "cell_type": "code",
   "execution_count": null,
   "metadata": {},
   "outputs": [],
   "source": []
  },
  {
   "cell_type": "markdown",
   "metadata": {},
   "source": [
    "### Analyse Annotations\n",
    "Group annotations by top level axis and plot "
   ]
  },
  {
   "cell_type": "code",
   "execution_count": 78,
   "metadata": {},
   "outputs": [],
   "source": [
    "def find_root_axis(code): \n",
    "    par = code.parent\n",
    "    if par is not None:\n",
    "        return find_root_axis(par)\n",
    "    else:\n",
    "        return code"
   ]
  },
  {
   "cell_type": "code",
   "execution_count": 108,
   "metadata": {},
   "outputs": [
    {
     "name": "stderr",
     "output_type": "stream",
     "text": [
      "<ipython-input-108-54d51beb618b>:13: SettingWithCopyWarning: \n",
      "A value is trying to be set on a copy of a slice from a DataFrame.\n",
      "Try using .loc[row_indexer,col_indexer] = value instead\n",
      "\n",
      "See the caveats in the documentation: https://pandas.pydata.org/pandas-docs/stable/user_guide/indexing.html#returning-a-view-versus-a-copy\n",
      "  all_assn_no_pred['root_axis'] = all_assn_no_pred.icd9.apply(lambda code: find_root_axis(search(code))).apply(str)\n"
     ]
    }
   ],
   "source": [
    "assn_no_pred = pd.DataFrame(json.load(open('data/MedCAT_Export_With_Text_Assn_No_Pred.json'))['projects'])\n",
    "assn_no_pred = assn_no_pred.iloc[:-3]\n",
    "assn_no_pred['icd9'] = assn_no_pred.loc[:, 'name'].str.split(':').apply(lambda l: l[2].strip().split(' ')[0])\n",
    "\n",
    "assn_no_pred['root_axis'] = assn_no_pred.icd9.apply(lambda code: find_root_axis(search(code))).apply(str)\n",
    "assn_no_pred['annotations'] = assn_no_pred.loc[:, 'documents'].apply(lambda docs: [a for d in docs for a in d['annotations']])\n",
    "assn_no_pred['annos_len'] = assn_no_pred.annotations.apply(len)\n",
    "annos_by_axis = assn_no_pred.loc[:, ['root_axis', 'annos_len']].groupby('root_axis').sum()\n",
    "# clean up the axis-names\n",
    "x_axis_ticks = [s.split(':')[0] for s in annos_by_axis.index]\n",
    "\n",
    "all_assn_no_pred = joined_df[joined_df.match == 'assigned_no_pred']\n",
    "all_assn_no_pred['root_axis'] = all_assn_no_pred.icd9.apply(lambda code: find_root_axis(search(code))).apply(str)\n",
    "all_assn_no_pred = all_assn_no_pred.loc[:, ['icd9', 'root_axis']]\n",
    "all_assn_no_pred['root_axis'] = all_assn_no_pred.root_axis.str.split(':').apply(lambda l: l[0])\n",
    "all_assn_no_pred = all_assn_no_pred.groupby('root_axis').count()"
   ]
  },
  {
   "cell_type": "code",
   "execution_count": 109,
   "metadata": {},
   "outputs": [
    {
     "data": {
      "image/png": "[encoded data removed]",
      "text/plain": [
       "<Figure size 576x432 with 2 Axes>"
      ]
     },
     "metadata": {
      "needs_background": "light"
     },
     "output_type": "display_data"
    }
   ],
   "source": [
    "fig, ax = plt.subplots(figsize=(8, 6))\n",
    "indices = range(len(annos_by_axis.annos_len.tolist()))\n",
    "width = np.min(np.diff(indices))/3\n",
    "\n",
    "ax2 = ax.twiny()\n",
    "\n",
    "color_1 = 'tab:blue'\n",
    "color_2 = 'tab:orange'\n",
    "\n",
    "bar1 = ax.barh(indices - width / 2, annos_by_axis.annos_len, width, label='Annotations Collected', color=color_1)\n",
    "ax.set_yticks(indices)\n",
    "ax.set_yticklabels(x_axis_ticks)\n",
    "ax.set_ylabel('Top Level ICD-9 Code Axis', fontsize=16)\n",
    "ax.set_xlabel('# of annotations collected', color=color_1, fontsize=16)\n",
    "\n",
    "bar2 = ax2.barh(indices + width / 2, all_assn_no_pred.icd9, width, label='Assigned Codes MIMIC-III', color=color_2)\n",
    "ax2.set_xlabel('# of assigned codes', color=color_2, fontsize=14)\n",
    "\n",
    "plt.legend([bar1, bar2], [bar1.get_label(), bar2.get_label()], fontsize=12)\n",
    "plt.tight_layout()\n",
    "plt.savefig('./plots/training_data_collected_stacked.png')\n",
    "plt.show()"
   ]
  },
  {
   "cell_type": "markdown",
   "metadata": {},
   "source": [
    "### Analysis of Validated Codes\n",
    "- We keep predictions of codes that have been validated as correctly predicted across all instances for both Predicted, Not Assigned and Predicted, Assigned."
   ]
  },
  {
   "cell_type": "code",
   "execution_count": 41,
   "metadata": {},
   "outputs": [],
   "source": [
    "pred_corr_assn = pd.DataFrame(json.load(open('data/MedCAT_Export_With_Text_Pred_Corr.json'))['projects'])\n",
    "pred_corr_no_assn = pd.DataFrame(json.load(open('data/MedCAT_Export_With_Text_Pred_No_Assn.json'))['projects'])"
   ]
  },
  {
   "cell_type": "code",
   "execution_count": 61,
   "metadata": {},
   "outputs": [
    {
     "data": {
      "text/plain": [
       "1588"
      ]
     },
     "execution_count": 61,
     "metadata": {},
     "output_type": "execute_result"
    }
   ],
   "source": [
    "sum([len(d) for d in pred_corr_assn.documents])"
   ]
  },
  {
   "cell_type": "code",
   "execution_count": 62,
   "metadata": {},
   "outputs": [
    {
     "data": {
      "text/plain": [
       "1580"
      ]
     },
     "execution_count": 62,
     "metadata": {},
     "output_type": "execute_result"
    }
   ],
   "source": [
    "sum([len(d) for d in pred_corr_no_assn.documents])"
   ]
  },
  {
   "cell_type": "code",
   "execution_count": 42,
   "metadata": {},
   "outputs": [],
   "source": [
    "projs = json.load(open('data/MedCAT_Export_With_Text_Pred_Corr.json'))['projects'] "
   ]
  },
  {
   "cell_type": "code",
   "execution_count": 43,
   "metadata": {},
   "outputs": [],
   "source": [
    "pred_corr_all_corr_projs = [p for p in projs if all([all(a['correct'] for a in d['annotations']) for d in p['documents']])]"
   ]
  },
  {
   "cell_type": "code",
   "execution_count": 44,
   "metadata": {},
   "outputs": [
    {
     "data": {
      "text/plain": [
       "95.53"
      ]
     },
     "execution_count": 44,
     "metadata": {},
     "output_type": "execute_result"
    }
   ],
   "source": [
    "round(len(pred_corr_all_corr_projs) / len(projs) * 100, 2)"
   ]
  },
  {
   "cell_type": "code",
   "execution_count": 45,
   "metadata": {},
   "outputs": [],
   "source": [
    "wrong_codes_p_a = set([p['name'].split(':')[2].strip().split(' ')[0] for p in projs]) - set([p['name'].split(':')[2].strip().split(' ')[0] for p in pred_corr_all_corr_projs])"
   ]
  },
  {
   "cell_type": "code",
   "execution_count": 46,
   "metadata": {},
   "outputs": [
    {
     "data": {
      "text/plain": [
       "{'1120', '185', '3485', '4271', '51889', '58381', '5859', 'V08'}"
      ]
     },
     "execution_count": 46,
     "metadata": {},
     "output_type": "execute_result"
    }
   ],
   "source": [
    "wrong_codes_p_a"
   ]
  },
  {
   "cell_type": "code",
   "execution_count": 47,
   "metadata": {},
   "outputs": [],
   "source": [
    "projs_no_assn = json.load(open('data/MedCAT_Export_With_Text_Pred_No_Assn.json'))['projects'] "
   ]
  },
  {
   "cell_type": "code",
   "execution_count": 48,
   "metadata": {},
   "outputs": [],
   "source": [
    "pred_no_assn_all_corr_projs = [p for p in projs_no_assn if all([all(a['correct'] for a in d['annotations']) for d in p['documents']])]"
   ]
  },
  {
   "cell_type": "code",
   "execution_count": 49,
   "metadata": {},
   "outputs": [
    {
     "data": {
      "text/plain": [
       "87.91"
      ]
     },
     "execution_count": 49,
     "metadata": {},
     "output_type": "execute_result"
    }
   ],
   "source": [
    "round(len(pred_no_assn_all_corr_projs) / len(projs_no_assn) * 100, 2)"
   ]
  },
  {
   "cell_type": "code",
   "execution_count": 121,
   "metadata": {},
   "outputs": [],
   "source": [
    "wrong_codes_p_na = set([p['name'].split(':')[2].strip().split(' ')[0] for p in projs_no_assn]) - set([p['name'].split(':')[2].strip().split(' ')[0] for p in pred_no_assn_all_corr_projs])"
   ]
  },
  {
   "cell_type": "code",
   "execution_count": 122,
   "metadata": {},
   "outputs": [],
   "source": [
    "codes_to_remove = wrong_codes_p_a | wrong_codes_p_na"
   ]
  },
  {
   "cell_type": "markdown",
   "metadata": {},
   "source": [
    "### Analyse Annotations from Fine-Tuned MedCAT"
   ]
  },
  {
   "cell_type": "code",
   "execution_count": 69,
   "metadata": {},
   "outputs": [],
   "source": [
    "objs = json.load(open('data/mimic_dd_annos_fine_tuned_cat.json'))"
   ]
  },
  {
   "cell_type": "code",
   "execution_count": 70,
   "metadata": {},
   "outputs": [],
   "source": [
    "parsed_dd_mapped_to_icd9 = map_medcat_annos_to_icd9(objs, notes, codes, cuis_to_keep)"
   ]
  },
  {
   "cell_type": "code",
   "execution_count": 71,
   "metadata": {},
   "outputs": [],
   "source": [
    "joined_df_fine_tuned = remove_duplicate_mapped_assigned_codes(notes, codes, parsed_dd_mapped_to_icd9)"
   ]
  },
  {
   "cell_type": "code",
   "execution_count": 73,
   "metadata": {},
   "outputs": [
    {
     "ename": "NameError",
     "evalue": "name 'wrong_codes' is not defined",
     "output_type": "error",
     "traceback": [
      "\u001b[0;31m---------------------------------------------------------------------------\u001b[0m",
      "\u001b[0;31mNameError\u001b[0m                                 Traceback (most recent call last)",
      "\u001b[0;32m<ipython-input-73-154971d86dab>\u001b[0m in \u001b[0;36m<module>\u001b[0;34m\u001b[0m\n\u001b[0;32m----> 1\u001b[0;31m \u001b[0mjoined_df_fine_tuned\u001b[0m\u001b[0;34m[\u001b[0m\u001b[0;34m~\u001b[0m\u001b[0mjoined_df_fine_tuned\u001b[0m\u001b[0;34m.\u001b[0m\u001b[0micd9\u001b[0m\u001b[0;34m.\u001b[0m\u001b[0misin\u001b[0m\u001b[0;34m(\u001b[0m\u001b[0mwrong_codes\u001b[0m\u001b[0;34m)\u001b[0m\u001b[0;34m]\u001b[0m\u001b[0;34m\u001b[0m\u001b[0;34m\u001b[0m\u001b[0m\n\u001b[0m",
      "\u001b[0;31mNameError\u001b[0m: name 'wrong_codes' is not defined"
     ]
    }
   ],
   "source": [
    "joined_df_fine_tuned[~joined_df_fine_tuned.icd9.isin(wrong_codes)]"
   ]
  },
  {
   "cell_type": "code",
   "execution_count": 114,
   "metadata": {},
   "outputs": [
    {
     "data": {
      "text/plain": [
       "assigned_no_pred    399627\n",
       "match                36869\n",
       "pred_no_assign       32207\n",
       "Name: match, dtype: int64"
      ]
     },
     "execution_count": 114,
     "metadata": {},
     "output_type": "execute_result"
    }
   ],
   "source": [
    "joined_df.match.value_counts()"
   ]
  },
  {
   "cell_type": "code",
   "execution_count": null,
   "metadata": {},
   "outputs": [],
   "source": [
    "wrong_codes"
   ]
  },
  {
   "cell_type": "code",
   "execution_count": 130,
   "metadata": {},
   "outputs": [
    {
     "name": "stdout",
     "output_type": "stream",
     "text": [
      "179\n",
      "183\n"
     ]
    }
   ],
   "source": [
    "y_unsupervised = compute_y(joined_df, codes_to_remove)\n",
    "y_supervised = compute_y(joined_df_fine_tuned, codes_to_remove)"
   ]
  },
  {
   "cell_type": "code",
   "execution_count": 133,
   "metadata": {},
   "outputs": [
    {
     "data": {
      "image/png": "[encoded data removed]",
      "text/plain": [
       "<Figure size 504x360 with 1 Axes>"
      ]
     },
     "metadata": {
      "needs_background": "light"
     },
     "output_type": "display_data"
    }
   ],
   "source": [
    "labels = ['Assigned &\\n Not Predicted', 'Assigned &\\nNot Predicted\\n(filtered)', 'Predicted &\\n Assigned', 'Predicted &\\n Not Assigned']\n",
    "indices = range(len(labels))\n",
    "width = np.min(np.diff(indices))/3\n",
    "\n",
    "fig, (ax) = plt.subplots(figsize=(7, 5))\n",
    "ax.bar(indices - width / 2, y_unsupervised, width, label='MedCAT:out-of-the-box')\n",
    "ax.bar(indices + width / 2, y_supervised, width, label='MedCAT:fine-tuned')\n",
    "ax.set_xticks(range(len(labels)))\n",
    "ax.set_xticklabels(labels)\n",
    "ax.set_ylabel('# of codes assigned')\n",
    "\n",
    "ax.legend()\n",
    "\n",
    "plt.savefig(f'./plots/aggregate_code_counts.png')\n",
    "plt.show()"
   ]
  },
  {
   "cell_type": "code",
   "execution_count": 137,
   "metadata": {},
   "outputs": [
    {
     "data": {
      "text/plain": [
       "[389933, 216116, 42837, 42243]"
      ]
     },
     "execution_count": 137,
     "metadata": {},
     "output_type": "execute_result"
    }
   ],
   "source": [
    "y_supervised"
   ]
  },
  {
   "cell_type": "code",
   "execution_count": 143,
   "metadata": {},
   "outputs": [
    {
     "data": {
      "text/plain": [
       "432770"
      ]
     },
     "execution_count": 143,
     "metadata": {},
     "output_type": "execute_result"
    }
   ],
   "source": [
    "(y_supervised[-2] + y_supervised[0])"
   ]
  },
  {
   "cell_type": "code",
   "execution_count": 144,
   "metadata": {},
   "outputs": [
    {
     "data": {
      "text/plain": [
       "0.16542384139206728"
      ]
     },
     "execution_count": 144,
     "metadata": {},
     "output_type": "execute_result"
    }
   ],
   "source": [
    "y_supervised[-2] / (y_supervised[-2] + y_supervised[1])"
   ]
  },
  {
   "cell_type": "code",
   "execution_count": 142,
   "metadata": {},
   "outputs": [
    {
     "data": {
      "text/plain": [
       "9.898329366638169"
      ]
     },
     "execution_count": 142,
     "metadata": {},
     "output_type": "execute_result"
    }
   ],
   "source": [
    " y_supervised[-2] / (y_supervised[-2] + y_supervised[0]) * 100"
   ]
  },
  {
   "cell_type": "markdown",
   "metadata": {},
   "source": [
    "### Aggregate Prediction Improvements since Fine-Tuning"
   ]
  },
  {
   "cell_type": "code",
   "execution_count": 270,
   "metadata": {},
   "outputs": [
    {
     "data": {
      "text/plain": [
       "26.299999999999997"
      ]
     },
     "execution_count": 270,
     "metadata": {},
     "output_type": "execute_result"
    }
   ],
   "source": [
    "round(joined_df_fine_tuned[joined_df_fine_tuned.match == 'match'].shape[0] / joined_df[joined_df.match == 'match'].shape[0]  * 100, 2) - 100"
   ]
  },
  {
   "cell_type": "code",
   "execution_count": 373,
   "metadata": {},
   "outputs": [
    {
     "data": {
      "text/plain": [
       "9694"
      ]
     },
     "execution_count": 373,
     "metadata": {},
     "output_type": "execute_result"
    }
   ],
   "source": [
    "joined_df_fine_tuned[joined_df_fine_tuned.match == 'match'].shape[0] - joined_df[joined_df.match == 'match'].shape[0]"
   ]
  },
  {
   "cell_type": "code",
   "execution_count": 268,
   "metadata": {},
   "outputs": [
    {
     "data": {
      "text/plain": [
       "49.81999999999999"
      ]
     },
     "execution_count": 268,
     "metadata": {},
     "output_type": "execute_result"
    }
   ],
   "source": [
    "round(joined_df_fine_tuned[joined_df_fine_tuned.match == 'pred_no_assign'].shape[0] / joined_df[joined_df.match == 'pred_no_assign'].shape[0]  * 100, 2) - 100"
   ]
  },
  {
   "cell_type": "code",
   "execution_count": 374,
   "metadata": {},
   "outputs": [
    {
     "data": {
      "text/plain": [
       "16041"
      ]
     },
     "execution_count": 374,
     "metadata": {},
     "output_type": "execute_result"
    }
   ],
   "source": [
    "joined_df_fine_tuned[joined_df_fine_tuned.match == 'pred_no_assign'].shape[0] - joined_df[joined_df.match == 'pred_no_assign'].shape[0]"
   ]
  },
  {
   "cell_type": "code",
   "execution_count": 376,
   "metadata": {},
   "outputs": [
    {
     "data": {
      "text/plain": [
       "0.12369917886066276"
      ]
     },
     "execution_count": 376,
     "metadata": {},
     "output_type": "execute_result"
    }
   ],
   "source": [
    "joined_df_fine_tuned[joined_df_fine_tuned.match == 'pred_no_assign'].shape[0] / joined_df_fine_tuned[joined_df_fine_tuned.match == 'assigned_no_pred'].shape[0]"
   ]
  },
  {
   "cell_type": "code",
   "execution_count": 380,
   "metadata": {},
   "outputs": [
    {
     "data": {
      "text/plain": [
       "0.11165392131218169"
      ]
     },
     "execution_count": 380,
     "metadata": {},
     "output_type": "execute_result"
    }
   ],
   "source": [
    "y_supervised[2]/ y_supervised[0]"
   ]
  },
  {
   "cell_type": "code",
   "execution_count": 113,
   "metadata": {},
   "outputs": [
    {
     "ename": "NameError",
     "evalue": "name 'y_supervised' is not defined",
     "output_type": "error",
     "traceback": [
      "\u001b[0;31m---------------------------------------------------------------------------\u001b[0m",
      "\u001b[0;31mNameError\u001b[0m                                 Traceback (most recent call last)",
      "\u001b[0;32m<ipython-input-113-6b680809692c>\u001b[0m in \u001b[0;36m<module>\u001b[0;34m\u001b[0m\n\u001b[0;32m----> 1\u001b[0;31m \u001b[0my_supervised\u001b[0m\u001b[0;34m\u001b[0m\u001b[0;34m\u001b[0m\u001b[0m\n\u001b[0m",
      "\u001b[0;31mNameError\u001b[0m: name 'y_supervised' is not defined"
     ]
    }
   ],
   "source": []
  },
  {
   "cell_type": "markdown",
   "metadata": {},
   "source": [
    "## Discussion Section Analysis"
   ]
  },
  {
   "cell_type": "markdown",
   "metadata": {},
   "source": [
    "### DD Subsection Total Assigned Codes Coverage of text"
   ]
  },
  {
   "cell_type": "code",
   "execution_count": 3,
   "metadata": {},
   "outputs": [],
   "source": [
    "all_annos = json.load(open('data/mimic_dd_annos_fine_tuned_cat.json'))"
   ]
  },
  {
   "cell_type": "code",
   "execution_count": 4,
   "metadata": {},
   "outputs": [],
   "source": [
    "output_text = []\n",
    "ents = []\n",
    "text_raw = []\n",
    "for doc_annos in all_annos:\n",
    "    t = doc_annos['text']\n",
    "    r_l = 0\n",
    "    for a in doc_annos['entities']:\n",
    "        start = a['start'] - r_l\n",
    "        end = a['end'] - r_l\n",
    "        r_l = a['end'] - a['start']\n",
    "        new_t_tmp = t[:start]\n",
    "        t = new_t_tmp + t[end:]\n",
    "    output_text.append(t)\n",
    "    text_raw.append(doc_annos['text'])\n",
    "    ents.append(doc_annos['entities'])"
   ]
  },
  {
   "cell_type": "code",
   "execution_count": 5,
   "metadata": {},
   "outputs": [],
   "source": [
    "coverage_df = pd.DataFrame({'text': text_raw, 'parsed_text': output_text, 'ents': ents})"
   ]
  },
  {
   "cell_type": "code",
   "execution_count": 6,
   "metadata": {},
   "outputs": [],
   "source": [
    "coverage_df['parsed_text_clean'] = coverage_df.parsed_text.str.lower()\\\n",
    "    .str.replace('\\n', '')\\\n",
    "    .str.replace('\\,|\\.|:|;|\\||\\[|\\]|\\{|\\}|\\||\\(|\\)|\\*|-|\"', '')\\\n",
    "    .str.replace('\\d', '')\\\n",
    "    .str.replace('primary', '')\\\n",
    "    .str.replace('secondary', '')\\\n",
    "    .str.replace('diagnosis', '')"
   ]
  },
  {
   "cell_type": "code",
   "execution_count": 7,
   "metadata": {},
   "outputs": [],
   "source": [
    "coverage_df['%_covered'] = round((coverage_df.text.str.len() - coverage_df.parsed_text_clean.str.len()) / coverage_df.text.str.len(), 2) * 100"
   ]
  },
  {
   "cell_type": "code",
   "execution_count": 8,
   "metadata": {},
   "outputs": [
    {
     "data": {
      "text/plain": [
       "(2105, 5)"
      ]
     },
     "execution_count": 8,
     "metadata": {},
     "output_type": "execute_result"
    }
   ],
   "source": [
    "coverage_df[coverage_df['%_covered'] == 100.0].shape"
   ]
  },
  {
   "cell_type": "code",
   "execution_count": 9,
   "metadata": {},
   "outputs": [
    {
     "data": {
      "text/plain": [
       "0         46.0\n",
       "1        100.0\n",
       "2         53.0\n",
       "3         49.0\n",
       "4         50.0\n",
       "         ...  \n",
       "48893     28.0\n",
       "48894     86.0\n",
       "48895     33.0\n",
       "48896     26.0\n",
       "48897     72.0\n",
       "Name: %_covered, Length: 48898, dtype: float64"
      ]
     },
     "execution_count": 9,
     "metadata": {},
     "output_type": "execute_result"
    }
   ],
   "source": [
    "coverage_df['%_covered']"
   ]
  },
  {
   "cell_type": "code",
   "execution_count": 10,
   "metadata": {},
   "outputs": [
    {
     "data": {
      "text/plain": [
       "47.37932021759581"
      ]
     },
     "execution_count": 10,
     "metadata": {},
     "output_type": "execute_result"
    }
   ],
   "source": [
    "coverage_df['%_covered'].mean()"
   ]
  },
  {
   "cell_type": "code",
   "execution_count": 11,
   "metadata": {},
   "outputs": [
    {
     "data": {
      "image/png": "[encoded data removed]",
      "text/plain": [
       "<Figure size 504x216 with 2 Axes>"
      ]
     },
     "metadata": {
      "needs_background": "light"
     },
     "output_type": "display_data"
    }
   ],
   "source": [
    "fig, (ax, ax2) = plt.subplots(1, 2, figsize=(7, 3))\n",
    "cov = coverage_df['%_covered'].value_counts().sort_index() \n",
    "ax.bar(cov.index, cov.tolist())\n",
    "ax.set_xlabel('% of DD Text Covered \\nby MedCAT Predicted Codes', fontsize=12)\n",
    "ax.set_ylabel('Counts of Admissions', fontsize=12)\n",
    "\n",
    "toks_len = coverage_df.text.str.split(' ').apply(len).value_counts().sort_index().iloc[0:100]\n",
    "ax2.bar(toks_len.index, toks_len.tolist())\n",
    "ax2.set_xlabel('Token Length of \\nDD Subsections', fontsize=12)\n",
    "# ax2.set_ylabel('Counts of Admissions', fontsize=12)\n",
    "plt.tight_layout()\n",
    "plt.savefig('plots/dd_prediction_coverage.png')\n",
    "plt.show()"
   ]
  },
  {
   "cell_type": "code",
   "execution_count": 13,
   "metadata": {},
   "outputs": [],
   "source": [
    "cov_len_srs = coverage_df.text.str.split(' ').apply(len)"
   ]
  },
  {
   "cell_type": "code",
   "execution_count": 14,
   "metadata": {},
   "outputs": [
    {
     "name": "stdout",
     "output_type": "stream",
     "text": [
      "Coverage Distribution: mean:14.542169413881957, sigma: 15.903119444412367\n",
      "Median:10.0, IQR:14.0\n"
     ]
    }
   ],
   "source": [
    "print(f\"Coverage Distribution: mean:{cov_len_srs.mean()}, sigma: {cov_len_srs.std()}\")\n",
    "print(f\"Median:{cov_len_srs.median()}, IQR:{cov_len_srs.quantile(0.75) - cov_len_srs.quantile(0.25)}\")"
   ]
  },
  {
   "cell_type": "code",
   "execution_count": 15,
   "metadata": {},
   "outputs": [
    {
     "name": "stdout",
     "output_type": "stream",
     "text": [
      "Entities Extracted: mean: 3.6076935661990266, sigma:3.139975655480332\n",
      "Median:3.0, IQR:4.0\n"
     ]
    }
   ],
   "source": [
    "coverage_df['num_ents'] = coverage_df.ents.apply(len)\n",
    "print(f\"Entities Extracted: mean: {coverage_df.num_ents.mean()}, sigma:{coverage_df.num_ents.std()}\")\n",
    "print(f\"Median:{coverage_df.num_ents.median()}, IQR:{coverage_df.num_ents.quantile(0.75) - coverage_df.num_ents.quantile(0.25)}\")"
   ]
  },
  {
   "cell_type": "code",
   "execution_count": 12,
   "metadata": {},
   "outputs": [
    {
     "data": {
      "text/plain": [
       "10.0"
      ]
     },
     "execution_count": 12,
     "metadata": {},
     "output_type": "execute_result"
    }
   ],
   "source": [
    "coverage_df.text.str.split(' ').apply(len).median()"
   ]
  },
  {
   "cell_type": "code",
   "execution_count": null,
   "metadata": {},
   "outputs": [],
   "source": []
  },
  {
   "cell_type": "markdown",
   "metadata": {},
   "source": [
    "### Predicted and Assigned\n",
    "- Distribution of HADMs that matched\n",
    "- \\# of matches correlation with length of DD, and discharge summary\n",
    "- distribution of matches over codes\n",
    "- top codes that matched"
   ]
  },
  {
   "cell_type": "code",
   "execution_count": 191,
   "metadata": {},
   "outputs": [],
   "source": [
    "df_ft = joined_df_fine_tuned"
   ]
  },
  {
   "cell_type": "code",
   "execution_count": 192,
   "metadata": {},
   "outputs": [],
   "source": [
    "all_assigns = df_ft[(df_ft.match == 'assigned_no_pred') | (df_ft.match == 'match')]"
   ]
  },
  {
   "cell_type": "code",
   "execution_count": 193,
   "metadata": {},
   "outputs": [],
   "source": [
    "matched = df_ft[df_ft.match == 'match']\n",
    "no_assn = df_ft[df_ft.match == 'assigned_no_pred']"
   ]
  },
  {
   "cell_type": "code",
   "execution_count": 194,
   "metadata": {},
   "outputs": [],
   "source": [
    "h_counts_n_assn = no_assn.groupby('hadm').count().icd9\n",
    "h_counts_match = matched.groupby('hadm').count().icd9"
   ]
  },
  {
   "cell_type": "code",
   "execution_count": 195,
   "metadata": {},
   "outputs": [
    {
     "name": "stderr",
     "output_type": "stream",
     "text": [
      "<ipython-input-195-d93ec8528509>:1: SettingWithCopyWarning: \n",
      "A value is trying to be set on a copy of a slice from a DataFrame.\n",
      "Try using .loc[row_indexer,col_indexer] = value instead\n",
      "\n",
      "See the caveats in the documentation: https://pandas.pydata.org/pandas-docs/stable/user_guide/indexing.html#returning-a-view-versus-a-copy\n",
      "  matched['code_group'] = matched.icd9.apply(lambda c: str(find_root_axis(search(c))).split(':')[0])\n"
     ]
    }
   ],
   "source": [
    "matched['code_group'] = matched.icd9.apply(lambda c: str(find_root_axis(search(c))).split(':')[0])"
   ]
  },
  {
   "cell_type": "markdown",
   "metadata": {},
   "source": [
    "#### Ranking\n",
    "- via % predicted vs assigned\n",
    "- via total occurrence\n",
    "- via total predicted"
   ]
  },
  {
   "cell_type": "code",
   "execution_count": 197,
   "metadata": {},
   "outputs": [
    {
     "data": {
      "text/plain": [
       "00845     7\n",
       "0380     13\n",
       "03811     0\n",
       "03842     0\n",
       "03849     0\n",
       "         ..\n",
       "V5865     0\n",
       "V5867     0\n",
       "V667      0\n",
       "V707      0\n",
       "V8741     0\n",
       "Name: icd9, Length: 400, dtype: int64"
      ]
     },
     "execution_count": 197,
     "metadata": {},
     "output_type": "execute_result"
    }
   ],
   "source": [
    "no_assn.icd9.value_counts().index\n",
    "matched.icd9.value_counts().index\n",
    "combi_index = pd.Index.union(no_assn.icd9.value_counts().index, matched.icd9.value_counts().index)\n",
    "no_assn_cd = no_assn.icd9.value_counts()\n",
    "matched_cd = matched.icd9.value_counts()\n",
    "no_assn_cd.reindex(combi_index, fill_value=0)\n",
    "matched_cd.reindex(combi_index, fill_value=0)"
   ]
  },
  {
   "cell_type": "code",
   "execution_count": 198,
   "metadata": {},
   "outputs": [
    {
     "data": {
      "text/html": [
       "<div>\n",
       "<style scoped>\n",
       "    .dataframe tbody tr th:only-of-type {\n",
       "        vertical-align: middle;\n",
       "    }\n",
       "\n",
       "    .dataframe tbody tr th {\n",
       "        vertical-align: top;\n",
       "    }\n",
       "\n",
       "    .dataframe thead th {\n",
       "        text-align: right;\n",
       "    }\n",
       "</style>\n",
       "<table border=\"1\" class=\"dataframe\">\n",
       "  <thead>\n",
       "    <tr style=\"text-align: right;\">\n",
       "      <th></th>\n",
       "      <th>code</th>\n",
       "      <th>% predicted vs assigned</th>\n",
       "      <th>code_occur_not_matched</th>\n",
       "      <th>code_occurr_matched</th>\n",
       "      <th>toal_occurr</th>\n",
       "      <th>occurrence_rank</th>\n",
       "      <th>desc</th>\n",
       "    </tr>\n",
       "  </thead>\n",
       "  <tbody>\n",
       "    <tr>\n",
       "      <th>0</th>\n",
       "      <td>7470</td>\n",
       "      <td>69.187675</td>\n",
       "      <td>110</td>\n",
       "      <td>247</td>\n",
       "      <td>357.0</td>\n",
       "      <td>196</td>\n",
       "      <td>Patent ductus arteriosus</td>\n",
       "    </tr>\n",
       "    <tr>\n",
       "      <th>1</th>\n",
       "      <td>41519</td>\n",
       "      <td>59.022556</td>\n",
       "      <td>327</td>\n",
       "      <td>471</td>\n",
       "      <td>798.0</td>\n",
       "      <td>114</td>\n",
       "      <td>Other pulmonary embolism and infarction</td>\n",
       "    </tr>\n",
       "    <tr>\n",
       "      <th>2</th>\n",
       "      <td>7766</td>\n",
       "      <td>56.377551</td>\n",
       "      <td>171</td>\n",
       "      <td>221</td>\n",
       "      <td>392.0</td>\n",
       "      <td>246</td>\n",
       "      <td>Anemia of prematurity</td>\n",
       "    </tr>\n",
       "    <tr>\n",
       "      <th>3</th>\n",
       "      <td>1550</td>\n",
       "      <td>55.769231</td>\n",
       "      <td>138</td>\n",
       "      <td>174</td>\n",
       "      <td>312.0</td>\n",
       "      <td>305</td>\n",
       "      <td>Malignant neoplasm of liver, primary</td>\n",
       "    </tr>\n",
       "    <tr>\n",
       "      <th>4</th>\n",
       "      <td>5789</td>\n",
       "      <td>51.834504</td>\n",
       "      <td>617</td>\n",
       "      <td>664</td>\n",
       "      <td>1281.0</td>\n",
       "      <td>26</td>\n",
       "      <td>Hemorrhage of gastrointestinal tract, unspecified</td>\n",
       "    </tr>\n",
       "  </tbody>\n",
       "</table>\n",
       "</div>"
      ],
      "text/plain": [
       "    code  % predicted vs assigned  code_occur_not_matched  \\\n",
       "0   7470                69.187675                     110   \n",
       "1  41519                59.022556                     327   \n",
       "2   7766                56.377551                     171   \n",
       "3   1550                55.769231                     138   \n",
       "4   5789                51.834504                     617   \n",
       "\n",
       "   code_occurr_matched  toal_occurr  occurrence_rank  \\\n",
       "0                  247        357.0              196   \n",
       "1                  471        798.0              114   \n",
       "2                  221        392.0              246   \n",
       "3                  174        312.0              305   \n",
       "4                  664       1281.0               26   \n",
       "\n",
       "                                                desc  \n",
       "0                           Patent ductus arteriosus  \n",
       "1            Other pulmonary embolism and infarction  \n",
       "2                              Anemia of prematurity  \n",
       "3               Malignant neoplasm of liver, primary  \n",
       "4  Hemorrhage of gastrointestinal tract, unspecified  "
      ]
     },
     "execution_count": 198,
     "metadata": {},
     "output_type": "execute_result"
    }
   ],
   "source": [
    "top_pred_codes = ((matched_cd / (matched_cd + no_assn_cd)).fillna(0) * 100).sort_values(ascending=False).head(50).reset_index()\n",
    "top_pred_codes.columns = ['code', '% predicted vs assigned']\n",
    "top_pred_codes['code_occur_not_matched'] = no_assn_cd[top_pred_codes.code].tolist()\n",
    "top_pred_codes['code_occurr_matched'] = matched_cd[top_pred_codes.code].tolist()\n",
    "top_pred_codes['toal_occurr'] = (matched_cd + no_assn_cd)[top_pred_codes.code].tolist()\n",
    "rank_df = df_ft.icd9.value_counts().reset_index()\n",
    "rank_df.columns = ['code', 'counts']\n",
    "rank_df['icd9'] = rank_df.code.apply(str)\n",
    "top_pred_codes['occurrence_rank'] = top_pred_codes.code.apply(lambda c: rank_df[rank_df.code == c].index[0])\n",
    "top_pred_codes['desc'] = top_pred_codes.code.apply(lambda c: search(c).long_desc or search(c).short_desc)\n",
    "top_pred_codes.head(5)"
   ]
  },
  {
   "cell_type": "code",
   "execution_count": 199,
   "metadata": {},
   "outputs": [
    {
     "data": {
      "text/html": [
       "<div>\n",
       "<style scoped>\n",
       "    .dataframe tbody tr th:only-of-type {\n",
       "        vertical-align: middle;\n",
       "    }\n",
       "\n",
       "    .dataframe tbody tr th {\n",
       "        vertical-align: top;\n",
       "    }\n",
       "\n",
       "    .dataframe thead th {\n",
       "        text-align: right;\n",
       "    }\n",
       "</style>\n",
       "<table border=\"1\" class=\"dataframe\">\n",
       "  <thead>\n",
       "    <tr style=\"text-align: right;\">\n",
       "      <th></th>\n",
       "      <th>code</th>\n",
       "      <th>% predicted vs assigned</th>\n",
       "      <th>code_occur_not_matched</th>\n",
       "      <th>code_occurr_matched</th>\n",
       "      <th>toal_occurr</th>\n",
       "      <th>occurrence_rank</th>\n",
       "      <th>desc</th>\n",
       "    </tr>\n",
       "  </thead>\n",
       "  <tbody>\n",
       "    <tr>\n",
       "      <th>14</th>\n",
       "      <td>4019</td>\n",
       "      <td>35.949664</td>\n",
       "      <td>12012</td>\n",
       "      <td>6742</td>\n",
       "      <td>18754.0</td>\n",
       "      <td>0</td>\n",
       "      <td>Unspecified essential hypertension</td>\n",
       "    </tr>\n",
       "    <tr>\n",
       "      <th>8</th>\n",
       "      <td>41401</td>\n",
       "      <td>39.410730</td>\n",
       "      <td>6889</td>\n",
       "      <td>4481</td>\n",
       "      <td>11370.0</td>\n",
       "      <td>2</td>\n",
       "      <td>Coronary atherosclerosis of native coronary ar...</td>\n",
       "    </tr>\n",
       "    <tr>\n",
       "      <th>37</th>\n",
       "      <td>4280</td>\n",
       "      <td>24.439648</td>\n",
       "      <td>9102</td>\n",
       "      <td>2944</td>\n",
       "      <td>12046.0</td>\n",
       "      <td>1</td>\n",
       "      <td>Congestive heart failure, unspecified</td>\n",
       "    </tr>\n",
       "    <tr>\n",
       "      <th>15</th>\n",
       "      <td>5990</td>\n",
       "      <td>35.240125</td>\n",
       "      <td>3951</td>\n",
       "      <td>2150</td>\n",
       "      <td>6101.0</td>\n",
       "      <td>10</td>\n",
       "      <td>Urinary tract infection, site not specified</td>\n",
       "    </tr>\n",
       "    <tr>\n",
       "      <th>48</th>\n",
       "      <td>2724</td>\n",
       "      <td>21.970959</td>\n",
       "      <td>6556</td>\n",
       "      <td>1846</td>\n",
       "      <td>8402.0</td>\n",
       "      <td>5</td>\n",
       "      <td>Other and unspecified hyperlipidemia</td>\n",
       "    </tr>\n",
       "  </tbody>\n",
       "</table>\n",
       "</div>"
      ],
      "text/plain": [
       "     code  % predicted vs assigned  code_occur_not_matched  \\\n",
       "14   4019                35.949664                   12012   \n",
       "8   41401                39.410730                    6889   \n",
       "37   4280                24.439648                    9102   \n",
       "15   5990                35.240125                    3951   \n",
       "48   2724                21.970959                    6556   \n",
       "\n",
       "    code_occurr_matched  toal_occurr  occurrence_rank  \\\n",
       "14                 6742      18754.0                0   \n",
       "8                  4481      11370.0                2   \n",
       "37                 2944      12046.0                1   \n",
       "15                 2150       6101.0               10   \n",
       "48                 1846       8402.0                5   \n",
       "\n",
       "                                                 desc  \n",
       "14                 Unspecified essential hypertension  \n",
       "8   Coronary atherosclerosis of native coronary ar...  \n",
       "37              Congestive heart failure, unspecified  \n",
       "15        Urinary tract infection, site not specified  \n",
       "48               Other and unspecified hyperlipidemia  "
      ]
     },
     "execution_count": 199,
     "metadata": {},
     "output_type": "execute_result"
    }
   ],
   "source": [
    "top_pred_codes.sort_values('code_occurr_matched', ascending=False).head(5)"
   ]
  },
  {
   "cell_type": "code",
   "execution_count": 200,
   "metadata": {},
   "outputs": [
    {
     "data": {
      "text/html": [
       "<div>\n",
       "<style scoped>\n",
       "    .dataframe tbody tr th:only-of-type {\n",
       "        vertical-align: middle;\n",
       "    }\n",
       "\n",
       "    .dataframe tbody tr th {\n",
       "        vertical-align: top;\n",
       "    }\n",
       "\n",
       "    .dataframe thead th {\n",
       "        text-align: right;\n",
       "    }\n",
       "</style>\n",
       "<table border=\"1\" class=\"dataframe\">\n",
       "  <thead>\n",
       "    <tr style=\"text-align: right;\">\n",
       "      <th></th>\n",
       "      <th>code</th>\n",
       "      <th>% predicted vs assigned</th>\n",
       "      <th>code_occur_not_matched</th>\n",
       "      <th>code_occurr_matched</th>\n",
       "      <th>toal_occurr</th>\n",
       "      <th>occurrence_rank</th>\n",
       "      <th>desc</th>\n",
       "    </tr>\n",
       "  </thead>\n",
       "  <tbody>\n",
       "    <tr>\n",
       "      <th>14</th>\n",
       "      <td>4019</td>\n",
       "      <td>35.949664</td>\n",
       "      <td>12012</td>\n",
       "      <td>6742</td>\n",
       "      <td>18754.0</td>\n",
       "      <td>0</td>\n",
       "      <td>Unspecified essential hypertension</td>\n",
       "    </tr>\n",
       "    <tr>\n",
       "      <th>37</th>\n",
       "      <td>4280</td>\n",
       "      <td>24.439648</td>\n",
       "      <td>9102</td>\n",
       "      <td>2944</td>\n",
       "      <td>12046.0</td>\n",
       "      <td>1</td>\n",
       "      <td>Congestive heart failure, unspecified</td>\n",
       "    </tr>\n",
       "    <tr>\n",
       "      <th>8</th>\n",
       "      <td>41401</td>\n",
       "      <td>39.410730</td>\n",
       "      <td>6889</td>\n",
       "      <td>4481</td>\n",
       "      <td>11370.0</td>\n",
       "      <td>2</td>\n",
       "      <td>Coronary atherosclerosis of native coronary ar...</td>\n",
       "    </tr>\n",
       "    <tr>\n",
       "      <th>48</th>\n",
       "      <td>2724</td>\n",
       "      <td>21.970959</td>\n",
       "      <td>6556</td>\n",
       "      <td>1846</td>\n",
       "      <td>8402.0</td>\n",
       "      <td>5</td>\n",
       "      <td>Other and unspecified hyperlipidemia</td>\n",
       "    </tr>\n",
       "    <tr>\n",
       "      <th>15</th>\n",
       "      <td>5990</td>\n",
       "      <td>35.240125</td>\n",
       "      <td>3951</td>\n",
       "      <td>2150</td>\n",
       "      <td>6101.0</td>\n",
       "      <td>10</td>\n",
       "      <td>Urinary tract infection, site not specified</td>\n",
       "    </tr>\n",
       "  </tbody>\n",
       "</table>\n",
       "</div>"
      ],
      "text/plain": [
       "     code  % predicted vs assigned  code_occur_not_matched  \\\n",
       "14   4019                35.949664                   12012   \n",
       "37   4280                24.439648                    9102   \n",
       "8   41401                39.410730                    6889   \n",
       "48   2724                21.970959                    6556   \n",
       "15   5990                35.240125                    3951   \n",
       "\n",
       "    code_occurr_matched  toal_occurr  occurrence_rank  \\\n",
       "14                 6742      18754.0                0   \n",
       "37                 2944      12046.0                1   \n",
       "8                  4481      11370.0                2   \n",
       "48                 1846       8402.0                5   \n",
       "15                 2150       6101.0               10   \n",
       "\n",
       "                                                 desc  \n",
       "14                 Unspecified essential hypertension  \n",
       "37              Congestive heart failure, unspecified  \n",
       "8   Coronary atherosclerosis of native coronary ar...  \n",
       "48               Other and unspecified hyperlipidemia  \n",
       "15        Urinary tract infection, site not specified  "
      ]
     },
     "execution_count": 200,
     "metadata": {},
     "output_type": "execute_result"
    }
   ],
   "source": [
    "top_pred_codes.sort_values(by='toal_occurr', ascending=False).head(5)"
   ]
  },
  {
   "cell_type": "markdown",
   "metadata": {},
   "source": [
    "#### Proportion of matched assigned codes vs number of assigned codes "
   ]
  },
  {
   "cell_type": "code",
   "execution_count": 201,
   "metadata": {},
   "outputs": [],
   "source": [
    "combi_index = pd.Index.union(h_counts_n_assn.index, h_counts_match.index)\n",
    "h_counts_n_assn = h_counts_n_assn.reindex(combi_index, fill_value=0) \n",
    "h_counts_match = h_counts_match.reindex(combi_index, fill_value=0)"
   ]
  },
  {
   "cell_type": "code",
   "execution_count": 202,
   "metadata": {},
   "outputs": [],
   "source": [
    "all_codes_per_hadm = h_counts_n_assn + h_counts_match"
   ]
  },
  {
   "cell_type": "code",
   "execution_count": 203,
   "metadata": {},
   "outputs": [],
   "source": [
    "distribution_correct = (round(h_counts_match / all_codes_per_hadm,2) * 100).value_counts()\n",
    "# remove occurrence where there are no matches\n",
    "distribution_correct = distribution_correct.iloc[1:]\n",
    "distribution_correct.index = [int(round(i)) for i in distribution_correct.index]"
   ]
  },
  {
   "cell_type": "code",
   "execution_count": 204,
   "metadata": {},
   "outputs": [],
   "source": [
    "binned_distro = [(f'{bin_start}-{bin_start + 9}%', sum([0 if i not in distribution_correct else distribution_correct[i] for i in range(bin_start, bin_start+10)])) for bin_start in range(0, 110, 10)]\n",
    "binned_distro[-1] = ('100%', binned_distro[-1][1])\n",
    "binned_distro[0] = ('1-9%', binned_distro[0][1])\n",
    "acph = all_codes_per_hadm.value_counts()"
   ]
  },
  {
   "cell_type": "code",
   "execution_count": 217,
   "metadata": {},
   "outputs": [
    {
     "data": {
      "image/png": "[encoded data removed]",
      "text/plain": [
       "<Figure size 576x288 with 2 Axes>"
      ]
     },
     "metadata": {
      "needs_background": "light"
     },
     "output_type": "display_data"
    }
   ],
   "source": [
    "fig, (ax, ax2) = plt.subplots(1, 2, figsize=(8, 4))\n",
    "\n",
    "ax.barh(acph.index, acph.tolist())\n",
    "ax.set_xlabel('Count of Admissions', fontsize=13)\n",
    "ax.set_ylabel('# of Assigned Codes', fontsize=13)\n",
    "\n",
    "ax2.barh([b[0] for b in binned_distro], [b[1] for b in binned_distro])\n",
    "ax2.set_xlabel('Count of Admissions', fontsize=13)\n",
    "ax2.set_ylabel('Proportion of Matched Codes', fontsize=13)\n",
    "\n",
    "plt.tight_layout()\n",
    "plt.savefig('plots/distribution_of_matched_compared_with_assigned_codes.png')\n",
    "plt.show()"
   ]
  },
  {
   "cell_type": "code",
   "execution_count": null,
   "metadata": {},
   "outputs": [],
   "source": [
    "100 * acph.sort_index().cumsum() / acph.sort_index().sum()"
   ]
  },
  {
   "cell_type": "code",
   "execution_count": 415,
   "metadata": {},
   "outputs": [],
   "source": [
    "m_cg = matched.code_group.value_counts().sort_index().reset_index()\n",
    "m_cg.columns = ['code_group', 'count']"
   ]
  },
  {
   "cell_type": "code",
   "execution_count": 416,
   "metadata": {},
   "outputs": [
    {
     "data": {
      "text/plain": [
       "0.0026820367076930062"
      ]
     },
     "execution_count": 416,
     "metadata": {},
     "output_type": "execute_result"
    }
   ],
   "source": [
    "m_cg['prob'] = m_cg['count'] / m_cg['count'].sum()\n",
    "scipy.stats.wasserstein_distance(as_np_grouped.prob, cc.prob)"
   ]
  },
  {
   "cell_type": "markdown",
   "metadata": {},
   "source": [
    "### Predicted and Not Assigned\n",
    "- Distribution of HADMs that showed not match??\n",
    "- \\# of matches correlateed with length of DD, and discharge summary\n",
    "- distribution of matches over codes\n",
    "- top codes that matched"
   ]
  },
  {
   "cell_type": "code",
   "execution_count": 365,
   "metadata": {},
   "outputs": [],
   "source": [
    "p_na = df_ft[df_ft.match == 'pred_no_assign']"
   ]
  },
  {
   "cell_type": "code",
   "execution_count": 366,
   "metadata": {},
   "outputs": [],
   "source": [
    "p_na_counts = p_na.icd9.value_counts().reset_index()\n",
    "p_na_counts.columns = ['code', 'count']"
   ]
  },
  {
   "cell_type": "code",
   "execution_count": 367,
   "metadata": {},
   "outputs": [],
   "source": [
    "p_na_hadms = p_na.hadm.value_counts().reset_index()\n",
    "p_na_hadms.columns = ['hadm', 'count']"
   ]
  },
  {
   "cell_type": "code",
   "execution_count": 368,
   "metadata": {},
   "outputs": [],
   "source": [
    "dds = pd.read_csv('data/mimic_dd_icd9_sections.csv')\n",
    "# print(dds[dds.name = 'Admission ID:173881'].text.iloc[0])"
   ]
  },
  {
   "cell_type": "code",
   "execution_count": 369,
   "metadata": {},
   "outputs": [],
   "source": [
    "dds['len'] = dds.text.str.split('\\n').apply(lambda l: len([i for i in l if len(i) > 1]))\n",
    "dds['hadm'] = dds.name.str.split(':').apply(lambda l: l[1])"
   ]
  },
  {
   "cell_type": "code",
   "execution_count": 370,
   "metadata": {},
   "outputs": [
    {
     "data": {
      "text/html": [
       "<div>\n",
       "<style scoped>\n",
       "    .dataframe tbody tr th:only-of-type {\n",
       "        vertical-align: middle;\n",
       "    }\n",
       "\n",
       "    .dataframe tbody tr th {\n",
       "        vertical-align: top;\n",
       "    }\n",
       "\n",
       "    .dataframe thead th {\n",
       "        text-align: right;\n",
       "    }\n",
       "</style>\n",
       "<table border=\"1\" class=\"dataframe\">\n",
       "  <thead>\n",
       "    <tr style=\"text-align: right;\">\n",
       "      <th></th>\n",
       "      <th>hadm</th>\n",
       "      <th>count</th>\n",
       "    </tr>\n",
       "  </thead>\n",
       "  <tbody>\n",
       "    <tr>\n",
       "      <th>0</th>\n",
       "      <td>184752</td>\n",
       "      <td>16</td>\n",
       "    </tr>\n",
       "    <tr>\n",
       "      <th>1</th>\n",
       "      <td>148024</td>\n",
       "      <td>15</td>\n",
       "    </tr>\n",
       "    <tr>\n",
       "      <th>2</th>\n",
       "      <td>173881</td>\n",
       "      <td>15</td>\n",
       "    </tr>\n",
       "  </tbody>\n",
       "</table>\n",
       "</div>"
      ],
      "text/plain": [
       "     hadm  count\n",
       "0  184752     16\n",
       "1  148024     15\n",
       "2  173881     15"
      ]
     },
     "execution_count": 370,
     "metadata": {},
     "output_type": "execute_result"
    }
   ],
   "source": [
    "p_na_hadms.head(3)"
   ]
  },
  {
   "cell_type": "code",
   "execution_count": 371,
   "metadata": {},
   "outputs": [
    {
     "data": {
      "text/plain": [
       "0                         hadm  count\n",
       "4675  100001      3\n",
       "1                        hadm  count\n",
       "16906  100003      1\n",
       "2                         hadm  count\n",
       "7800  100006      2\n",
       "3        Empty DataFrame\n",
       "Columns: [hadm, count]\n",
       "Index: []\n",
       "4                         hadm  count\n",
       "3822  100009      3\n",
       "                               ...                       \n",
       "48893                     hadm  count\n",
       "7633  199993      2\n",
       "48894                     hadm  count\n",
       "8355  199994      2\n",
       "48895    Empty DataFrame\n",
       "Columns: [hadm, count]\n",
       "Index: []\n",
       "48896    Empty DataFrame\n",
       "Columns: [hadm, count]\n",
       "Index: []\n",
       "48897    Empty DataFrame\n",
       "Columns: [hadm, count]\n",
       "Index: []\n",
       "Name: hadm, Length: 48898, dtype: object"
      ]
     },
     "execution_count": 371,
     "metadata": {},
     "output_type": "execute_result"
    }
   ],
   "source": [
    "dds.hadm.apply(lambda i: p_na_hadms[p_na_hadms.hadm == i])"
   ]
  },
  {
   "cell_type": "code",
   "execution_count": 372,
   "metadata": {},
   "outputs": [],
   "source": [
    "dds = dds.drop('name', axis=1)\n",
    "dds.columns = ['text', 'dd_line_len', 'hadm']"
   ]
  },
  {
   "cell_type": "code",
   "execution_count": 373,
   "metadata": {},
   "outputs": [],
   "source": [
    "dds = dds.merge(p_na_hadms, on='hadm').sort_values('count', ascending=False)"
   ]
  },
  {
   "cell_type": "code",
   "execution_count": 374,
   "metadata": {},
   "outputs": [],
   "source": [
    "top400_codes = set(df_ft.icd9.unique())\n",
    "codes = codes[codes.icd9_code.isin(top400_codes)]\n",
    "codes = codes.hadm_id.value_counts().reset_index()\n",
    "codes.columns = ['hadm', 'assign_code_count']\n",
    "codes['hadm'] = codes.hadm.apply(str)"
   ]
  },
  {
   "cell_type": "code",
   "execution_count": 375,
   "metadata": {},
   "outputs": [],
   "source": [
    "dds = dds.merge(codes, on='hadm')"
   ]
  },
  {
   "cell_type": "code",
   "execution_count": 376,
   "metadata": {},
   "outputs": [
    {
     "data": {
      "text/html": [
       "<div>\n",
       "<style scoped>\n",
       "    .dataframe tbody tr th:only-of-type {\n",
       "        vertical-align: middle;\n",
       "    }\n",
       "\n",
       "    .dataframe tbody tr th {\n",
       "        vertical-align: top;\n",
       "    }\n",
       "\n",
       "    .dataframe thead th {\n",
       "        text-align: right;\n",
       "    }\n",
       "</style>\n",
       "<table border=\"1\" class=\"dataframe\">\n",
       "  <thead>\n",
       "    <tr style=\"text-align: right;\">\n",
       "      <th></th>\n",
       "      <th>text</th>\n",
       "      <th>dd_line_len</th>\n",
       "      <th>hadm</th>\n",
       "      <th>count</th>\n",
       "      <th>assign_code_count</th>\n",
       "    </tr>\n",
       "  </thead>\n",
       "  <tbody>\n",
       "    <tr>\n",
       "      <th>0</th>\n",
       "      <td>\\n1.  Morbid obesity.\\n2.  Asthma.\\n3.  Chroni...</td>\n",
       "      <td>20</td>\n",
       "      <td>184752</td>\n",
       "      <td>16</td>\n",
       "      <td>8</td>\n",
       "    </tr>\n",
       "    <tr>\n",
       "      <th>1</th>\n",
       "      <td>\\n1.  Dysphagia.\\n2.  Prerenal acute renal fai...</td>\n",
       "      <td>17</td>\n",
       "      <td>148024</td>\n",
       "      <td>15</td>\n",
       "      <td>8</td>\n",
       "    </tr>\n",
       "    <tr>\n",
       "      <th>2</th>\n",
       "      <td>\\nendometriosis\\nmastoiditis\\nhypothyroidism\\n...</td>\n",
       "      <td>35</td>\n",
       "      <td>196904</td>\n",
       "      <td>15</td>\n",
       "      <td>10</td>\n",
       "    </tr>\n",
       "    <tr>\n",
       "      <th>3</th>\n",
       "      <td>\\nHypoxic respiratory failure.\\nProlonged wean...</td>\n",
       "      <td>19</td>\n",
       "      <td>173881</td>\n",
       "      <td>15</td>\n",
       "      <td>13</td>\n",
       "    </tr>\n",
       "    <tr>\n",
       "      <th>4</th>\n",
       "      <td>\\nCoronary artery disease.\\nCoronary stent thr...</td>\n",
       "      <td>29</td>\n",
       "      <td>129259</td>\n",
       "      <td>14</td>\n",
       "      <td>6</td>\n",
       "    </tr>\n",
       "  </tbody>\n",
       "</table>\n",
       "</div>"
      ],
      "text/plain": [
       "                                                text  dd_line_len    hadm  \\\n",
       "0  \\n1.  Morbid obesity.\\n2.  Asthma.\\n3.  Chroni...           20  184752   \n",
       "1  \\n1.  Dysphagia.\\n2.  Prerenal acute renal fai...           17  148024   \n",
       "2  \\nendometriosis\\nmastoiditis\\nhypothyroidism\\n...           35  196904   \n",
       "3  \\nHypoxic respiratory failure.\\nProlonged wean...           19  173881   \n",
       "4  \\nCoronary artery disease.\\nCoronary stent thr...           29  129259   \n",
       "\n",
       "   count  assign_code_count  \n",
       "0     16                  8  \n",
       "1     15                  8  \n",
       "2     15                 10  \n",
       "3     15                 13  \n",
       "4     14                  6  "
      ]
     },
     "execution_count": 376,
     "metadata": {},
     "output_type": "execute_result"
    }
   ],
   "source": [
    "dds.head(5)"
   ]
  },
  {
   "cell_type": "markdown",
   "metadata": {},
   "source": [
    "Stronger positive correlation with our prediction model. Suggesting those notes that have longer discharge diagnosis sections, i.e. those cases that are more complex are missing a fair amount of codes.\n",
    "\n",
    "This makes sense as a Coder generally has a fixed amount of episodes to code, the more complex the episode the more likely something will be missed. Comment on time pressured environment etc."
   ]
  },
  {
   "cell_type": "code",
   "execution_count": 377,
   "metadata": {},
   "outputs": [
    {
     "data": {
      "text/plain": [
       "array([[1.        , 0.50441746],\n",
       "       [0.50441746, 1.        ]])"
      ]
     },
     "execution_count": 377,
     "metadata": {},
     "output_type": "execute_result"
    }
   ],
   "source": [
    "np.corrcoef(dds.dd_line_len,  dds['count'])"
   ]
  },
  {
   "cell_type": "code",
   "execution_count": 378,
   "metadata": {},
   "outputs": [
    {
     "data": {
      "text/plain": [
       "array([[1.        , 0.17173518],\n",
       "       [0.17173518, 1.        ]])"
      ]
     },
     "execution_count": 378,
     "metadata": {},
     "output_type": "execute_result"
    }
   ],
   "source": [
    "np.corrcoef(dds.dd_line_len, dds.assign_code_count,)"
   ]
  },
  {
   "cell_type": "code",
   "execution_count": 379,
   "metadata": {},
   "outputs": [],
   "source": [
    "p_na_counts['code_groups'] = p_na_counts.code.apply(lambda c: str(find_root_axis(search(c))).split(':')[0])\n",
    "p_na_plt = p_na_counts.loc[:, ['code_groups', 'count']].groupby('code_groups').sum().sort_index()\n",
    "codes = pd.read_csv('data/admission_codes.csv')\n",
    "codes = codes[codes.icd9_code.isin(top400_codes)]\n",
    "codes['code_groups'] = codes.icd9_code.apply(lambda c: str(find_root_axis(search(c))).split(':')[0])\n",
    "code_counts = codes.code_groups.value_counts()\n",
    "code_counts = code_counts.sort_index()\n",
    "p_na_plt = p_na_plt.reindex(code_counts.index).fillna(0)"
   ]
  },
  {
   "cell_type": "code",
   "execution_count": null,
   "metadata": {},
   "outputs": [],
   "source": [
    "p_na_"
   ]
  },
  {
   "cell_type": "code",
   "execution_count": 250,
   "metadata": {},
   "outputs": [
    {
     "data": {
      "image/png": "[encoded data removed]",
      "text/plain": [
       "<Figure size 576x432 with 2 Axes>"
      ]
     },
     "metadata": {
      "needs_background": "light"
     },
     "output_type": "display_data"
    }
   ],
   "source": [
    "fig, ax = plt.subplots(figsize=(8, 6))\n",
    "indices = range(len(p_na_plt['count'].tolist()))\n",
    "width = np.min(np.diff(indices))/3\n",
    "\n",
    "ax2 = ax.twiny()\n",
    "\n",
    "color_1 = 'tab:blue'\n",
    "color_2 = 'tab:orange'\n",
    "\n",
    "bar1 = ax.barh(indices + width / 2, p_na_plt['count'].tolist(), width, label='Predicted, Not Assigned', color=color_1)\n",
    "ax.set_yticks(indices)\n",
    "ax.set_yticklabels(p_na_plt.index.tolist())\n",
    "ax.set_ylabel('Top Level ICD-9 Code Axis', fontsize=12)\n",
    "ax.set_xlabel('# of Predictions, Not Assigned', color=color_1, fontsize=12)\n",
    "\n",
    "bar2 = bar2 = ax2.barh(indices - width / 2, code_counts.tolist(), width, label='Assigned Codes MIMIC-III', color=color_2)\n",
    "ax2.set_xlabel('# of assigned codes', color=color_2, fontsize=14)\n",
    "\n",
    "plt.legend([bar1, bar2], [bar1.get_label(), bar2.get_label()], fontsize=12)\n",
    "plt.tight_layout()\n",
    "plt.savefig('./plots/distribution_predicted_not_assigned.png')\n",
    "plt.show()"
   ]
  },
  {
   "cell_type": "code",
   "execution_count": 251,
   "metadata": {},
   "outputs": [
    {
     "data": {
      "text/html": [
       "<div>\n",
       "<style scoped>\n",
       "    .dataframe tbody tr th:only-of-type {\n",
       "        vertical-align: middle;\n",
       "    }\n",
       "\n",
       "    .dataframe tbody tr th {\n",
       "        vertical-align: top;\n",
       "    }\n",
       "\n",
       "    .dataframe thead th {\n",
       "        text-align: right;\n",
       "    }\n",
       "</style>\n",
       "<table border=\"1\" class=\"dataframe\">\n",
       "  <thead>\n",
       "    <tr style=\"text-align: right;\">\n",
       "      <th></th>\n",
       "      <th>index</th>\n",
       "      <th>icd9_code</th>\n",
       "    </tr>\n",
       "  </thead>\n",
       "  <tbody>\n",
       "    <tr>\n",
       "      <th>0</th>\n",
       "      <td>0389</td>\n",
       "      <td>3725</td>\n",
       "    </tr>\n",
       "    <tr>\n",
       "      <th>1</th>\n",
       "      <td>00845</td>\n",
       "      <td>1444</td>\n",
       "    </tr>\n",
       "    <tr>\n",
       "      <th>2</th>\n",
       "      <td>07054</td>\n",
       "      <td>1218</td>\n",
       "    </tr>\n",
       "    <tr>\n",
       "      <th>3</th>\n",
       "      <td>04111</td>\n",
       "      <td>703</td>\n",
       "    </tr>\n",
       "    <tr>\n",
       "      <th>4</th>\n",
       "      <td>07070</td>\n",
       "      <td>674</td>\n",
       "    </tr>\n",
       "    <tr>\n",
       "      <th>5</th>\n",
       "      <td>1120</td>\n",
       "      <td>646</td>\n",
       "    </tr>\n",
       "    <tr>\n",
       "      <th>6</th>\n",
       "      <td>04104</td>\n",
       "      <td>614</td>\n",
       "    </tr>\n",
       "    <tr>\n",
       "      <th>7</th>\n",
       "      <td>042</td>\n",
       "      <td>538</td>\n",
       "    </tr>\n",
       "    <tr>\n",
       "      <th>8</th>\n",
       "      <td>03811</td>\n",
       "      <td>515</td>\n",
       "    </tr>\n",
       "    <tr>\n",
       "      <th>9</th>\n",
       "      <td>0413</td>\n",
       "      <td>473</td>\n",
       "    </tr>\n",
       "  </tbody>\n",
       "</table>\n",
       "</div>"
      ],
      "text/plain": [
       "   index  icd9_code\n",
       "0   0389       3725\n",
       "1  00845       1444\n",
       "2  07054       1218\n",
       "3  04111        703\n",
       "4  07070        674\n",
       "5   1120        646\n",
       "6  04104        614\n",
       "7    042        538\n",
       "8  03811        515\n",
       "9   0413        473"
      ]
     },
     "execution_count": 251,
     "metadata": {},
     "output_type": "execute_result"
    }
   ],
   "source": [
    "codes[codes.code_groups == '001-139'].icd9_code.value_counts().reset_index().head(10)"
   ]
  },
  {
   "cell_type": "code",
   "execution_count": 252,
   "metadata": {},
   "outputs": [
    {
     "data": {
      "text/html": [
       "<div>\n",
       "<style scoped>\n",
       "    .dataframe tbody tr th:only-of-type {\n",
       "        vertical-align: middle;\n",
       "    }\n",
       "\n",
       "    .dataframe tbody tr th {\n",
       "        vertical-align: top;\n",
       "    }\n",
       "\n",
       "    .dataframe thead th {\n",
       "        text-align: right;\n",
       "    }\n",
       "</style>\n",
       "<table border=\"1\" class=\"dataframe\">\n",
       "  <thead>\n",
       "    <tr style=\"text-align: right;\">\n",
       "      <th></th>\n",
       "      <th>count</th>\n",
       "    </tr>\n",
       "    <tr>\n",
       "      <th>code</th>\n",
       "      <th></th>\n",
       "    </tr>\n",
       "  </thead>\n",
       "  <tbody>\n",
       "    <tr>\n",
       "      <th>0389</th>\n",
       "      <td>3343</td>\n",
       "    </tr>\n",
       "    <tr>\n",
       "      <th>07070</th>\n",
       "      <td>420</td>\n",
       "    </tr>\n",
       "    <tr>\n",
       "      <th>0380</th>\n",
       "      <td>22</td>\n",
       "    </tr>\n",
       "    <tr>\n",
       "      <th>042</th>\n",
       "      <td>17</td>\n",
       "    </tr>\n",
       "    <tr>\n",
       "      <th>1120</th>\n",
       "      <td>16</td>\n",
       "    </tr>\n",
       "    <tr>\n",
       "      <th>07054</th>\n",
       "      <td>8</td>\n",
       "    </tr>\n",
       "    <tr>\n",
       "      <th>03811</th>\n",
       "      <td>1</td>\n",
       "    </tr>\n",
       "    <tr>\n",
       "      <th>07032</th>\n",
       "      <td>1</td>\n",
       "    </tr>\n",
       "  </tbody>\n",
       "</table>\n",
       "</div>"
      ],
      "text/plain": [
       "       count\n",
       "code        \n",
       "0389    3343\n",
       "07070    420\n",
       "0380      22\n",
       "042       17\n",
       "1120      16\n",
       "07054      8\n",
       "03811      1\n",
       "07032      1"
      ]
     },
     "execution_count": 252,
     "metadata": {},
     "output_type": "execute_result"
    }
   ],
   "source": [
    "p_na_counts[p_na_counts.code_groups == '001-139'].loc[:, ['code', 'count']].groupby('code').sum().sort_values('count', ascending=False).head(10)"
   ]
  },
  {
   "cell_type": "code",
   "execution_count": 253,
   "metadata": {},
   "outputs": [
    {
     "data": {
      "text/plain": [
       "0.01587788292311377"
      ]
     },
     "execution_count": 253,
     "metadata": {},
     "output_type": "execute_result"
    }
   ],
   "source": [
    "p_na_plt['prob'] = p_na_plt['count'] / p_na_plt['count'].sum()\n",
    "cc = code_counts.reset_index()\n",
    "cc.columns = ['code_groups', 'count']\n",
    "cc['prob'] = cc['count'] / cc['count'].sum()\n",
    "scipy.stats.wasserstein_distance(p_na_plt.prob, cc.prob)"
   ]
  },
  {
   "cell_type": "code",
   "execution_count": 254,
   "metadata": {},
   "outputs": [
    {
     "data": {
      "text/html": [
       "<div>\n",
       "<style scoped>\n",
       "    .dataframe tbody tr th:only-of-type {\n",
       "        vertical-align: middle;\n",
       "    }\n",
       "\n",
       "    .dataframe tbody tr th {\n",
       "        vertical-align: top;\n",
       "    }\n",
       "\n",
       "    .dataframe thead th {\n",
       "        text-align: right;\n",
       "    }\n",
       "</style>\n",
       "<table border=\"1\" class=\"dataframe\">\n",
       "  <thead>\n",
       "    <tr style=\"text-align: right;\">\n",
       "      <th></th>\n",
       "      <th>code</th>\n",
       "      <th>count</th>\n",
       "    </tr>\n",
       "  </thead>\n",
       "  <tbody>\n",
       "    <tr>\n",
       "      <th>0</th>\n",
       "      <td>4019</td>\n",
       "      <td>3470</td>\n",
       "    </tr>\n",
       "    <tr>\n",
       "      <th>1</th>\n",
       "      <td>4011</td>\n",
       "      <td>3470</td>\n",
       "    </tr>\n",
       "    <tr>\n",
       "      <th>2</th>\n",
       "      <td>0389</td>\n",
       "      <td>3343</td>\n",
       "    </tr>\n",
       "    <tr>\n",
       "      <th>3</th>\n",
       "      <td>99591</td>\n",
       "      <td>3343</td>\n",
       "    </tr>\n",
       "    <tr>\n",
       "      <th>4</th>\n",
       "      <td>5789</td>\n",
       "      <td>1969</td>\n",
       "    </tr>\n",
       "    <tr>\n",
       "      <th>5</th>\n",
       "      <td>5859</td>\n",
       "      <td>1886</td>\n",
       "    </tr>\n",
       "    <tr>\n",
       "      <th>6</th>\n",
       "      <td>2859</td>\n",
       "      <td>1880</td>\n",
       "    </tr>\n",
       "    <tr>\n",
       "      <th>7</th>\n",
       "      <td>496</td>\n",
       "      <td>1183</td>\n",
       "    </tr>\n",
       "    <tr>\n",
       "      <th>8</th>\n",
       "      <td>49320</td>\n",
       "      <td>1183</td>\n",
       "    </tr>\n",
       "    <tr>\n",
       "      <th>9</th>\n",
       "      <td>4589</td>\n",
       "      <td>1034</td>\n",
       "    </tr>\n",
       "  </tbody>\n",
       "</table>\n",
       "</div>"
      ],
      "text/plain": [
       "    code  count\n",
       "0   4019   3470\n",
       "1   4011   3470\n",
       "2   0389   3343\n",
       "3  99591   3343\n",
       "4   5789   1969\n",
       "5   5859   1886\n",
       "6   2859   1880\n",
       "7    496   1183\n",
       "8  49320   1183\n",
       "9   4589   1034"
      ]
     },
     "execution_count": 254,
     "metadata": {},
     "output_type": "execute_result"
    }
   ],
   "source": [
    "p_na_counts.loc[:, ['code', 'count']].head(10)"
   ]
  },
  {
   "cell_type": "code",
   "execution_count": 255,
   "metadata": {},
   "outputs": [
    {
     "data": {
      "text/html": [
       "<div>\n",
       "<style scoped>\n",
       "    .dataframe tbody tr th:only-of-type {\n",
       "        vertical-align: middle;\n",
       "    }\n",
       "\n",
       "    .dataframe tbody tr th {\n",
       "        vertical-align: top;\n",
       "    }\n",
       "\n",
       "    .dataframe thead th {\n",
       "        text-align: right;\n",
       "    }\n",
       "</style>\n",
       "<table border=\"1\" class=\"dataframe\">\n",
       "  <thead>\n",
       "    <tr style=\"text-align: right;\">\n",
       "      <th></th>\n",
       "      <th>code</th>\n",
       "      <th>count</th>\n",
       "      <th>code_groups</th>\n",
       "    </tr>\n",
       "  </thead>\n",
       "  <tbody>\n",
       "    <tr>\n",
       "      <th>0</th>\n",
       "      <td>4019</td>\n",
       "      <td>3470</td>\n",
       "      <td>390-459</td>\n",
       "    </tr>\n",
       "    <tr>\n",
       "      <th>1</th>\n",
       "      <td>4011</td>\n",
       "      <td>3470</td>\n",
       "      <td>390-459</td>\n",
       "    </tr>\n",
       "  </tbody>\n",
       "</table>\n",
       "</div>"
      ],
      "text/plain": [
       "   code  count code_groups\n",
       "0  4019   3470     390-459\n",
       "1  4011   3470     390-459"
      ]
     },
     "execution_count": 255,
     "metadata": {},
     "output_type": "execute_result"
    }
   ],
   "source": [
    "p_na_counts.head(2)"
   ]
  },
  {
   "cell_type": "code",
   "execution_count": null,
   "metadata": {},
   "outputs": [],
   "source": [
    "def compute_prop(row):\n",
    "    preds = p_na_counts[p_na_counts.code == row.code]\n",
    "    if preds.shape[0] == 0:\n",
    "        return 0\n",
    "    return preds.iloc[0]['count'] / code_counts[code_counts.code == row.code]['count'].iloc[0] * 100"
   ]
  },
  {
   "cell_type": "code",
   "execution_count": null,
   "metadata": {},
   "outputs": [],
   "source": [
    "code_counts = codes.icd9_code.value_counts().reset_index()\n",
    "code_counts.columns = ['code', 'count']\n",
    "code_counts['% missed'] = code_counts.apply(compute_prop, axis=1)"
   ]
  },
  {
   "cell_type": "code",
   "execution_count": null,
   "metadata": {},
   "outputs": [],
   "source": [
    "code_counts.head(15)"
   ]
  },
  {
   "cell_type": "code",
   "execution_count": null,
   "metadata": {},
   "outputs": [],
   "source": [
    "p_na"
   ]
  },
  {
   "cell_type": "code",
   "execution_count": null,
   "metadata": {},
   "outputs": [],
   "source": [
    "code_counts.code"
   ]
  },
  {
   "cell_type": "code",
   "execution_count": null,
   "metadata": {},
   "outputs": [],
   "source": [
    "codes.icd9_code.value_counts()['4019']"
   ]
  },
  {
   "cell_type": "code",
   "execution_count": null,
   "metadata": {},
   "outputs": [],
   "source": [
    "p_na_counts['code']"
   ]
  },
  {
   "cell_type": "markdown",
   "metadata": {},
   "source": [
    "#### Assigned & and Not Predicted"
   ]
  },
  {
   "cell_type": "code",
   "execution_count": 219,
   "metadata": {},
   "outputs": [],
   "source": [
    "as_np = df_ft[df_ft.match == 'assigned_no_pred']"
   ]
  },
  {
   "cell_type": "code",
   "execution_count": 220,
   "metadata": {},
   "outputs": [
    {
     "name": "stderr",
     "output_type": "stream",
     "text": [
      "<ipython-input-220-779d9059510f>:1: SettingWithCopyWarning: \n",
      "A value is trying to be set on a copy of a slice from a DataFrame.\n",
      "Try using .loc[row_indexer,col_indexer] = value instead\n",
      "\n",
      "See the caveats in the documentation: https://pandas.pydata.org/pandas-docs/stable/user_guide/indexing.html#returning-a-view-versus-a-copy\n",
      "  as_np['code_groups'] = as_np.icd9.apply(lambda c: str(find_root_axis(search(c))).split(':')[0])\n"
     ]
    }
   ],
   "source": [
    "as_np['code_groups'] = as_np.icd9.apply(lambda c: str(find_root_axis(search(c))).split(':')[0])\n",
    "as_np_grouped = as_np.code_groups.value_counts().sort_index().reset_index()\n",
    "as_np_grouped.columns = ['code_groups', 'count']"
   ]
  },
  {
   "cell_type": "code",
   "execution_count": null,
   "metadata": {},
   "outputs": [],
   "source": [
    "fig, ax = plt.subplots(figsize=(8, 6))\n",
    "indices = range(len(as_np_grouped['count'].tolist()))\n",
    "width = np.min(np.diff(indices))/3\n",
    "\n",
    "ax2 = ax.twiny()\n",
    "\n",
    "color_1 = 'tab:blue'\n",
    "color_2 = 'tab:orange'\n",
    "\n",
    "bar1 = ax.barh(indices + width / 2, as_np_grouped['count'].tolist(), width, label='Assigned, Not Predicted', color=color_1)\n",
    "ax.set_yticks(indices)\n",
    "ax.set_yticklabels(as_np_grouped.code_groups.tolist())\n",
    "ax.set_ylabel('Top Level ICD-9 Code Axis', fontsize=12)\n",
    "ax.set_xlabel('# of Assigned, Not Predicted', color=color_1, fontsize=12)\n",
    "\n",
    "bar2 = bar2 = ax2.barh(indices - width / 2, code_counts.tolist(), width, label='Assigned Codes MIMIC-III', color=color_2)\n",
    "ax2.set_xlabel('# of assigned codes', color=color_2, fontsize=14)\n",
    "\n",
    "plt.legend([bar1, bar2], [bar1.get_label(), bar2.get_label()], fontsize=12)\n",
    "plt.tight_layout()\n",
    "plt.savefig('./plots/dsitribution_assigned_and_not_predicted.png')\n",
    "plt.show()"
   ]
  },
  {
   "cell_type": "code",
   "execution_count": 225,
   "metadata": {},
   "outputs": [
    {
     "data": {
      "text/plain": [
       "4019     12012\n",
       "42731    11840\n",
       "4280      9102\n",
       "25000     8293\n",
       "41401     6889\n",
       "         ...  \n",
       "340        163\n",
       "V293       140\n",
       "1550       138\n",
       "7661       127\n",
       "7470       110\n",
       "Name: icd9, Length: 400, dtype: int64"
      ]
     },
     "execution_count": 225,
     "metadata": {},
     "output_type": "execute_result"
    }
   ],
   "source": [
    "as_np.icd9.value_counts()"
   ]
  },
  {
   "cell_type": "code",
   "execution_count": 420,
   "metadata": {},
   "outputs": [
    {
     "data": {
      "text/plain": [
       "0.0026820367076930062"
      ]
     },
     "execution_count": 420,
     "metadata": {},
     "output_type": "execute_result"
    }
   ],
   "source": [
    "as_np_grouped['prob'] = as_np_grouped['count'] / as_np_grouped['count'].sum()\n",
    "cc = code_counts.reset_index()\n",
    "cc.columns = ['code_groups', 'count']\n",
    "cc['prob'] = cc['count'] / cc['count'].sum()\n",
    "scipy.stats.wasserstein_distance(as_np_grouped.prob, cc.prob)"
   ]
  },
  {
   "cell_type": "markdown",
   "metadata": {},
   "source": [
    "### Overall\n",
    "- Silver Standard Clinical Coding Generation"
   ]
  },
  {
   "cell_type": "code",
   "execution_count": 324,
   "metadata": {},
   "outputs": [],
   "source": [
    "p_na_d = []\n",
    "assn_codes_val_counts = df_ft[(df_ft.match == 'assigned_no_pred') | (df_ft.match == 'match')].icd9.value_counts()\n",
    "for g, df in p_na.groupby(['hadm', 'start']):\n",
    "    if df.shape[0] == 2:\n",
    "        code1_count = assn_codes_val_counts[df.icd9.iloc[0]]\n",
    "        code2_count = assn_codes_val_counts[df.icd9.iloc[1]]\n",
    "        if code1_count > code2_count:\n",
    "            p_na_d.append(pd.DataFrame(df.iloc[0, :]).T)\n",
    "        else:\n",
    "            p_na_d.append(pd.DataFrame(df.iloc[1, :]).T)\n",
    "    else:\n",
    "        p_na_d.append(df)"
   ]
  },
  {
   "cell_type": "code",
   "execution_count": 326,
   "metadata": {},
   "outputs": [],
   "source": [
    "p_na_d = pd.concat(p_na_d)"
   ]
  },
  {
   "cell_type": "code",
   "execution_count": 335,
   "metadata": {},
   "outputs": [
    {
     "data": {
      "text/plain": [
       "assigned_no_pred    389933\n",
       "pred_no_assign       48248\n",
       "match                46563\n",
       "Name: match, dtype: int64"
      ]
     },
     "execution_count": 335,
     "metadata": {},
     "output_type": "execute_result"
    }
   ],
   "source": [
    "df_ft.match.value_counts()"
   ]
  },
  {
   "cell_type": "code",
   "execution_count": 359,
   "metadata": {},
   "outputs": [],
   "source": [
    "matches = df_ft[df_ft.match == 'match'].loc[:, ['hadm', 'icd9']]\n",
    "new_preds = p_na_d.loc[:, ['hadm', 'icd9']]\n",
    "assn_no_pred = df_ft[df_ft.match == 'assigned_no_pred'].loc[:, ['hadm', 'icd9']]"
   ]
  },
  {
   "cell_type": "code",
   "execution_count": 360,
   "metadata": {},
   "outputs": [],
   "source": [
    "matches['validated'] = 'yes' \n",
    "new_preds['validated'] = 'new_code'\n",
    "assn_no_pred['validated'] = 'no'"
   ]
  },
  {
   "cell_type": "code",
   "execution_count": 395,
   "metadata": {},
   "outputs": [],
   "source": [
    "pd.concat([matches, new_preds, assn_no_pred]).reset_index(drop=True).to_csv('MIMIC-III_Clinical_Codes_Silver_Standard.csv', index=False)"
   ]
  }
 ],
 "metadata": {
  "kernelspec": {
   "display_name": "Python [conda env:mimc3_dd]",
   "language": "python",
   "name": "conda-env-mimc3_dd-py"
  },
  "language_info": {
   "codemirror_mode": {
    "name": "ipython",
    "version": 3
   },
   "file_extension": ".py",
   "mimetype": "text/x-python",
   "name": "python",
   "nbconvert_exporter": "python",
   "pygments_lexer": "ipython3",
   "version": "3.8.1"
  }
 },
 "nbformat": 4,
 "nbformat_minor": 4
}
