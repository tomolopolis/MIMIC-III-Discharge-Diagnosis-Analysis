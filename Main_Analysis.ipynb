{
 "cells": [
  {
   "cell_type": "code",
   "execution_count": 1,
   "metadata": {},
   "outputs": [],
   "source": [
    "%load_ext autoreload\n",
    "\n",
    "%autoreload 2\n",
    "\n",
    "from medcat.cat import CAT\n",
    "from medcat.utils.vocab import Vocab\n",
    "from medcat.cdb import CDB\n",
    "from medcat.prepare_cdb import PrepareCDB\n",
    "\n",
    "from icd9cms import search\n",
    "import os\n",
    "import pandas as pd\n",
    "import numpy as np\n",
    "from collections import defaultdict\n",
    "import json\n",
    "from matplotlib import pyplot as plt\n",
    "import seaborn as sns"
   ]
  },
  {
   "cell_type": "code",
   "execution_count": 4,
   "metadata": {},
   "outputs": [],
   "source": [
    "codes = pd.read_csv('data/admission_codes.csv')\n",
    "df = codes.groupby('icd9_code').count()\n",
    "df.reset_index(inplace=True)\n",
    "df.columns = ['cui', 'count', '_', '_']\n",
    "clean_codes = df.loc[:, ['cui', 'count']]"
   ]
  },
  {
   "cell_type": "markdown",
   "metadata": {},
   "source": [
    "### Top 5 Occurring Codes in MIMIC-III"
   ]
  },
  {
   "cell_type": "code",
   "execution_count": 3,
   "metadata": {},
   "outputs": [
    {
     "data": {
      "text/html": [
       "<div>\n",
       "<style scoped>\n",
       "    .dataframe tbody tr th:only-of-type {\n",
       "        vertical-align: middle;\n",
       "    }\n",
       "\n",
       "    .dataframe tbody tr th {\n",
       "        vertical-align: top;\n",
       "    }\n",
       "\n",
       "    .dataframe thead th {\n",
       "        text-align: right;\n",
       "    }\n",
       "</style>\n",
       "<table border=\"1\" class=\"dataframe\">\n",
       "  <thead>\n",
       "    <tr style=\"text-align: right;\">\n",
       "      <th></th>\n",
       "      <th>cui</th>\n",
       "      <th>count</th>\n",
       "    </tr>\n",
       "  </thead>\n",
       "  <tbody>\n",
       "    <tr>\n",
       "      <th>1920</th>\n",
       "      <td>4019</td>\n",
       "      <td>20703</td>\n",
       "    </tr>\n",
       "    <tr>\n",
       "      <th>2066</th>\n",
       "      <td>4280</td>\n",
       "      <td>13111</td>\n",
       "    </tr>\n",
       "    <tr>\n",
       "      <th>2055</th>\n",
       "      <td>42731</td>\n",
       "      <td>12891</td>\n",
       "    </tr>\n",
       "    <tr>\n",
       "      <th>1977</th>\n",
       "      <td>41401</td>\n",
       "      <td>12429</td>\n",
       "    </tr>\n",
       "    <tr>\n",
       "      <th>2897</th>\n",
       "      <td>5849</td>\n",
       "      <td>9119</td>\n",
       "    </tr>\n",
       "  </tbody>\n",
       "</table>\n",
       "</div>"
      ],
      "text/plain": [
       "        cui  count\n",
       "1920   4019  20703\n",
       "2066   4280  13111\n",
       "2055  42731  12891\n",
       "1977  41401  12429\n",
       "2897   5849   9119"
      ]
     },
     "execution_count": 3,
     "metadata": {},
     "output_type": "execute_result"
    }
   ],
   "source": [
    "clean_codes.sort_values('count', ascending=False).head(5)"
   ]
  },
  {
   "cell_type": "code",
   "execution_count": 17,
   "metadata": {},
   "outputs": [],
   "source": [
    "# needed columns \n",
    "# cui,str,onto,tty,tui,sty,desc,is_unique,examples\n",
    "code_meta_dir = defaultdict(list)\n",
    "for row in clean_codes.itertuples():\n",
    "    found_code = search(row.cui)\n",
    "    code_meta_dir['cui'].append(row.cui)\n",
    "    code_meta_dir['count'].append(row.count)\n",
    "    code_meta_dir['str'].append(found_code.short_desc)\n",
    "    code_meta_dir['onto'].append('icd9')\n",
    "    parent_code = found_code\n",
    "    if  found_code.code[0] != 'E' and len(found_code.code) > 3:\n",
    "        parent_code = search(found_code.code[0:3])\n",
    "    elif found_code.code[0] == 'E' and len(found_code.code) > 4:\n",
    "        parent_code = search(found_code.code[0:4])\n",
    "    code_meta_dir['tui'].append(parent_code.code)\n",
    "    code_meta_dir['sty'].append(parent_code.short_desc)\n",
    "    code_meta_dir['desc'].append(found_code.long_desc or found_code.short_desc)\n",
    "    code_meta_dir['is_unique'].append(-1)"
   ]
  },
  {
   "cell_type": "code",
   "execution_count": 18,
   "metadata": {},
   "outputs": [],
   "source": [
    "cdb_df = pd.DataFrame(code_meta_dir).sort_values('count', ascending=False)"
   ]
  },
  {
   "cell_type": "code",
   "execution_count": 19,
   "metadata": {},
   "outputs": [
    {
     "data": {
      "text/html": [
       "<div>\n",
       "<style scoped>\n",
       "    .dataframe tbody tr th:only-of-type {\n",
       "        vertical-align: middle;\n",
       "    }\n",
       "\n",
       "    .dataframe tbody tr th {\n",
       "        vertical-align: top;\n",
       "    }\n",
       "\n",
       "    .dataframe thead th {\n",
       "        text-align: right;\n",
       "    }\n",
       "</style>\n",
       "<table border=\"1\" class=\"dataframe\">\n",
       "  <thead>\n",
       "    <tr style=\"text-align: right;\">\n",
       "      <th></th>\n",
       "      <th>cui</th>\n",
       "      <th>count</th>\n",
       "      <th>str</th>\n",
       "      <th>onto</th>\n",
       "      <th>tui</th>\n",
       "      <th>sty</th>\n",
       "      <th>desc</th>\n",
       "      <th>is_unique</th>\n",
       "    </tr>\n",
       "  </thead>\n",
       "  <tbody>\n",
       "    <tr>\n",
       "      <th>1920</th>\n",
       "      <td>4019</td>\n",
       "      <td>20703</td>\n",
       "      <td>Hypertension NOS</td>\n",
       "      <td>icd9</td>\n",
       "      <td>401</td>\n",
       "      <td>Essential hypertension</td>\n",
       "      <td>Unspecified essential hypertension</td>\n",
       "      <td>-1</td>\n",
       "    </tr>\n",
       "    <tr>\n",
       "      <th>2066</th>\n",
       "      <td>4280</td>\n",
       "      <td>13111</td>\n",
       "      <td>CHF NOS</td>\n",
       "      <td>icd9</td>\n",
       "      <td>428</td>\n",
       "      <td>Heart failure</td>\n",
       "      <td>Congestive heart failure, unspecified</td>\n",
       "      <td>-1</td>\n",
       "    </tr>\n",
       "    <tr>\n",
       "      <th>2055</th>\n",
       "      <td>42731</td>\n",
       "      <td>12891</td>\n",
       "      <td>Atrial fibrillation</td>\n",
       "      <td>icd9</td>\n",
       "      <td>427</td>\n",
       "      <td>Cardiac dysrhythmias</td>\n",
       "      <td>Atrial fibrillation</td>\n",
       "      <td>-1</td>\n",
       "    </tr>\n",
       "    <tr>\n",
       "      <th>1977</th>\n",
       "      <td>41401</td>\n",
       "      <td>12429</td>\n",
       "      <td>Crnry athrscl natve vssl</td>\n",
       "      <td>icd9</td>\n",
       "      <td>414</td>\n",
       "      <td>Other forms of chronic ischemic heart disease</td>\n",
       "      <td>Coronary atherosclerosis of native coronary ar...</td>\n",
       "      <td>-1</td>\n",
       "    </tr>\n",
       "    <tr>\n",
       "      <th>2897</th>\n",
       "      <td>5849</td>\n",
       "      <td>9119</td>\n",
       "      <td>Acute kidney failure NOS</td>\n",
       "      <td>icd9</td>\n",
       "      <td>584</td>\n",
       "      <td>Acute kidney failure</td>\n",
       "      <td>Acute kidney failure, unspecified</td>\n",
       "      <td>-1</td>\n",
       "    </tr>\n",
       "    <tr>\n",
       "      <th>811</th>\n",
       "      <td>25000</td>\n",
       "      <td>9058</td>\n",
       "      <td>DMII wo cmp nt st uncntr</td>\n",
       "      <td>icd9</td>\n",
       "      <td>250</td>\n",
       "      <td>Diabetes mellitus</td>\n",
       "      <td>Diabetes mellitus without mention of complicat...</td>\n",
       "      <td>-1</td>\n",
       "    </tr>\n",
       "    <tr>\n",
       "      <th>931</th>\n",
       "      <td>2724</td>\n",
       "      <td>8690</td>\n",
       "      <td>Hyperlipidemia NEC/NOS</td>\n",
       "      <td>icd9</td>\n",
       "      <td>272</td>\n",
       "      <td>Disorders of lipoid metabolism</td>\n",
       "      <td>Other and unspecified hyperlipidemia</td>\n",
       "      <td>-1</td>\n",
       "    </tr>\n",
       "    <tr>\n",
       "      <th>2484</th>\n",
       "      <td>51881</td>\n",
       "      <td>7497</td>\n",
       "      <td>Acute respiratry failure</td>\n",
       "      <td>icd9</td>\n",
       "      <td>518</td>\n",
       "      <td>Other diseases of lung</td>\n",
       "      <td>Acute respiratory failure</td>\n",
       "      <td>-1</td>\n",
       "    </tr>\n",
       "    <tr>\n",
       "      <th>2965</th>\n",
       "      <td>5990</td>\n",
       "      <td>6555</td>\n",
       "      <td>Urin tract infection NOS</td>\n",
       "      <td>icd9</td>\n",
       "      <td>599</td>\n",
       "      <td>Other disorders of urethra and urinary tract</td>\n",
       "      <td>Urinary tract infection, site not specified</td>\n",
       "      <td>-1</td>\n",
       "    </tr>\n",
       "    <tr>\n",
       "      <th>2576</th>\n",
       "      <td>53081</td>\n",
       "      <td>6326</td>\n",
       "      <td>Esophageal reflux</td>\n",
       "      <td>icd9</td>\n",
       "      <td>530</td>\n",
       "      <td>Diseases of esophagus</td>\n",
       "      <td>Esophageal reflux</td>\n",
       "      <td>-1</td>\n",
       "    </tr>\n",
       "  </tbody>\n",
       "</table>\n",
       "</div>"
      ],
      "text/plain": [
       "        cui  count                       str  onto  tui  \\\n",
       "1920   4019  20703          Hypertension NOS  icd9  401   \n",
       "2066   4280  13111                   CHF NOS  icd9  428   \n",
       "2055  42731  12891       Atrial fibrillation  icd9  427   \n",
       "1977  41401  12429  Crnry athrscl natve vssl  icd9  414   \n",
       "2897   5849   9119  Acute kidney failure NOS  icd9  584   \n",
       "811   25000   9058  DMII wo cmp nt st uncntr  icd9  250   \n",
       "931    2724   8690    Hyperlipidemia NEC/NOS  icd9  272   \n",
       "2484  51881   7497  Acute respiratry failure  icd9  518   \n",
       "2965   5990   6555  Urin tract infection NOS  icd9  599   \n",
       "2576  53081   6326         Esophageal reflux  icd9  530   \n",
       "\n",
       "                                                sty  \\\n",
       "1920                         Essential hypertension   \n",
       "2066                                  Heart failure   \n",
       "2055                           Cardiac dysrhythmias   \n",
       "1977  Other forms of chronic ischemic heart disease   \n",
       "2897                           Acute kidney failure   \n",
       "811                               Diabetes mellitus   \n",
       "931                  Disorders of lipoid metabolism   \n",
       "2484                         Other diseases of lung   \n",
       "2965   Other disorders of urethra and urinary tract   \n",
       "2576                          Diseases of esophagus   \n",
       "\n",
       "                                                   desc  is_unique  \n",
       "1920                 Unspecified essential hypertension         -1  \n",
       "2066              Congestive heart failure, unspecified         -1  \n",
       "2055                                Atrial fibrillation         -1  \n",
       "1977  Coronary atherosclerosis of native coronary ar...         -1  \n",
       "2897                  Acute kidney failure, unspecified         -1  \n",
       "811   Diabetes mellitus without mention of complicat...         -1  \n",
       "931                Other and unspecified hyperlipidemia         -1  \n",
       "2484                          Acute respiratory failure         -1  \n",
       "2965        Urinary tract infection, site not specified         -1  \n",
       "2576                                  Esophageal reflux         -1  "
      ]
     },
     "execution_count": 19,
     "metadata": {},
     "output_type": "execute_result"
    }
   ],
   "source": [
    "cdb_df.sort_values('count', ascending=False).head(10)"
   ]
  },
  {
   "cell_type": "markdown",
   "metadata": {},
   "source": [
    "## Link Pre-trained UMLS to ICD-9-CM\n",
    "CSV mapping file from: https://bioportal.bioontology.org/ontologies/ICD9CM/?p=summary\n",
    "\n",
    "After testing with ICD9 mapping. Many mappings appear to be missing with UMLS. Using the trained / built ICD10 to UMLS mapping"
   ]
  },
  {
   "cell_type": "code",
   "execution_count": 7,
   "metadata": {},
   "outputs": [],
   "source": [
    "# mapping = pd.read_csv('ICD9CM.csv')"
   ]
  },
  {
   "cell_type": "markdown",
   "metadata": {},
   "source": [
    "## Mapping ICD9 to ICD10"
   ]
  },
  {
   "cell_type": "code",
   "execution_count": 25,
   "metadata": {},
   "outputs": [],
   "source": [
    "codes = pd.read_csv('data/admission_codes.csv')"
   ]
  },
  {
   "cell_type": "code",
   "execution_count": 26,
   "metadata": {},
   "outputs": [],
   "source": [
    "icd9_to_10_mapping = pd.read_csv('refdata/icd9toicd10cmgem.csv')\n",
    "sorted_codes = codes.icd9_code.value_counts().reset_index().sort_values('icd9_code', ascending=False)\n",
    "sorted_codes.columns = ['code', 'count']\n",
    "count = 0\n",
    "icd10 = []\n",
    "for c in sorted_codes.code:\n",
    "    mapped_rows = icd9_to_10_mapping[icd9_to_10_mapping.icd9cm == c]   \n",
    "    icd10.append(','.join(mapped_rows.icd10cm.tolist()) if \n",
    "                 mapped_rows.shape[0] > 1 else mapped_rows.icd10cm.iloc[0])\n",
    "sorted_codes['icd10'] = icd10"
   ]
  },
  {
   "cell_type": "code",
   "execution_count": 27,
   "metadata": {},
   "outputs": [],
   "source": [
    "total_assigned_codes = sorted_codes['count'].sum()"
   ]
  },
  {
   "cell_type": "code",
   "execution_count": 28,
   "metadata": {},
   "outputs": [
    {
     "data": {
      "text/plain": [
       "450732"
      ]
     },
     "execution_count": 28,
     "metadata": {},
     "output_type": "execute_result"
    }
   ],
   "source": [
    "sorted_codes['count'].iloc[:300].sum()"
   ]
  },
  {
   "cell_type": "markdown",
   "metadata": {},
   "source": [
    "## Code Proportions of Total Assigned Codes\n",
    "We go with thea top 400 ICD-9 codes in the following analysis, giving  is a reasonable number for 'majority' coverage of the codes in MIMIC-III without validating all ~6k. "
   ]
  },
  {
   "cell_type": "code",
   "execution_count": 12,
   "metadata": {},
   "outputs": [],
   "source": [
    "code_ranges = [50, 100, 200, 300, 400, 500, 600]\n",
    "props_of_total_codes = [(r, round((sorted_codes['count'].iloc[:r].sum() / total_assigned_codes) * 100, 2)) for r in code_ranges] "
   ]
  },
  {
   "cell_type": "code",
   "execution_count": 13,
   "metadata": {},
   "outputs": [
    {
     "data": {
      "text/plain": [
       "[(50, 38.24),\n",
       " (100, 50.11),\n",
       " (200, 63.39),\n",
       " (300, 71.01),\n",
       " (400, 76.2),\n",
       " (500, 79.96),\n",
       " (600, 82.9)]"
      ]
     },
     "execution_count": 13,
     "metadata": {},
     "output_type": "execute_result"
    }
   ],
   "source": [
    "props_of_total_codes"
   ]
  },
  {
   "cell_type": "markdown",
   "metadata": {},
   "source": [
    "## Filter Down to top 400 ICD-9 Codes\n",
    "That have first been mapped to ICD-10 codes, then mapped to UMLS CUI Codes."
   ]
  },
  {
   "cell_type": "code",
   "execution_count": 20,
   "metadata": {},
   "outputs": [],
   "source": [
    "icd10_mapping = pd.read_csv('refdata/UMLS_to_ICD10.csv')"
   ]
  },
  {
   "cell_type": "code",
   "execution_count": 21,
   "metadata": {},
   "outputs": [],
   "source": [
    "icd10_mapping = icd10_mapping.loc[:, ['Class ID', 'CUI', 'Semantic type UMLS property']]"
   ]
  },
  {
   "cell_type": "code",
   "execution_count": 22,
   "metadata": {},
   "outputs": [],
   "source": [
    "icd10_mapping['tuis'] = icd10_mapping['Semantic type UMLS property']\\\n",
    "    .str.split('|').dropna().apply(\\\n",
    "        lambda tui_list: ','.join([l.split('/')[-1] for l in tui_list]))"
   ]
  },
  {
   "cell_type": "code",
   "execution_count": 23,
   "metadata": {},
   "outputs": [],
   "source": [
    "icd10_mapping['code'] = icd10_mapping['Class ID'].str.split('/').apply(lambda l: l[-1])"
   ]
  },
  {
   "cell_type": "code",
   "execution_count": 29,
   "metadata": {},
   "outputs": [],
   "source": [
    "from itertools import chain\n",
    "icd10_codes_to_keep = list(chain.from_iterable(sorted_codes[0:400].icd10.str.split(',').tolist()))"
   ]
  },
  {
   "cell_type": "code",
   "execution_count": 30,
   "metadata": {},
   "outputs": [],
   "source": [
    "icd10_mapping['code'] = icd10_mapping.code.str.replace('.', '')\n",
    "tuis_to_keep = chain.from_iterable([icd10_mapping[icd10_mapping.code == code].tuis.tolist() for code in icd10_codes_to_keep])\n",
    "tuis_to_keep = set(chain.from_iterable([tui.split(',') for tui in tuis_to_keep]))\n",
    "cuis_to_keep = chain.from_iterable([icd10_mapping[icd10_mapping.code == code].CUI.tolist() for code in icd10_codes_to_keep])\n",
    "cuis_to_keep = list(chain.from_iterable([cui.split('|') for cui in cuis_to_keep]))\n",
    "cuis_to_keep = list(set(cuis_to_keep))"
   ]
  },
  {
   "cell_type": "code",
   "execution_count": 31,
   "metadata": {},
   "outputs": [],
   "source": [
    "icd10_mapping = pd.read_csv('refdata/UMLS_to_ICD10.csv')\n",
    "icd10_mapping['icd10'] = icd10_mapping['Class ID'].str.split('/').apply(lambda l: l[-1])\n",
    "icd10_mapping['icd10'] = icd10_mapping.icd10.str.replace('.', '')"
   ]
  },
  {
   "cell_type": "markdown",
   "metadata": {},
   "source": [
    "## Code Reconciliation\n",
    "Given a set of predicted UMLS concepts for the DD subsections made by MedCAT, we aim to reconcile the codes assigned to the discharge diagnosis subsections in MIMIC-III."
   ]
  },
  {
   "cell_type": "markdown",
   "metadata": {},
   "source": [
    "Firstly, we map the predicted codes back into their ICD-9 counterparts. MedCAT already contains a UMLS to ICD-10-CM mapping, so we directly use that mapping supplied by the tool."
   ]
  },
  {
   "cell_type": "code",
   "execution_count": 14,
   "metadata": {},
   "outputs": [],
   "source": [
    "notes = pd.read_csv('data/mimic_dd_icd9_sections.csv')\n",
    "notes['name'] = notes.name.str.split(':').apply(lambda l: l[1])\n",
    "codes = pd.read_csv('data/admission_codes.csv')\n",
    "objs = json.load(open('data/mimic_dd_annos.json'))"
   ]
  },
  {
   "cell_type": "markdown",
   "metadata": {},
   "source": [
    "### Map parsed UMLS concepts with attached ICD-10 codes to ICD9"
   ]
  },
  {
   "cell_type": "code",
   "execution_count": 8,
   "metadata": {},
   "outputs": [],
   "source": [
    "from reconcile import map_medcat_annos_to_icd9"
   ]
  },
  {
   "cell_type": "code",
   "execution_count": null,
   "metadata": {},
   "outputs": [],
   "source": [
    "parsed_dd_mapped_to_icd9 = map_medcat_annos_to_icd9(objs, notes, codes, cuis_to_keep)"
   ]
  },
  {
   "cell_type": "markdown",
   "metadata": {},
   "source": [
    "### Reconcile Codes\n",
    "As UMLS codes can map many-to-many to ICD-10 and ICD-9 codes, a single UMLS prediction by MedCAT can map to many associated ICD codes. If the MIMIC-III assigned codes matches one of these UMLS assigned codes we assume the MIMIC-III assigned code is correct and remove all others that refer to the same span of text.\n",
    "\n",
    "Then split the reconciled codes into 3 datasets:\n",
    "- Assigned in MIMIC-III and Not Predicted by MedCAT, denoted **A_NP** in the paper.\n",
    "- Predicted by MedCAT and Assigned in MIMIC-III, denoted **P_A** in the paper. \n",
    "- Predicted by MedCAT and Not Assigned in MIMIC-III, denoted **P_NA** in the paper. "
   ]
  },
  {
   "cell_type": "code",
   "execution_count": 9,
   "metadata": {},
   "outputs": [],
   "source": [
    "from reconcile import remove_duplicate_mapped_assigned_codes"
   ]
  },
  {
   "cell_type": "code",
   "execution_count": 106,
   "metadata": {},
   "outputs": [],
   "source": [
    "joined_df = remove_duplicate_mapped_assigned_codes(notes, codes, parsed_dd_mapped_to_icd9)"
   ]
  },
  {
   "cell_type": "markdown",
   "metadata": {},
   "source": [
    "### Plot Base Predictions by MedCAT of DD Susections\n",
    "- Predicted codes that match with Assigned codes from MIMIC-III\n",
    "- Predicted codes but have no matching assigned codes. (These are the most interesting cases, where we can begin to argue where the coding is unreliable).\n",
    "- We accept the gap between assigned codes and no predictions is large due to:\n",
    " - codes coming from outside the DD subsection\n",
    " - possibly overcoding"
   ]
  },
  {
   "cell_type": "code",
   "execution_count": 10,
   "metadata": {},
   "outputs": [],
   "source": [
    "def compute_y(joined_df, filter_unvalidated_codes=None):\n",
    "    matched_codes = joined_df[joined_df.match == 'match'].icd9.unique()\n",
    "    joined_df_assignedno_pred = joined_df[joined_df.match == 'assigned_no_pred']\n",
    "    joined_df_assignedno_pred = joined_df_assignedno_pred[joined_df_assignedno_pred.icd9.isin(matched_codes)].shape[0]\n",
    "    pred_no_assn = joined_df[joined_df.match == 'pred_no_assign']\n",
    "    matched = joined_df[joined_df.match == 'match']\n",
    "    \n",
    "    print(len(matched.icd9.unique()))\n",
    "    if filter_unvalidated_codes:\n",
    "        matched = matched[~matched.icd9.isin(filter_unvalidated_codes)]\n",
    "        pred_no_assn = pred_no_assn[~pred_no_assn.icd9.isin(filter_unvalidated_codes)]\n",
    "\n",
    "    y = [joined_df[joined_df.match == 'assigned_no_pred'].shape[0],  # raw code counts\n",
    "         joined_df_assignedno_pred, # raw code counts not including the codes that had at least one match in MedCAT\n",
    "         matched.shape[0], # raw code counts that match with assigned codes\n",
    "         pred_no_assn.shape[0] # raw code counts that were not assigned but were predicted.\n",
    "        ]\n",
    "    return y"
   ]
  },
  {
   "cell_type": "markdown",
   "metadata": {},
   "source": [
    "## MedCAT Fine-Tuning / Validation Stratified Sampling \n",
    "We sub-sample each of the three datasets by:\n",
    " - by ICD-9 Code\n",
    " - by HADMD ID\n",
    "\n",
    "The **A_NP** dataset is used for MedCAT 'fine-tuning', so the model can include additional synoyms or abbreviations for codes.\n",
    "\n",
    "**P_A** and **P_NA** are used to validate the tool ensuring the model predictions are valid."
   ]
  },
  {
   "cell_type": "code",
   "execution_count": 429,
   "metadata": {},
   "outputs": [],
   "source": [
    "random_state = 42\n",
    "def sample_dataset(dataset, sample_size, num_discard_lead_samples=0, only_sample_codes=None):\n",
    "    samples = []\n",
    "    for code, group_df in dataset.groupby('icd9'):\n",
    "        if only_sample_codes is not None and code not in only_sample_codes:\n",
    "            continue\n",
    "        sample_df = group_df.sample(min(group_df.shape[0], sample_size), random_state=random_state).loc[:, ['hadm']]\n",
    "        sample_df.iloc[num_discard_lead_samples:]\n",
    "        sample_df['icd9'] = code\n",
    "        sample_df['text'] = [notes[notes.name == str(sample.hadm)].text.iloc[0] for sample in sample_df.itertuples()]\n",
    "        samples.append(sample_df)\n",
    "    return pd.concat(samples).reset_index(drop=True)"
   ]
  },
  {
   "cell_type": "markdown",
   "metadata": {},
   "source": [
    "### Sample - Prediction and Assigned"
   ]
  },
  {
   "cell_type": "code",
   "execution_count": 430,
   "metadata": {},
   "outputs": [],
   "source": [
    "sample_dataset(joined_df[joined_df.match == 'match'], 10).to_csv('sampled_correct_preds.csv', index=False)"
   ]
  },
  {
   "cell_type": "markdown",
   "metadata": {},
   "source": [
    "### Sample - Pred and Not Assigned"
   ]
  },
  {
   "cell_type": "code",
   "execution_count": null,
   "metadata": {},
   "outputs": [],
   "source": [
    "sample_dataset(joined_df[joined_df.match == 'pred_no_assign'], 10).to_csv('sampled_preds_no_assign.csv', index=False)"
   ]
  },
  {
   "cell_type": "markdown",
   "metadata": {},
   "source": [
    "### Sample - Assigned, No Pred"
   ]
  },
  {
   "cell_type": "code",
   "execution_count": null,
   "metadata": {},
   "outputs": [],
   "source": [
    "sample_dataset(joined_df[joined_df.match == 'assigned_no_pred'], 10).to_csv('sampled_assigned_no_pred.csv', index=False)"
   ]
  },
  {
   "cell_type": "markdown",
   "metadata": {},
   "source": [
    "# Create Datasets to be evaludated in MedCATTrainer\n",
    "We use a running instance of the [MedCATTrainer](https://github.com/Cogstack/MedCATTrainer) interface.\n",
    "\n",
    "We use the ReST API for creating datasets / projects"
   ]
  },
  {
   "cell_type": "code",
   "execution_count": 10,
   "metadata": {},
   "outputs": [],
   "source": [
    "import requests\n",
    "import json\n",
    "import pandas as pd"
   ]
  },
  {
   "cell_type": "markdown",
   "metadata": {},
   "source": [
    "### First 'Login' to the API with Username and Password.\n",
    "The returned API token once logged in is used in subsequent request headers."
   ]
  },
  {
   "cell_type": "code",
   "execution_count": 16,
   "metadata": {},
   "outputs": [],
   "source": [
    "headers = {\n",
    "    'Authorization': f'Token {json.loads(requests.post(\"http://localhost:8001/api/api-token-auth/\", json={\"username\": \"admin\", \"password\": \"admin\"}).text)[\"token\"]}',\n",
    "}"
   ]
  },
  {
   "cell_type": "markdown",
   "metadata": {},
   "source": [
    "### Create Datasets for Fine-Tuning / Validation\n",
    "Each ICD-9 Code for each of the 3 (**A_NP**, **P_A**, **P_NA**) are created."
   ]
  },
  {
   "cell_type": "code",
   "execution_count": 100,
   "metadata": {},
   "outputs": [],
   "source": [
    "def create_datasets(filename, dataset_name_prefix, dataset_desc_prefix):\n",
    "    dataset_ids = []\n",
    "    for code, group_df in list(pd.read_csv(filename).groupby('icd9')):\n",
    "        group_df.columns = ['name', 'icd9', 'text']\n",
    "        payload = {\n",
    "            'dataset_name': f'{dataset_name_prefix}{code}',\n",
    "            'dataset': group_df.loc[:, ['name', 'text']].to_dict(),\n",
    "            'description': f'{dataset_desc_prefix}{code}',\n",
    "        }\n",
    "        resp = requests.post('http://localhost:8001/api/create-dataset/', json=payload, headers=headers)\n",
    "        dataset_ids.append(json.loads(resp.text)['dataset_id'])\n",
    "    return dataset_ids"
   ]
  },
  {
   "cell_type": "code",
   "execution_count": null,
   "metadata": {},
   "outputs": [],
   "source": [
    "assn_no_pred_dataset_ids = create_datasets('sampled_assigned_no_pred.csv', 'Assn No Pred ', 'Assigned with no prediction for code ')"
   ]
  },
  {
   "cell_type": "code",
   "execution_count": 114,
   "metadata": {},
   "outputs": [],
   "source": [
    "assn_pred_dataset_ids = create_datasets('sampled_correct_preds.csv', 'Corr No Pred ', 'Assigned and predicted for code ')"
   ]
  },
  {
   "cell_type": "code",
   "execution_count": 106,
   "metadata": {},
   "outputs": [],
   "source": [
    "preds_no_assgn_dataset_ids = create_datasets('sampled_preds_no_assign.csv', 'Preds No Assn ', 'Predicted but no assignment for code ')"
   ]
  },
  {
   "cell_type": "markdown",
   "metadata": {},
   "source": [
    "### Create Projects for Fine-Tuning / Validation\n",
    "Each ICD-9 Code for each of the 3 (**A_NP**, **P_A**, **P_NA**) are created.\n",
    "\n",
    "We create an associated .csv file for each of 3 datasets to track the manual validation / fine-tuning effort."
   ]
  },
  {
   "cell_type": "code",
   "execution_count": 102,
   "metadata": {},
   "outputs": [],
   "source": [
    "icd10_mapping.icd10_code = icd10_mapping.icd10_code.str.replace('.', '')\n",
    "icd9_to_10_mapping.reset_index(inplace=True)"
   ]
  },
  {
   "cell_type": "code",
   "execution_count": 112,
   "metadata": {},
   "outputs": [],
   "source": [
    "def create_projects(project_prefix, filename, dataset_ids):\n",
    "    code_maps = {'icd9_code': [], 'icd9_long_title': [], 'icd10_code': [], 'umls_cuis': []}\n",
    "    for dataset_id, (code, group_df) in zip(dataset_ids, pd.read_csv(filename).groupby('icd9')):\n",
    "        icd10_mapped_codes = icd9_to_10_mapping[icd9_to_10_mapping.icd9cm == code].icd10cm.tolist()\n",
    "        cuis = list(chain.from_iterable([c.split('|') for c in icd10_mapping[icd10_mapping.icd10_code.isin(icd10_mapped_codes)].CUI.tolist()]))\n",
    "        payload = {\n",
    "            'name': f'{project_prefix} - DS: {dataset_id} code: {code} desc: {codes[codes.icd9 == code].iloc[0].short_title}',\n",
    "            'description': '',\n",
    "            'cuis': ','.join(cuis),\n",
    "            'tuis': '',\n",
    "            'require_entity_validation': True,\n",
    "            'train_model_on_submit': True,\n",
    "            'dataset': dataset_id,\n",
    "            'concept_db': 3, # UMLS Full CDB \n",
    "            'vocab': 1, # vocab full\n",
    "            'members': [1]\n",
    "        }\n",
    "        code_maps['icd9_code'].append(code)\n",
    "        code_maps['icd9_long_title'].append(search(code).long_desc)\n",
    "        code_maps['icd10_code'].append(icd10_mapped_codes)\n",
    "        code_maps['umls_cuis'].append(cuis)\n",
    "        resp = requests.post('http://localhost:8001/api/project-annotate-entities/', json=payload, headers=headers)\n",
    "        if resp.ok:\n",
    "            print(f'created project for dataset:{dataset_id}')\n",
    "        else:\n",
    "            print(f'error creating project for dataset:{dataset_id}')\n",
    "            print(resp.text)\n",
    "            raise Exception()\n",
    "    return code_maps"
   ]
  },
  {
   "cell_type": "code",
   "execution_count": 207,
   "metadata": {},
   "outputs": [],
   "source": [
    "df = list(pd.read_csv('sampled_assigned_no_pred.csv').groupby('icd9'))\n",
    "icd9_to_10_mapping[icd9_to_10_mapping.icd9cm == '00845'].icd10cm.tolist()\n",
    "df = list(pd.read_csv('sampled_correct_preds.csv').groupby('icd9'))"
   ]
  },
  {
   "cell_type": "code",
   "execution_count": 252,
   "metadata": {},
   "outputs": [],
   "source": [
    "code_maps_asssn_no_preds = create_projects('Assn No Prd', 'sampled_assigned_no_pred.csv', assn_no_pred_dataset_ids)\n",
    "pd.DataFrame(code_maps_asssn_no_preds).to_csv('code_maps_sampled_assgned_no_pred.csv', index=False)"
   ]
  },
  {
   "cell_type": "code",
   "execution_count": null,
   "metadata": {},
   "outputs": [],
   "source": [
    "code_maps_preds_no_assign = create_projects('Prd N Asn', 'sampled_preds_no_assign.csv', preds_no_assgn_dataset_ids)\n",
    "pd.DataFrame(code_maps_preds_no_assign).to_csv('code_maps_sampeld_preds_no_assn.csv', index=False)"
   ]
  },
  {
   "cell_type": "code",
   "execution_count": 124,
   "metadata": {},
   "outputs": [],
   "source": [
    "code_maps_correct_preds = create_projects('Cor Prd', 'sampled_correct_preds.csv', assn_pred_dataset_ids)\n",
    "pd.DataFrame(code_maps_correct_preds).to_csv('code_maps_sampled_correct_preds.csv', index=False)"
   ]
  },
  {
   "cell_type": "markdown",
   "metadata": {},
   "source": [
    "## Manual validation of above samples of each Dataset\n",
    "Each csv dataset has an associated .xlsx, with further columns added for validation."
   ]
  },
  {
   "cell_type": "markdown",
   "metadata": {},
   "source": [
    "### Further Samples of Assigned but no prediction from MedCAT\n",
    "- During validation of the 'Assigned with no prediction of code', we annotate if more samples are required.\n",
    "- Re-sample only those with 'TRUE' in the column of more_samples_required."
   ]
  },
  {
   "cell_type": "code",
   "execution_count": 422,
   "metadata": {},
   "outputs": [],
   "source": [
    "code_maps_assn_no_preds_complete = pd.read_excel('code_maps_sampled_assgned_no_pred.xlsx')"
   ]
  },
  {
   "cell_type": "code",
   "execution_count": 425,
   "metadata": {},
   "outputs": [],
   "source": [
    "icd9_codes_to_resample = code_maps_assn_no_preds_complete[code_maps_assn_no_preds_complete.more_samples_required].icd9_code.tolist()"
   ]
  },
  {
   "cell_type": "code",
   "execution_count": 433,
   "metadata": {},
   "outputs": [],
   "source": [
    "sample_dataset(joined_df[joined_df.match == 'assigned_no_pred'], 10, 10, icd9_codes_to_resample).to_csv('sampled_assigned_no_pred_more.csv', index=False)"
   ]
  },
  {
   "cell_type": "code",
   "execution_count": null,
   "metadata": {},
   "outputs": [],
   "source": []
  },
  {
   "cell_type": "markdown",
   "metadata": {},
   "source": [
    "### Analyse Annotations\n",
    "Group annotations by top level axis and plot "
   ]
  },
  {
   "cell_type": "code",
   "execution_count": 192,
   "metadata": {},
   "outputs": [],
   "source": [
    "assn_no_pred = pd.DataFrame(json.load(open('data/MedCAT_Export_With_Text_Assn_No_Pred.json'))['projects'])\n",
    "assn_no_pred = assn_no_pred.iloc[:-3]\n",
    "assn_no_pred['icd9'] = assn_no_pred.loc[:, 'name'].str.split(':').apply(lambda l: l[2].strip().split(' ')[0])\n",
    "\n",
    "def find_root_axis(code): \n",
    "    par = code.parent\n",
    "    if par is not None:\n",
    "        return find_root_axis(par)\n",
    "    else:\n",
    "        return code\n",
    "\n",
    "assn_no_pred['root_axis'] = assn_no_pred.icd9.apply(lambda code: find_root_axis(search(code))).apply(str)\n",
    "assn_no_pred['annotations'] = assn_no_pred.loc[:, 'documents'].apply(lambda docs: [a for d in docs for a in d['annotations']])\n",
    "assn_no_pred['annos_len'] = assn_no_pred.annotations.apply(len)\n",
    "annos_by_axis = assn_no_pred.loc[:, ['root_axis', 'annos_len']].groupby('root_axis').sum().sort_values('annos_len', ascending=False)\n",
    "# clean up the axis-names\n",
    "x_axis_ticks = [s.split(':')[0] for s in annos_by_axis.index]\n",
    "\n",
    "all_assn_no_pred = joined_df[joined_df.match == 'assigned_no_pred']\n",
    "all_assn_no_pred['root_axis'] = all_assn_no_pred.icd9.apply(lambda code: find_root_axis(search(code))).apply(str)\n",
    "all_assn_no_pred = all_assn_no_pred.loc[:, ['icd9', 'root_axis']]\n",
    "all_assn_no_pred['root_axis'] = all_assn_no_pred.root_axis.str.split(':').apply(lambda l: l[0])\n",
    "all_assn_no_pred = all_assn_no_pred.groupby('root_axis').count()\n",
    "all_assn_no_pred = all_assn_no_pred.reindex(x_axis_ticks)"
   ]
  },
  {
   "cell_type": "code",
   "execution_count": 266,
   "metadata": {},
   "outputs": [
    {
     "data": {
      "image/png": "[encoded data removed]",
      "text/plain": [
       "<Figure size 576x432 with 2 Axes>"
      ]
     },
     "metadata": {
      "needs_background": "light"
     },
     "output_type": "display_data"
    }
   ],
   "source": [
    "fig, ax = plt.subplots(figsize=(8, 6))\n",
    "indices = range(len(annos_by_axis.annos_len.tolist()))\n",
    "width = np.min(np.diff(indices))/3\n",
    "\n",
    "ax2 = ax.twiny()\n",
    "\n",
    "color_1 = 'tab:blue'\n",
    "color_2 = 'tab:orange'\n",
    "\n",
    "bar1 = ax.barh(indices - width / 2, annos_by_axis.annos_len, width, label='Annotations Collected', color=color_1)\n",
    "ax.set_yticks(indices)\n",
    "ax.set_yticklabels(x_axis_ticks)\n",
    "ax.set_ylabel('Top Level ICD-9 Code Axis', fontsize=16)\n",
    "ax.set_xlabel('# of annotations collected', color=color_1, fontsize=16)\n",
    "\n",
    "bar2 = ax2.barh(indices + width / 2, all_assn_no_pred.icd9, width, label='Assigned Codes MIMIC-III', color=color_2)\n",
    "ax2.set_xlabel('# of assigned codes', color=color_2, fontsize=14)\n",
    "\n",
    "plt.legend([bar1, bar2], [bar1.get_label(), bar2.get_label()], fontsize=12)\n",
    "plt.tight_layout()\n",
    "plt.savefig('./plots/training_data_collected_stacked.png')\n",
    "plt.show()"
   ]
  },
  {
   "cell_type": "markdown",
   "metadata": {},
   "source": [
    "### Analysis of Validated Codes\n",
    "- We keep predictions of codes that have been validated as correctly predicted across all instances for both Predicted, Not Assigned and Predicted, Assigned."
   ]
  },
  {
   "cell_type": "code",
   "execution_count": null,
   "metadata": {},
   "outputs": [],
   "source": [
    "pred_corr_assn = pd.DataFrame(json.loads(open('data/MedCAT_Export_With_Text_Pred_Corr.json')))\n",
    "pred_corr_no_assn = pd.DataFrame(json.loads(open('MedCAT_Export_With_Text_Pred_No_Assn.json')))"
   ]
  },
  {
   "cell_type": "code",
   "execution_count": 137,
   "metadata": {},
   "outputs": [],
   "source": [
    "projs = json.load(open('data/MedCAT_Export_With_Text_Pred_Corr.json'))['projects'] "
   ]
  },
  {
   "cell_type": "code",
   "execution_count": 149,
   "metadata": {},
   "outputs": [],
   "source": [
    "pred_corr_all_corr_projs = [p for p in projs if all([all(a['correct'] for a in d['annotations']) for d in p['documents']])]"
   ]
  },
  {
   "cell_type": "code",
   "execution_count": 157,
   "metadata": {},
   "outputs": [
    {
     "data": {
      "text/plain": [
       "95.53"
      ]
     },
     "execution_count": 157,
     "metadata": {},
     "output_type": "execute_result"
    }
   ],
   "source": [
    "round(len(pred_corr_all_corr_projs) / len(projs) * 100, 2)"
   ]
  },
  {
   "cell_type": "code",
   "execution_count": 283,
   "metadata": {},
   "outputs": [],
   "source": [
    "wrong_codes_p_a = set([p['name'].split(':')[2].strip().split(' ')[0] for p in projs]) - set([p['name'].split(':')[2].strip().split(' ')[0] for p in pred_corr_all_corr_projs])"
   ]
  },
  {
   "cell_type": "code",
   "execution_count": 284,
   "metadata": {},
   "outputs": [
    {
     "data": {
      "text/plain": [
       "{'1120', '185', '3485', '4271', '51889', '58381', '5859', 'V08'}"
      ]
     },
     "execution_count": 284,
     "metadata": {},
     "output_type": "execute_result"
    }
   ],
   "source": [
    "wrong_codes_p_a"
   ]
  },
  {
   "cell_type": "code",
   "execution_count": 150,
   "metadata": {},
   "outputs": [],
   "source": [
    "projs_no_assn = json.load(open('data/MedCAT_Export_With_Text_Pred_No_Assn.json'))['projects'] "
   ]
  },
  {
   "cell_type": "code",
   "execution_count": 151,
   "metadata": {},
   "outputs": [],
   "source": [
    "pred_no_assn_all_corr_projs = [p for p in projs_no_assn if all([all(a['correct'] for a in d['annotations']) for d in p['documents']])]"
   ]
  },
  {
   "cell_type": "code",
   "execution_count": 155,
   "metadata": {},
   "outputs": [
    {
     "data": {
      "text/plain": [
       "87.91"
      ]
     },
     "execution_count": 155,
     "metadata": {},
     "output_type": "execute_result"
    }
   ],
   "source": [
    "round(len(pred_no_assn_all_corr_projs) / len(projs_no_assn) * 100, 2)"
   ]
  },
  {
   "cell_type": "code",
   "execution_count": 285,
   "metadata": {},
   "outputs": [],
   "source": [
    "wrong_codes_p_na = set([p['name'].split(':')[2].strip().split(' ')[0] for p in projs_no_assn]) - set([p['name'].split(':')[2].strip().split(' ')[0] for p in pred_no_assn_all_corr_projs])"
   ]
  },
  {
   "cell_type": "code",
   "execution_count": 288,
   "metadata": {},
   "outputs": [],
   "source": [
    "codes_to_remove = wrong_codes_p_a | wrong_codes_p_na"
   ]
  },
  {
   "cell_type": "markdown",
   "metadata": {},
   "source": [
    "### Analyse Annotations from Fine-Tuned MedCAT"
   ]
  },
  {
   "cell_type": "code",
   "execution_count": 32,
   "metadata": {},
   "outputs": [],
   "source": [
    "objs = json.load(open('data/mimic_dd_annos_fine_tuned_cat.json'))"
   ]
  },
  {
   "cell_type": "code",
   "execution_count": 33,
   "metadata": {},
   "outputs": [],
   "source": [
    "parsed_dd_mapped_to_icd9 = map_medcat_annos_to_icd9(objs, notes, codes, cuis_to_keep)"
   ]
  },
  {
   "cell_type": "code",
   "execution_count": 34,
   "metadata": {},
   "outputs": [],
   "source": [
    "joined_df_fine_tuned = remove_duplicate_mapped_assigned_codes(notes, codes, parsed_dd_mapped_to_icd9)"
   ]
  },
  {
   "cell_type": "code",
   "execution_count": 35,
   "metadata": {},
   "outputs": [
    {
     "ename": "NameError",
     "evalue": "name 'joined_df' is not defined",
     "output_type": "error",
     "traceback": [
      "\u001b[0;31m---------------------------------------------------------------------------\u001b[0m",
      "\u001b[0;31mNameError\u001b[0m                                 Traceback (most recent call last)",
      "\u001b[0;32m<ipython-input-35-b0014376efe9>\u001b[0m in \u001b[0;36m<module>\u001b[0;34m\u001b[0m\n\u001b[0;32m----> 1\u001b[0;31m \u001b[0mjoined_df\u001b[0m\u001b[0;34m[\u001b[0m\u001b[0;34m~\u001b[0m\u001b[0mjoined_df_fine_tuned\u001b[0m\u001b[0;34m.\u001b[0m\u001b[0micd9\u001b[0m\u001b[0;34m.\u001b[0m\u001b[0misin\u001b[0m\u001b[0;34m(\u001b[0m\u001b[0mwrong_codes\u001b[0m\u001b[0;34m)\u001b[0m\u001b[0;34m]\u001b[0m\u001b[0;34m\u001b[0m\u001b[0;34m\u001b[0m\u001b[0m\n\u001b[0m",
      "\u001b[0;31mNameError\u001b[0m: name 'joined_df' is not defined"
     ]
    }
   ],
   "source": [
    "joined_df[~joined_df_fine_tuned.icd9.isin(wrong_codes)]"
   ]
  },
  {
   "cell_type": "code",
   "execution_count": 326,
   "metadata": {},
   "outputs": [
    {
     "data": {
      "text/plain": [
       "assigned_no_pred    399640\n",
       "match                36856\n",
       "pred_no_assign       32195\n",
       "Name: match, dtype: int64"
      ]
     },
     "execution_count": 326,
     "metadata": {},
     "output_type": "execute_result"
    }
   ],
   "source": [
    "joined_df.match.value_counts()"
   ]
  },
  {
   "cell_type": "code",
   "execution_count": 391,
   "metadata": {},
   "outputs": [
    {
     "name": "stdout",
     "output_type": "stream",
     "text": [
      "178\n",
      "182\n"
     ]
    }
   ],
   "source": [
    "y_unsupervised = compute_y(joined_df, wrong_codes)\n",
    "y_supervised = compute_y(joined_df_fine_tuned, wrong_codes)"
   ]
  },
  {
   "cell_type": "code",
   "execution_count": 328,
   "metadata": {},
   "outputs": [
    {
     "data": {
      "text/plain": [
       "[399640, 211407, 34253, 28499]"
      ]
     },
     "execution_count": 328,
     "metadata": {},
     "output_type": "execute_result"
    }
   ],
   "source": [
    "y_unsupervised"
   ]
  },
  {
   "cell_type": "code",
   "execution_count": 329,
   "metadata": {},
   "outputs": [
    {
     "data": {
      "text/plain": [
       "[389946, 215858, 43539, 42886]"
      ]
     },
     "execution_count": 329,
     "metadata": {},
     "output_type": "execute_result"
    }
   ],
   "source": [
    "y_supervised"
   ]
  },
  {
   "cell_type": "code",
   "execution_count": 273,
   "metadata": {},
   "outputs": [
    {
     "data": {
      "text/plain": [
       "400"
      ]
     },
     "execution_count": 273,
     "metadata": {},
     "output_type": "execute_result"
    }
   ],
   "source": [
    "len(joined_df_fine_tuned.match(''.icd9.unique())"
   ]
  },
  {
   "cell_type": "code",
   "execution_count": 211,
   "metadata": {},
   "outputs": [],
   "source": [
    "y_unsupervised = y_unsupervised[1:]\n",
    "y_supervised = y_supervised[1:]"
   ]
  },
  {
   "cell_type": "code",
   "execution_count": 372,
   "metadata": {},
   "outputs": [
    {
     "data": {
      "image/png": "[encoded data removed]",
      "text/plain": [
       "<Figure size 1080x360 with 2 Axes>"
      ]
     },
     "metadata": {
      "needs_background": "light"
     },
     "output_type": "display_data"
    }
   ],
   "source": [
    "labels = ['Assigned &\\n Not Predicted', 'Assigned &\\nNot Predicted\\n(filtered)', 'Predicted &\\n Assigned', 'Predicted &\\n Not Assigned']\n",
    "indices = range(len(labels))\n",
    "width = np.min(np.diff(indices))/3\n",
    "\n",
    "fig, (ax, ax2) = plt.subplots(1, 2, figsize=(15, 5))\n",
    "ax.bar(indices - width / 2, y_unsupervised, width, label='MedCAT:out-of-the-box')\n",
    "ax.bar(indices + width / 2, y_supervised, width, label='MedCAT:fine-tuned')\n",
    "ax.set_xticks(range(len(labels)))\n",
    "ax.set_xticklabels(labels)\n",
    "ax.set_ylabel('# of codes assigned')\n",
    "\n",
    "ax.legend()\n",
    "\n",
    "ax2.bar(indices[2:] - width / 2, y_unsupervised[2:], width)\n",
    "ax2.bar(indices[2:] + width / 2, y_supervised[2:], width)\n",
    "ax2.set_xticks([2, 3])\n",
    "ax2.set_xticklabels(labels[2:])\n",
    "ax2.set_ylabel('# of codes assigned')\n",
    "ax2.set_y\n",
    "\n",
    "plt.savefig(f'./plots/aggregate_code_counts.png')\n",
    "plt.show()"
   ]
  },
  {
   "cell_type": "markdown",
   "metadata": {},
   "source": [
    "### Aggregate Prediction Improvements since Fine-Tuning"
   ]
  },
  {
   "cell_type": "code",
   "execution_count": 270,
   "metadata": {},
   "outputs": [
    {
     "data": {
      "text/plain": [
       "26.299999999999997"
      ]
     },
     "execution_count": 270,
     "metadata": {},
     "output_type": "execute_result"
    }
   ],
   "source": [
    "round(joined_df_fine_tuned[joined_df_fine_tuned.match == 'match'].shape[0] / joined_df[joined_df.match == 'match'].shape[0]  * 100, 2) - 100"
   ]
  },
  {
   "cell_type": "code",
   "execution_count": 373,
   "metadata": {},
   "outputs": [
    {
     "data": {
      "text/plain": [
       "9694"
      ]
     },
     "execution_count": 373,
     "metadata": {},
     "output_type": "execute_result"
    }
   ],
   "source": [
    "joined_df_fine_tuned[joined_df_fine_tuned.match == 'match'].shape[0] - joined_df[joined_df.match == 'match'].shape[0]"
   ]
  },
  {
   "cell_type": "code",
   "execution_count": 268,
   "metadata": {},
   "outputs": [
    {
     "data": {
      "text/plain": [
       "49.81999999999999"
      ]
     },
     "execution_count": 268,
     "metadata": {},
     "output_type": "execute_result"
    }
   ],
   "source": [
    "round(joined_df_fine_tuned[joined_df_fine_tuned.match == 'pred_no_assign'].shape[0] / joined_df[joined_df.match == 'pred_no_assign'].shape[0]  * 100, 2) - 100"
   ]
  },
  {
   "cell_type": "code",
   "execution_count": 374,
   "metadata": {},
   "outputs": [
    {
     "data": {
      "text/plain": [
       "16041"
      ]
     },
     "execution_count": 374,
     "metadata": {},
     "output_type": "execute_result"
    }
   ],
   "source": [
    "joined_df_fine_tuned[joined_df_fine_tuned.match == 'pred_no_assign'].shape[0] - joined_df[joined_df.match == 'pred_no_assign'].shape[0]"
   ]
  },
  {
   "cell_type": "code",
   "execution_count": 376,
   "metadata": {},
   "outputs": [
    {
     "data": {
      "text/plain": [
       "0.12369917886066276"
      ]
     },
     "execution_count": 376,
     "metadata": {},
     "output_type": "execute_result"
    }
   ],
   "source": [
    "joined_df_fine_tuned[joined_df_fine_tuned.match == 'pred_no_assign'].shape[0] / joined_df_fine_tuned[joined_df_fine_tuned.match == 'assigned_no_pred'].shape[0]"
   ]
  },
  {
   "cell_type": "code",
   "execution_count": 380,
   "metadata": {},
   "outputs": [
    {
     "data": {
      "text/plain": [
       "0.11165392131218169"
      ]
     },
     "execution_count": 380,
     "metadata": {},
     "output_type": "execute_result"
    }
   ],
   "source": [
    "y_supervised[2]/ y_supervised[0]"
   ]
  },
  {
   "cell_type": "markdown",
   "metadata": {},
   "source": [
    "## Discussion Section Analysis"
   ]
  },
  {
   "cell_type": "markdown",
   "metadata": {},
   "source": [
    "### DD Subsection Total Assigned Codes Coverage of text"
   ]
  },
  {
   "cell_type": "code",
   "execution_count": 1075,
   "metadata": {},
   "outputs": [],
   "source": [
    "all_annos = json.load(open('data/mimic_dd_annos_fine_tuned_cat.json'))"
   ]
  },
  {
   "cell_type": "code",
   "execution_count": 1076,
   "metadata": {},
   "outputs": [],
   "source": [
    "output_text = []\n",
    "ents = []\n",
    "text_raw = []\n",
    "for doc_annos in all_annos:\n",
    "    t = doc_annos['text']\n",
    "    r_l = 0\n",
    "    for a in doc_annos['entities']:\n",
    "        start = a['start'] - r_l\n",
    "        end = a['end'] - r_l\n",
    "        r_l = a['end'] - a['start']\n",
    "        new_t_tmp = t[:start]\n",
    "        t = new_t_tmp + t[end:]\n",
    "    output_text.append(t)\n",
    "    text_raw.append(doc_annos['text'])\n",
    "    ents.append(doc_annos['entities'])"
   ]
  },
  {
   "cell_type": "code",
   "execution_count": 1077,
   "metadata": {},
   "outputs": [],
   "source": [
    "coverage_df = pd.DataFrame({'text': text_raw, 'parsed_text': output_text, 'ents': ents})"
   ]
  },
  {
   "cell_type": "code",
   "execution_count": 1091,
   "metadata": {},
   "outputs": [],
   "source": [
    "coverage_df['parsed_text_clean'] = coverage_df.parsed_text.str.lower()\\\n",
    "    .str.replace('\\n', '')\\\n",
    "    .str.replace('\\,|\\.|:|;|\\||\\[|\\]|\\{|\\}|\\||\\(|\\)|\\*|-|\"', '')\\\n",
    "    .str.replace('\\d', '')\\\n",
    "    .str.replace('primary', '')\\\n",
    "    .str.replace('secondary', '')\\\n",
    "    .str.replace('diagnosis', '')"
   ]
  },
  {
   "cell_type": "code",
   "execution_count": 1092,
   "metadata": {},
   "outputs": [],
   "source": [
    "coverage_df['%_covered'] = round((coverage_df.text.str.len() - coverage_df.parsed_text_clean.str.len()) / coverage_df.text.str.len(), 2) * 100"
   ]
  },
  {
   "cell_type": "code",
   "execution_count": 1097,
   "metadata": {},
   "outputs": [
    {
     "data": {
      "text/plain": [
       "(2105, 5)"
      ]
     },
     "execution_count": 1097,
     "metadata": {},
     "output_type": "execute_result"
    }
   ],
   "source": [
    "coverage_df[coverage_df['%_covered'] == 100.0].shape"
   ]
  },
  {
   "cell_type": "code",
   "execution_count": 1099,
   "metadata": {},
   "outputs": [
    {
     "data": {
      "text/plain": [
       "0         46.0\n",
       "1        100.0\n",
       "2         53.0\n",
       "3         49.0\n",
       "4         50.0\n",
       "         ...  \n",
       "48893     28.0\n",
       "48894     86.0\n",
       "48895     33.0\n",
       "48896     26.0\n",
       "48897     72.0\n",
       "Name: %_covered, Length: 48898, dtype: float64"
      ]
     },
     "execution_count": 1099,
     "metadata": {},
     "output_type": "execute_result"
    }
   ],
   "source": [
    "coverage_df['%_covered']"
   ]
  },
  {
   "cell_type": "code",
   "execution_count": 1093,
   "metadata": {},
   "outputs": [
    {
     "data": {
      "image/png": "[encoded data removed]",
      "text/plain": [
       "<Figure size 1080x360 with 2 Axes>"
      ]
     },
     "metadata": {
      "needs_background": "light"
     },
     "output_type": "display_data"
    }
   ],
   "source": [
    "fig, (ax, ax2) = plt.subplots(1, 2, figsize=(15, 5))\n",
    "cov = coverage_df['%_covered'].value_counts().sort_index() \n",
    "ax.bar(cov.index, cov.tolist())\n",
    "ax.set_xlabel('% of DD Text Covered by MedCAT Predicted Codes', fontsize=12)\n",
    "ax.set_ylabel('Counts of Admissions', fontsize=12)\n",
    "\n",
    "toks_len = coverage_df.text.str.split(' ').apply(len).value_counts().sort_index().iloc[0:100]\n",
    "ax2.bar(toks_len.index, toks_len.tolist())\n",
    "ax2.set_xlabel('Token Length of DD Subsections', fontsize=12)\n",
    "ax2.set_ylabel('Counts of Admissions', fontsize=12)\n",
    "\n",
    "plt.savefig('plots/dd_prediction_coverage.png')\n",
    "plt.show()"
   ]
  },
  {
   "cell_type": "code",
   "execution_count": 1109,
   "metadata": {},
   "outputs": [
    {
     "data": {
      "text/plain": [
       "14.542169413881957"
      ]
     },
     "execution_count": 1109,
     "metadata": {},
     "output_type": "execute_result"
    }
   ],
   "source": [
    "coverage_df.text.str.split(' ').apply(len).mean()"
   ]
  },
  {
   "cell_type": "code",
   "execution_count": 1117,
   "metadata": {},
   "outputs": [
    {
     "data": {
      "text/plain": [
       "15.903119444412367"
      ]
     },
     "execution_count": 1117,
     "metadata": {},
     "output_type": "execute_result"
    }
   ],
   "source": [
    "coverage_df.text.str.split(' ').apply(len).std()"
   ]
  },
  {
   "cell_type": "markdown",
   "metadata": {},
   "source": [
    "### Predicted and Assigned\n",
    "- Distribution of HADMs that matched\n",
    "- \\# of matches correlation with length of DD, and discharge summary\n",
    "- distribution of matches over codes\n",
    "- top codes that matched"
   ]
  },
  {
   "cell_type": "code",
   "execution_count": 36,
   "metadata": {},
   "outputs": [],
   "source": [
    "df_ft = joined_df_fine_tuned"
   ]
  },
  {
   "cell_type": "code",
   "execution_count": 37,
   "metadata": {},
   "outputs": [],
   "source": [
    "all_assigns = df_ft[(df_ft.match == 'assigned_no_pred') | (df_ft.match == 'match')]"
   ]
  },
  {
   "cell_type": "code",
   "execution_count": 38,
   "metadata": {},
   "outputs": [],
   "source": [
    "matched = df_ft[df_ft.match == 'match']\n",
    "no_assn = df_ft[df_ft.match == 'assigned_no_pred']"
   ]
  },
  {
   "cell_type": "code",
   "execution_count": null,
   "metadata": {},
   "outputs": [],
   "source": [
    "h_counts_n_assn = no_assn.groupby('hadm').count().icd9\n",
    "h_counts_match = matched.groupby('hadm').count().icd9"
   ]
  },
  {
   "cell_type": "markdown",
   "metadata": {},
   "source": [
    "#### Ranking\n",
    "- via % predicted vs assigned\n",
    "- via total occurrence\n",
    "- via total predicted"
   ]
  },
  {
   "cell_type": "code",
   "execution_count": null,
   "metadata": {},
   "outputs": [],
   "source": [
    "no_assn.icd9.value_counts().index\n",
    "matched.icd9.value_counts().index\n",
    "combi_index = pd.Index.union(no_assn.icd9.value_counts().index, matched.icd9.value_counts().index)\n",
    "no_assn_cd = no_assn.icd9.value_counts()\n",
    "matched_cd = matched.icd9.value_counts()\n",
    "no_assn_cd.reindex(combi_index, fill_value=0)\n",
    "matched_cd.reindex(combi_index, fill_value=0)"
   ]
  },
  {
   "cell_type": "code",
   "execution_count": 46,
   "metadata": {},
   "outputs": [
    {
     "data": {
      "text/html": [
       "<div>\n",
       "<style scoped>\n",
       "    .dataframe tbody tr th:only-of-type {\n",
       "        vertical-align: middle;\n",
       "    }\n",
       "\n",
       "    .dataframe tbody tr th {\n",
       "        vertical-align: top;\n",
       "    }\n",
       "\n",
       "    .dataframe thead th {\n",
       "        text-align: right;\n",
       "    }\n",
       "</style>\n",
       "<table border=\"1\" class=\"dataframe\">\n",
       "  <thead>\n",
       "    <tr style=\"text-align: right;\">\n",
       "      <th></th>\n",
       "      <th>code</th>\n",
       "      <th>% predicted vs assigned</th>\n",
       "      <th>code_occur_not_matched</th>\n",
       "      <th>code_occurr_matched</th>\n",
       "      <th>toal_occurr</th>\n",
       "      <th>occurrence_rank</th>\n",
       "      <th>desc</th>\n",
       "    </tr>\n",
       "  </thead>\n",
       "  <tbody>\n",
       "    <tr>\n",
       "      <th>0</th>\n",
       "      <td>7470</td>\n",
       "      <td>69.187675</td>\n",
       "      <td>110</td>\n",
       "      <td>247</td>\n",
       "      <td>357.0</td>\n",
       "      <td>196</td>\n",
       "      <td>Patent ductus arteriosus</td>\n",
       "    </tr>\n",
       "    <tr>\n",
       "      <th>1</th>\n",
       "      <td>41519</td>\n",
       "      <td>59.022556</td>\n",
       "      <td>327</td>\n",
       "      <td>471</td>\n",
       "      <td>798.0</td>\n",
       "      <td>114</td>\n",
       "      <td>Other pulmonary embolism and infarction</td>\n",
       "    </tr>\n",
       "    <tr>\n",
       "      <th>2</th>\n",
       "      <td>7766</td>\n",
       "      <td>56.377551</td>\n",
       "      <td>171</td>\n",
       "      <td>221</td>\n",
       "      <td>392.0</td>\n",
       "      <td>246</td>\n",
       "      <td>Anemia of prematurity</td>\n",
       "    </tr>\n",
       "    <tr>\n",
       "      <th>3</th>\n",
       "      <td>1550</td>\n",
       "      <td>55.769231</td>\n",
       "      <td>138</td>\n",
       "      <td>174</td>\n",
       "      <td>312.0</td>\n",
       "      <td>305</td>\n",
       "      <td>Malignant neoplasm of liver, primary</td>\n",
       "    </tr>\n",
       "    <tr>\n",
       "      <th>4</th>\n",
       "      <td>5789</td>\n",
       "      <td>51.834504</td>\n",
       "      <td>617</td>\n",
       "      <td>664</td>\n",
       "      <td>1281.0</td>\n",
       "      <td>26</td>\n",
       "      <td>Hemorrhage of gastrointestinal tract, unspecified</td>\n",
       "    </tr>\n",
       "  </tbody>\n",
       "</table>\n",
       "</div>"
      ],
      "text/plain": [
       "    code  % predicted vs assigned  code_occur_not_matched  \\\n",
       "0   7470                69.187675                     110   \n",
       "1  41519                59.022556                     327   \n",
       "2   7766                56.377551                     171   \n",
       "3   1550                55.769231                     138   \n",
       "4   5789                51.834504                     617   \n",
       "\n",
       "   code_occurr_matched  toal_occurr  occurrence_rank  \\\n",
       "0                  247        357.0              196   \n",
       "1                  471        798.0              114   \n",
       "2                  221        392.0              246   \n",
       "3                  174        312.0              305   \n",
       "4                  664       1281.0               26   \n",
       "\n",
       "                                                desc  \n",
       "0                           Patent ductus arteriosus  \n",
       "1            Other pulmonary embolism and infarction  \n",
       "2                              Anemia of prematurity  \n",
       "3               Malignant neoplasm of liver, primary  \n",
       "4  Hemorrhage of gastrointestinal tract, unspecified  "
      ]
     },
     "execution_count": 46,
     "metadata": {},
     "output_type": "execute_result"
    }
   ],
   "source": [
    "top_pred_codes = ((matched_cd / (matched_cd + no_assn_cd)).fillna(0) * 100).sort_values(ascending=False).head(50).reset_index()\n",
    "top_pred_codes.columns = ['code', '% predicted vs assigned']\n",
    "top_pred_codes['code_occur_not_matched'] = no_assn_cd[top_pred_codes.code].tolist()\n",
    "top_pred_codes['code_occurr_matched'] = matched_cd[top_pred_codes.code].tolist()\n",
    "top_pred_codes['toal_occurr'] = (matched_cd + no_assn_cd)[top_pred_codes.code].tolist()\n",
    "rank_df = df_ft.icd9.value_counts().reset_index()\n",
    "rank_df.columns = ['code', 'counts']\n",
    "rank_df['icd9'] = rank_df.code.apply(str)\n",
    "top_pred_codes['occurrence_rank'] = top_pred_codes.code.apply(lambda c: rank_df[rank_df.code == c].index[0])\n",
    "top_pred_codes['desc'] = top_pred_codes.code.apply(lambda c: search(c).long_desc or search(c).short_desc)\n",
    "top_pred_codes.head(5)"
   ]
  },
  {
   "cell_type": "code",
   "execution_count": 45,
   "metadata": {},
   "outputs": [
    {
     "data": {
      "text/html": [
       "<div>\n",
       "<style scoped>\n",
       "    .dataframe tbody tr th:only-of-type {\n",
       "        vertical-align: middle;\n",
       "    }\n",
       "\n",
       "    .dataframe tbody tr th {\n",
       "        vertical-align: top;\n",
       "    }\n",
       "\n",
       "    .dataframe thead th {\n",
       "        text-align: right;\n",
       "    }\n",
       "</style>\n",
       "<table border=\"1\" class=\"dataframe\">\n",
       "  <thead>\n",
       "    <tr style=\"text-align: right;\">\n",
       "      <th></th>\n",
       "      <th>code</th>\n",
       "      <th>% predicted vs assigned</th>\n",
       "      <th>code_occur_not_matched</th>\n",
       "      <th>code_occurr_matched</th>\n",
       "      <th>toal_occurr</th>\n",
       "      <th>occurrence_rank</th>\n",
       "      <th>desc</th>\n",
       "    </tr>\n",
       "  </thead>\n",
       "  <tbody>\n",
       "    <tr>\n",
       "      <th>14</th>\n",
       "      <td>4019</td>\n",
       "      <td>35.949664</td>\n",
       "      <td>12012</td>\n",
       "      <td>6742</td>\n",
       "      <td>18754.0</td>\n",
       "      <td>0</td>\n",
       "      <td>Unspecified essential hypertension</td>\n",
       "    </tr>\n",
       "    <tr>\n",
       "      <th>8</th>\n",
       "      <td>41401</td>\n",
       "      <td>39.410730</td>\n",
       "      <td>6889</td>\n",
       "      <td>4481</td>\n",
       "      <td>11370.0</td>\n",
       "      <td>2</td>\n",
       "      <td>Coronary atherosclerosis of native coronary ar...</td>\n",
       "    </tr>\n",
       "    <tr>\n",
       "      <th>37</th>\n",
       "      <td>4280</td>\n",
       "      <td>24.439648</td>\n",
       "      <td>9102</td>\n",
       "      <td>2944</td>\n",
       "      <td>12046.0</td>\n",
       "      <td>1</td>\n",
       "      <td>Congestive heart failure, unspecified</td>\n",
       "    </tr>\n",
       "    <tr>\n",
       "      <th>15</th>\n",
       "      <td>5990</td>\n",
       "      <td>35.240125</td>\n",
       "      <td>3951</td>\n",
       "      <td>2150</td>\n",
       "      <td>6101.0</td>\n",
       "      <td>10</td>\n",
       "      <td>Urinary tract infection, site not specified</td>\n",
       "    </tr>\n",
       "    <tr>\n",
       "      <th>48</th>\n",
       "      <td>2724</td>\n",
       "      <td>21.970959</td>\n",
       "      <td>6556</td>\n",
       "      <td>1846</td>\n",
       "      <td>8402.0</td>\n",
       "      <td>5</td>\n",
       "      <td>Other and unspecified hyperlipidemia</td>\n",
       "    </tr>\n",
       "  </tbody>\n",
       "</table>\n",
       "</div>"
      ],
      "text/plain": [
       "     code  % predicted vs assigned  code_occur_not_matched  \\\n",
       "14   4019                35.949664                   12012   \n",
       "8   41401                39.410730                    6889   \n",
       "37   4280                24.439648                    9102   \n",
       "15   5990                35.240125                    3951   \n",
       "48   2724                21.970959                    6556   \n",
       "\n",
       "    code_occurr_matched  toal_occurr  occurrence_rank  \\\n",
       "14                 6742      18754.0                0   \n",
       "8                  4481      11370.0                2   \n",
       "37                 2944      12046.0                1   \n",
       "15                 2150       6101.0               10   \n",
       "48                 1846       8402.0                5   \n",
       "\n",
       "                                                 desc  \n",
       "14                 Unspecified essential hypertension  \n",
       "8   Coronary atherosclerosis of native coronary ar...  \n",
       "37              Congestive heart failure, unspecified  \n",
       "15        Urinary tract infection, site not specified  \n",
       "48               Other and unspecified hyperlipidemia  "
      ]
     },
     "execution_count": 45,
     "metadata": {},
     "output_type": "execute_result"
    }
   ],
   "source": [
    "top_pred_codes.sort_values('code_occurr_matched', ascending=False).head(5)"
   ]
  },
  {
   "cell_type": "code",
   "execution_count": 49,
   "metadata": {},
   "outputs": [
    {
     "data": {
      "text/html": [
       "<div>\n",
       "<style scoped>\n",
       "    .dataframe tbody tr th:only-of-type {\n",
       "        vertical-align: middle;\n",
       "    }\n",
       "\n",
       "    .dataframe tbody tr th {\n",
       "        vertical-align: top;\n",
       "    }\n",
       "\n",
       "    .dataframe thead th {\n",
       "        text-align: right;\n",
       "    }\n",
       "</style>\n",
       "<table border=\"1\" class=\"dataframe\">\n",
       "  <thead>\n",
       "    <tr style=\"text-align: right;\">\n",
       "      <th></th>\n",
       "      <th>code</th>\n",
       "      <th>% predicted vs assigned</th>\n",
       "      <th>code_occur_not_matched</th>\n",
       "      <th>code_occurr_matched</th>\n",
       "      <th>toal_occurr</th>\n",
       "      <th>occurrence_rank</th>\n",
       "      <th>desc</th>\n",
       "    </tr>\n",
       "  </thead>\n",
       "  <tbody>\n",
       "    <tr>\n",
       "      <th>14</th>\n",
       "      <td>4019</td>\n",
       "      <td>35.949664</td>\n",
       "      <td>12012</td>\n",
       "      <td>6742</td>\n",
       "      <td>18754.0</td>\n",
       "      <td>0</td>\n",
       "      <td>Unspecified essential hypertension</td>\n",
       "    </tr>\n",
       "    <tr>\n",
       "      <th>37</th>\n",
       "      <td>4280</td>\n",
       "      <td>24.439648</td>\n",
       "      <td>9102</td>\n",
       "      <td>2944</td>\n",
       "      <td>12046.0</td>\n",
       "      <td>1</td>\n",
       "      <td>Congestive heart failure, unspecified</td>\n",
       "    </tr>\n",
       "    <tr>\n",
       "      <th>8</th>\n",
       "      <td>41401</td>\n",
       "      <td>39.410730</td>\n",
       "      <td>6889</td>\n",
       "      <td>4481</td>\n",
       "      <td>11370.0</td>\n",
       "      <td>2</td>\n",
       "      <td>Coronary atherosclerosis of native coronary ar...</td>\n",
       "    </tr>\n",
       "    <tr>\n",
       "      <th>48</th>\n",
       "      <td>2724</td>\n",
       "      <td>21.970959</td>\n",
       "      <td>6556</td>\n",
       "      <td>1846</td>\n",
       "      <td>8402.0</td>\n",
       "      <td>5</td>\n",
       "      <td>Other and unspecified hyperlipidemia</td>\n",
       "    </tr>\n",
       "    <tr>\n",
       "      <th>15</th>\n",
       "      <td>5990</td>\n",
       "      <td>35.240125</td>\n",
       "      <td>3951</td>\n",
       "      <td>2150</td>\n",
       "      <td>6101.0</td>\n",
       "      <td>10</td>\n",
       "      <td>Urinary tract infection, site not specified</td>\n",
       "    </tr>\n",
       "  </tbody>\n",
       "</table>\n",
       "</div>"
      ],
      "text/plain": [
       "     code  % predicted vs assigned  code_occur_not_matched  \\\n",
       "14   4019                35.949664                   12012   \n",
       "37   4280                24.439648                    9102   \n",
       "8   41401                39.410730                    6889   \n",
       "48   2724                21.970959                    6556   \n",
       "15   5990                35.240125                    3951   \n",
       "\n",
       "    code_occurr_matched  toal_occurr  occurrence_rank  \\\n",
       "14                 6742      18754.0                0   \n",
       "37                 2944      12046.0                1   \n",
       "8                  4481      11370.0                2   \n",
       "48                 1846       8402.0                5   \n",
       "15                 2150       6101.0               10   \n",
       "\n",
       "                                                 desc  \n",
       "14                 Unspecified essential hypertension  \n",
       "37              Congestive heart failure, unspecified  \n",
       "8   Coronary atherosclerosis of native coronary ar...  \n",
       "48               Other and unspecified hyperlipidemia  \n",
       "15        Urinary tract infection, site not specified  "
      ]
     },
     "execution_count": 49,
     "metadata": {},
     "output_type": "execute_result"
    }
   ],
   "source": [
    "top_pred_codes.sort_values(by='toal_occurr', ascending=False).head(5)"
   ]
  },
  {
   "cell_type": "markdown",
   "metadata": {},
   "source": [
    "#### Proportion of matched assigned codes vs number of assigned codes "
   ]
  },
  {
   "cell_type": "code",
   "execution_count": 1127,
   "metadata": {},
   "outputs": [],
   "source": [
    "combi_index = pd.Index.union(h_counts_n_assn.index, h_counts_match.index)\n",
    "h_counts_n_assn = h_counts_n_assn.reindex(combi_index, fill_value=0) \n",
    "h_counts_match = h_counts_match.reindex(combi_index, fill_value=0)"
   ]
  },
  {
   "cell_type": "code",
   "execution_count": 530,
   "metadata": {},
   "outputs": [],
   "source": [
    "all_codes_per_hadm = h_counts_n_assn + h_counts_match"
   ]
  },
  {
   "cell_type": "code",
   "execution_count": 607,
   "metadata": {},
   "outputs": [],
   "source": [
    "distribution_correct = (round(h_counts_match / all_codes_per_hadm,2) * 100).value_counts()\n",
    "# remove occurrence where there are no matches\n",
    "distribution_correct = distribution_correct.iloc[1:]\n",
    "distribution_correct.index = [int(round(i)) for i in distribution_correct.index]\n",
    "distribution_correct"
   ]
  },
  {
   "cell_type": "code",
   "execution_count": 607,
   "metadata": {},
   "outputs": [],
   "source": [
    "binned_distro = [(f'{bin_start}-{bin_start + 9}%', sum([0 if i not in distribution_correct else distribution_correct[i] for i in range(bin_start, bin_start+10)])) for bin_start in range(0, 110, 10)]\n",
    "binned_distro[-1] = ('100%', binned_distro[-1][1])\n",
    "binned_distro[0] = ('1-9%', binned_distro[0][1])\n",
    "acph = all_codes_per_hadm.value_counts()"
   ]
  },
  {
   "cell_type": "code",
   "execution_count": 1132,
   "metadata": {},
   "outputs": [
    {
     "data": {
      "image/png": "[encoded data removed]",
      "text/plain": [
       "<Figure size 1080x360 with 2 Axes>"
      ]
     },
     "metadata": {
      "needs_background": "light"
     },
     "output_type": "display_data"
    }
   ],
   "source": [
    "fig, (ax, ax2) = plt.subplots(1, 2, figsize=(15, 5))\n",
    "\n",
    "ax.barh(acph.index, acph.tolist())\n",
    "ax.set_xlabel('Count of Admissions')\n",
    "ax.set_ylabel('Number of Assigned Codes')\n",
    "\n",
    "ax2.barh([b[0] for b in binned_distro], [b[1] for b in binned_distro])\n",
    "ax2.set_xlabel('Count of admission IDs')\n",
    "ax2.set_ylabel('Proportion of Matched Codes')\n",
    "\n",
    "plt.savefig('plots/distribution_of_matched_compared_with_assigned_codes.png')\n",
    "plt.show()"
   ]
  },
  {
   "cell_type": "code",
   "execution_count": null,
   "metadata": {},
   "outputs": [],
   "source": [
    "100 * acph.sort_index().cumsum() / acph.sort_index().sum()"
   ]
  },
  {
   "cell_type": "markdown",
   "metadata": {},
   "source": [
    "### Predicted and Not Assigned\n",
    "- Distribution of HADMs that showed not match??\n",
    "- \\# of matches correlateed with length of DD, and discharge summary\n",
    "- distribution of matches over codes\n",
    "- top codes that matched"
   ]
  },
  {
   "cell_type": "code",
   "execution_count": 55,
   "metadata": {},
   "outputs": [],
   "source": [
    "p_na = df_ft[df_ft.match == 'pred_no_assign']"
   ]
  },
  {
   "cell_type": "code",
   "execution_count": 59,
   "metadata": {},
   "outputs": [],
   "source": [
    "p_na_counts = p_na.icd9.value_counts().reset_index()\n",
    "p_na_counts.columns = ['code', 'count']"
   ]
  },
  {
   "cell_type": "code",
   "execution_count": 61,
   "metadata": {},
   "outputs": [
    {
     "data": {
      "text/plain": [
       "184752    16\n",
       "196904    15\n",
       "173881    15\n",
       "148024    15\n",
       "132950    14\n",
       "          ..\n",
       "116398     1\n",
       "139492     1\n",
       "157569     1\n",
       "190635     1\n",
       "176475     1\n",
       "Name: hadm, Length: 21649, dtype: int64"
      ]
     },
     "execution_count": 61,
     "metadata": {},
     "output_type": "execute_result"
    }
   ],
   "source": [
    "p_na.hadm.value_counts()"
   ]
  },
  {
   "cell_type": "code",
   "execution_count": 78,
   "metadata": {},
   "outputs": [
    {
     "data": {
      "text/html": [
       "<div>\n",
       "<style scoped>\n",
       "    .dataframe tbody tr th:only-of-type {\n",
       "        vertical-align: middle;\n",
       "    }\n",
       "\n",
       "    .dataframe tbody tr th {\n",
       "        vertical-align: top;\n",
       "    }\n",
       "\n",
       "    .dataframe thead th {\n",
       "        text-align: right;\n",
       "    }\n",
       "</style>\n",
       "<table border=\"1\" class=\"dataframe\">\n",
       "  <thead>\n",
       "    <tr style=\"text-align: right;\">\n",
       "      <th></th>\n",
       "      <th>acc</th>\n",
       "      <th>cui</th>\n",
       "      <th>hadm</th>\n",
       "      <th>pretty_name</th>\n",
       "      <th>source_value</th>\n",
       "      <th>start</th>\n",
       "      <th>end</th>\n",
       "      <th>icd9</th>\n",
       "      <th>icd10</th>\n",
       "      <th>match</th>\n",
       "    </tr>\n",
       "  </thead>\n",
       "  <tbody>\n",
       "    <tr>\n",
       "      <th>357806</th>\n",
       "      <td>1</td>\n",
       "      <td>C0014544</td>\n",
       "      <td>173881</td>\n",
       "      <td>Epilepsy</td>\n",
       "      <td>Seizure disorder s</td>\n",
       "      <td>139.0</td>\n",
       "      <td>157.0</td>\n",
       "      <td>34590</td>\n",
       "      <td>G40.909</td>\n",
       "      <td>pred_no_assign</td>\n",
       "    </tr>\n",
       "    <tr>\n",
       "      <th>357807</th>\n",
       "      <td>1</td>\n",
       "      <td>C1701940</td>\n",
       "      <td>173881</td>\n",
       "      <td>Pneumonia, Ventilator Associated</td>\n",
       "      <td>Ventilator Associated Pneumonia</td>\n",
       "      <td>242.0</td>\n",
       "      <td>273.0</td>\n",
       "      <td>99731</td>\n",
       "      <td>J95.851</td>\n",
       "      <td>pred_no_assign</td>\n",
       "    </tr>\n",
       "    <tr>\n",
       "      <th>357808</th>\n",
       "      <td>1</td>\n",
       "      <td>C1701940</td>\n",
       "      <td>173881</td>\n",
       "      <td>Pneumonia, Ventilator Associated</td>\n",
       "      <td>Ventilator Associated Pneumonia</td>\n",
       "      <td>306.0</td>\n",
       "      <td>337.0</td>\n",
       "      <td>99731</td>\n",
       "      <td>J95.851</td>\n",
       "      <td>pred_no_assign</td>\n",
       "    </tr>\n",
       "    <tr>\n",
       "      <th>357809</th>\n",
       "      <td>0.7779125365278687</td>\n",
       "      <td>C0040034</td>\n",
       "      <td>173881</td>\n",
       "      <td>Thrombocytopenia</td>\n",
       "      <td>Thrombocytopenia</td>\n",
       "      <td>399.0</td>\n",
       "      <td>415.0</td>\n",
       "      <td>2875</td>\n",
       "      <td>D69.6</td>\n",
       "      <td>pred_no_assign</td>\n",
       "    </tr>\n",
       "    <tr>\n",
       "      <th>357810</th>\n",
       "      <td>0.7626042158619103</td>\n",
       "      <td>C0002871</td>\n",
       "      <td>173881</td>\n",
       "      <td>Anemia</td>\n",
       "      <td>Anemia</td>\n",
       "      <td>458.0</td>\n",
       "      <td>464.0</td>\n",
       "      <td>2859</td>\n",
       "      <td>D64.9</td>\n",
       "      <td>pred_no_assign</td>\n",
       "    </tr>\n",
       "    <tr>\n",
       "      <th>357811</th>\n",
       "      <td>1</td>\n",
       "      <td>C0017181</td>\n",
       "      <td>173881</td>\n",
       "      <td>Bleeding, Gastrointestinal</td>\n",
       "      <td>GI bleed</td>\n",
       "      <td>494.0</td>\n",
       "      <td>502.0</td>\n",
       "      <td>5789</td>\n",
       "      <td>K92.2</td>\n",
       "      <td>pred_no_assign</td>\n",
       "    </tr>\n",
       "    <tr>\n",
       "      <th>357812</th>\n",
       "      <td>0.39024510489367026</td>\n",
       "      <td>C0022661</td>\n",
       "      <td>173881</td>\n",
       "      <td>Kidney Failure, Chronic</td>\n",
       "      <td>End stage renal disease</td>\n",
       "      <td>504.0</td>\n",
       "      <td>527.0</td>\n",
       "      <td>5859</td>\n",
       "      <td>N18.9</td>\n",
       "      <td>pred_no_assign</td>\n",
       "    </tr>\n",
       "    <tr>\n",
       "      <th>357813</th>\n",
       "      <td>0.6050301874866628</td>\n",
       "      <td>C0002871</td>\n",
       "      <td>173881</td>\n",
       "      <td>Anemia</td>\n",
       "      <td>Anemia</td>\n",
       "      <td>553.0</td>\n",
       "      <td>559.0</td>\n",
       "      <td>2859</td>\n",
       "      <td>D64.9</td>\n",
       "      <td>pred_no_assign</td>\n",
       "    </tr>\n",
       "    <tr>\n",
       "      <th>357814</th>\n",
       "      <td>1</td>\n",
       "      <td>C0022658</td>\n",
       "      <td>173881</td>\n",
       "      <td>Kidney Diseases</td>\n",
       "      <td>renal disease</td>\n",
       "      <td>573.0</td>\n",
       "      <td>586.0</td>\n",
       "      <td>58381</td>\n",
       "      <td>N08</td>\n",
       "      <td>pred_no_assign</td>\n",
       "    </tr>\n",
       "    <tr>\n",
       "      <th>357815</th>\n",
       "      <td>1</td>\n",
       "      <td>C0022658</td>\n",
       "      <td>173881</td>\n",
       "      <td>Kidney Diseases</td>\n",
       "      <td>renal disease</td>\n",
       "      <td>573.0</td>\n",
       "      <td>586.0</td>\n",
       "      <td>5939</td>\n",
       "      <td>N28.9</td>\n",
       "      <td>pred_no_assign</td>\n",
       "    </tr>\n",
       "    <tr>\n",
       "      <th>357816</th>\n",
       "      <td>0.3404067069656116</td>\n",
       "      <td>C0020538</td>\n",
       "      <td>173881</td>\n",
       "      <td>Hypertensive disease</td>\n",
       "      <td>hypertension</td>\n",
       "      <td>594.0</td>\n",
       "      <td>606.0</td>\n",
       "      <td>4011</td>\n",
       "      <td>I10</td>\n",
       "      <td>pred_no_assign</td>\n",
       "    </tr>\n",
       "    <tr>\n",
       "      <th>357817</th>\n",
       "      <td>0.3404067069656116</td>\n",
       "      <td>C0020538</td>\n",
       "      <td>173881</td>\n",
       "      <td>Hypertensive disease</td>\n",
       "      <td>hypertension</td>\n",
       "      <td>594.0</td>\n",
       "      <td>606.0</td>\n",
       "      <td>4019</td>\n",
       "      <td>I10</td>\n",
       "      <td>pred_no_assign</td>\n",
       "    </tr>\n",
       "    <tr>\n",
       "      <th>357818</th>\n",
       "      <td>0.34403507640220965</td>\n",
       "      <td>C0085584</td>\n",
       "      <td>173881</td>\n",
       "      <td>Encephalopathies</td>\n",
       "      <td>encephalopathy</td>\n",
       "      <td>630.0</td>\n",
       "      <td>644.0</td>\n",
       "      <td>34830</td>\n",
       "      <td>G93.40</td>\n",
       "      <td>pred_no_assign</td>\n",
       "    </tr>\n",
       "    <tr>\n",
       "      <th>357819</th>\n",
       "      <td>0.3562823420210999</td>\n",
       "      <td>C0010054</td>\n",
       "      <td>173881</td>\n",
       "      <td>Coronary Arteriosclerosis</td>\n",
       "      <td>Coronary Artery Disease s</td>\n",
       "      <td>671.0</td>\n",
       "      <td>696.0</td>\n",
       "      <td>41400</td>\n",
       "      <td>I25.10</td>\n",
       "      <td>pred_no_assign</td>\n",
       "    </tr>\n",
       "    <tr>\n",
       "      <th>357820</th>\n",
       "      <td>0.3562823420210999</td>\n",
       "      <td>C0010054</td>\n",
       "      <td>173881</td>\n",
       "      <td>Coronary Arteriosclerosis</td>\n",
       "      <td>Coronary Artery Disease s</td>\n",
       "      <td>671.0</td>\n",
       "      <td>696.0</td>\n",
       "      <td>41401</td>\n",
       "      <td>I25.10</td>\n",
       "      <td>pred_no_assign</td>\n",
       "    </tr>\n",
       "  </tbody>\n",
       "</table>\n",
       "</div>"
      ],
      "text/plain": [
       "                        acc       cui    hadm  \\\n",
       "357806                    1  C0014544  173881   \n",
       "357807                    1  C1701940  173881   \n",
       "357808                    1  C1701940  173881   \n",
       "357809   0.7779125365278687  C0040034  173881   \n",
       "357810   0.7626042158619103  C0002871  173881   \n",
       "357811                    1  C0017181  173881   \n",
       "357812  0.39024510489367026  C0022661  173881   \n",
       "357813   0.6050301874866628  C0002871  173881   \n",
       "357814                    1  C0022658  173881   \n",
       "357815                    1  C0022658  173881   \n",
       "357816   0.3404067069656116  C0020538  173881   \n",
       "357817   0.3404067069656116  C0020538  173881   \n",
       "357818  0.34403507640220965  C0085584  173881   \n",
       "357819   0.3562823420210999  C0010054  173881   \n",
       "357820   0.3562823420210999  C0010054  173881   \n",
       "\n",
       "                             pretty_name                     source_value  \\\n",
       "357806                          Epilepsy               Seizure disorder s   \n",
       "357807  Pneumonia, Ventilator Associated  Ventilator Associated Pneumonia   \n",
       "357808  Pneumonia, Ventilator Associated  Ventilator Associated Pneumonia   \n",
       "357809                  Thrombocytopenia                 Thrombocytopenia   \n",
       "357810                            Anemia                           Anemia   \n",
       "357811        Bleeding, Gastrointestinal                         GI bleed   \n",
       "357812           Kidney Failure, Chronic          End stage renal disease   \n",
       "357813                            Anemia                           Anemia   \n",
       "357814                   Kidney Diseases                    renal disease   \n",
       "357815                   Kidney Diseases                    renal disease   \n",
       "357816              Hypertensive disease                     hypertension   \n",
       "357817              Hypertensive disease                     hypertension   \n",
       "357818                  Encephalopathies                   encephalopathy   \n",
       "357819         Coronary Arteriosclerosis        Coronary Artery Disease s   \n",
       "357820         Coronary Arteriosclerosis        Coronary Artery Disease s   \n",
       "\n",
       "        start    end   icd9    icd10           match  \n",
       "357806  139.0  157.0  34590  G40.909  pred_no_assign  \n",
       "357807  242.0  273.0  99731  J95.851  pred_no_assign  \n",
       "357808  306.0  337.0  99731  J95.851  pred_no_assign  \n",
       "357809  399.0  415.0   2875    D69.6  pred_no_assign  \n",
       "357810  458.0  464.0   2859    D64.9  pred_no_assign  \n",
       "357811  494.0  502.0   5789    K92.2  pred_no_assign  \n",
       "357812  504.0  527.0   5859    N18.9  pred_no_assign  \n",
       "357813  553.0  559.0   2859    D64.9  pred_no_assign  \n",
       "357814  573.0  586.0  58381      N08  pred_no_assign  \n",
       "357815  573.0  586.0   5939    N28.9  pred_no_assign  \n",
       "357816  594.0  606.0   4011      I10  pred_no_assign  \n",
       "357817  594.0  606.0   4019      I10  pred_no_assign  \n",
       "357818  630.0  644.0  34830   G93.40  pred_no_assign  \n",
       "357819  671.0  696.0  41400   I25.10  pred_no_assign  \n",
       "357820  671.0  696.0  41401   I25.10  pred_no_assign  "
      ]
     },
     "execution_count": 78,
     "metadata": {},
     "output_type": "execute_result"
    }
   ],
   "source": [
    "p_na[p_na.hadm == '173881']"
   ]
  },
  {
   "cell_type": "code",
   "execution_count": 79,
   "metadata": {},
   "outputs": [
    {
     "data": {
      "text/html": [
       "<div>\n",
       "<style scoped>\n",
       "    .dataframe tbody tr th:only-of-type {\n",
       "        vertical-align: middle;\n",
       "    }\n",
       "\n",
       "    .dataframe tbody tr th {\n",
       "        vertical-align: top;\n",
       "    }\n",
       "\n",
       "    .dataframe thead th {\n",
       "        text-align: right;\n",
       "    }\n",
       "</style>\n",
       "<table border=\"1\" class=\"dataframe\">\n",
       "  <thead>\n",
       "    <tr style=\"text-align: right;\">\n",
       "      <th></th>\n",
       "      <th>hadm_id</th>\n",
       "      <th>icd9_code</th>\n",
       "      <th>short_title</th>\n",
       "      <th>long_title</th>\n",
       "    </tr>\n",
       "  </thead>\n",
       "  <tbody>\n",
       "    <tr>\n",
       "      <th>557130</th>\n",
       "      <td>173881</td>\n",
       "      <td>51884</td>\n",
       "      <td>Acute &amp; chronc resp fail</td>\n",
       "      <td>Acute and chronic respiratory failure</td>\n",
       "    </tr>\n",
       "    <tr>\n",
       "      <th>557131</th>\n",
       "      <td>173881</td>\n",
       "      <td>53551</td>\n",
       "      <td>Gstr/ddnts NOS w hmrhg</td>\n",
       "      <td>Unspecified gastritis and gastroduodenitis, wi...</td>\n",
       "    </tr>\n",
       "    <tr>\n",
       "      <th>557132</th>\n",
       "      <td>173881</td>\n",
       "      <td>2800</td>\n",
       "      <td>Chr blood loss anemia</td>\n",
       "      <td>Iron deficiency anemia secondary to blood loss...</td>\n",
       "    </tr>\n",
       "    <tr>\n",
       "      <th>557133</th>\n",
       "      <td>173881</td>\n",
       "      <td>5845</td>\n",
       "      <td>Ac kidny fail, tubr necr</td>\n",
       "      <td>Acute kidney failure with lesion of tubular ne...</td>\n",
       "    </tr>\n",
       "    <tr>\n",
       "      <th>557134</th>\n",
       "      <td>173881</td>\n",
       "      <td>40391</td>\n",
       "      <td>Hyp kid NOS w cr kid V</td>\n",
       "      <td>Hypertensive chronic kidney disease, unspecifi...</td>\n",
       "    </tr>\n",
       "    <tr>\n",
       "      <th>557135</th>\n",
       "      <td>173881</td>\n",
       "      <td>78039</td>\n",
       "      <td>Convulsions NEC</td>\n",
       "      <td>Other convulsions</td>\n",
       "    </tr>\n",
       "    <tr>\n",
       "      <th>557136</th>\n",
       "      <td>173881</td>\n",
       "      <td>78003</td>\n",
       "      <td>Persistent vegtv state</td>\n",
       "      <td>Persistent vegetative state</td>\n",
       "    </tr>\n",
       "    <tr>\n",
       "      <th>557137</th>\n",
       "      <td>173881</td>\n",
       "      <td>4821</td>\n",
       "      <td>Pseudomonal pneumonia</td>\n",
       "      <td>Pneumonia due to Pseudomonas</td>\n",
       "    </tr>\n",
       "    <tr>\n",
       "      <th>557138</th>\n",
       "      <td>173881</td>\n",
       "      <td>70703</td>\n",
       "      <td>Pressure ulcer, low back</td>\n",
       "      <td>Pressure ulcer, lower back</td>\n",
       "    </tr>\n",
       "    <tr>\n",
       "      <th>557139</th>\n",
       "      <td>173881</td>\n",
       "      <td>4280</td>\n",
       "      <td>CHF NOS</td>\n",
       "      <td>Congestive heart failure, unspecified</td>\n",
       "    </tr>\n",
       "    <tr>\n",
       "      <th>557140</th>\n",
       "      <td>173881</td>\n",
       "      <td>V4581</td>\n",
       "      <td>Aortocoronary bypass</td>\n",
       "      <td>Aortocoronary bypass status</td>\n",
       "    </tr>\n",
       "    <tr>\n",
       "      <th>557141</th>\n",
       "      <td>173881</td>\n",
       "      <td>25040</td>\n",
       "      <td>DMII renl nt st uncntrld</td>\n",
       "      <td>Diabetes with renal manifestations, type II or...</td>\n",
       "    </tr>\n",
       "    <tr>\n",
       "      <th>557142</th>\n",
       "      <td>173881</td>\n",
       "      <td>V550</td>\n",
       "      <td>Atten to tracheostomy</td>\n",
       "      <td>Attention to tracheostomy</td>\n",
       "    </tr>\n",
       "    <tr>\n",
       "      <th>557143</th>\n",
       "      <td>173881</td>\n",
       "      <td>7904</td>\n",
       "      <td>Elev transaminase/ldh</td>\n",
       "      <td>Nonspecific elevation of levels of transaminas...</td>\n",
       "    </tr>\n",
       "    <tr>\n",
       "      <th>557144</th>\n",
       "      <td>173881</td>\n",
       "      <td>V5867</td>\n",
       "      <td>Long-term use of insulin</td>\n",
       "      <td>Long-term (current) use of insulin</td>\n",
       "    </tr>\n",
       "    <tr>\n",
       "      <th>557145</th>\n",
       "      <td>173881</td>\n",
       "      <td>25080</td>\n",
       "      <td>DMII oth nt st uncntrld</td>\n",
       "      <td>Diabetes with other specified manifestations, ...</td>\n",
       "    </tr>\n",
       "    <tr>\n",
       "      <th>557146</th>\n",
       "      <td>173881</td>\n",
       "      <td>E9323</td>\n",
       "      <td>Adv eff insulin/antidiab</td>\n",
       "      <td>Insulins and antidiabetic agents causing adver...</td>\n",
       "    </tr>\n",
       "  </tbody>\n",
       "</table>\n",
       "</div>"
      ],
      "text/plain": [
       "        hadm_id icd9_code               short_title  \\\n",
       "557130   173881     51884  Acute & chronc resp fail   \n",
       "557131   173881     53551    Gstr/ddnts NOS w hmrhg   \n",
       "557132   173881      2800     Chr blood loss anemia   \n",
       "557133   173881      5845  Ac kidny fail, tubr necr   \n",
       "557134   173881     40391    Hyp kid NOS w cr kid V   \n",
       "557135   173881     78039           Convulsions NEC   \n",
       "557136   173881     78003    Persistent vegtv state   \n",
       "557137   173881      4821     Pseudomonal pneumonia   \n",
       "557138   173881     70703  Pressure ulcer, low back   \n",
       "557139   173881      4280                   CHF NOS   \n",
       "557140   173881     V4581      Aortocoronary bypass   \n",
       "557141   173881     25040  DMII renl nt st uncntrld   \n",
       "557142   173881      V550     Atten to tracheostomy   \n",
       "557143   173881      7904     Elev transaminase/ldh   \n",
       "557144   173881     V5867  Long-term use of insulin   \n",
       "557145   173881     25080   DMII oth nt st uncntrld   \n",
       "557146   173881     E9323  Adv eff insulin/antidiab   \n",
       "\n",
       "                                               long_title  \n",
       "557130              Acute and chronic respiratory failure  \n",
       "557131  Unspecified gastritis and gastroduodenitis, wi...  \n",
       "557132  Iron deficiency anemia secondary to blood loss...  \n",
       "557133  Acute kidney failure with lesion of tubular ne...  \n",
       "557134  Hypertensive chronic kidney disease, unspecifi...  \n",
       "557135                                  Other convulsions  \n",
       "557136                        Persistent vegetative state  \n",
       "557137                       Pneumonia due to Pseudomonas  \n",
       "557138                         Pressure ulcer, lower back  \n",
       "557139              Congestive heart failure, unspecified  \n",
       "557140                        Aortocoronary bypass status  \n",
       "557141  Diabetes with renal manifestations, type II or...  \n",
       "557142                          Attention to tracheostomy  \n",
       "557143  Nonspecific elevation of levels of transaminas...  \n",
       "557144                 Long-term (current) use of insulin  \n",
       "557145  Diabetes with other specified manifestations, ...  \n",
       "557146  Insulins and antidiabetic agents causing adver...  "
      ]
     },
     "execution_count": 79,
     "metadata": {},
     "output_type": "execute_result"
    }
   ],
   "source": [
    "codes[codes.hadm_id == 173881]"
   ]
  },
  {
   "cell_type": "code",
   "execution_count": 76,
   "metadata": {},
   "outputs": [],
   "source": [
    "dds = pd.read_csv('data/mimic_dd_icd9_sections.csv')"
   ]
  },
  {
   "cell_type": "code",
   "execution_count": 80,
   "metadata": {},
   "outputs": [
    {
     "name": "stdout",
     "output_type": "stream",
     "text": [
      "\n",
      "Hypoxic respiratory failure.\n",
      "Prolonged weaning from ventilatory requiring placement of\n",
      "tracheostomy and PEG.\n",
      "Persistent vegetative state.\n",
      "Seizure disorder s/p stroke.\n",
      "Hypoglycemic episode on [**2187-6-28**] with associated seizure\n",
      "activity.\n",
      "Ventilator Associated Pneumonia secondary to MRSA, Pseudomonas.\n",
      "Ventilator Associated Pneumonia secondary to gram negative rods,\n",
      "unspeciated.\n",
      "Transaminitis.\n",
      "Thrombocytopenia, now resolved.\n",
      "Anemia of chronic disease.\n",
      "Anemia secondary to suspected lower GI bleed.\n",
      "End stage renal disease requiring hemodialyisis.\n",
      "Anemia secondary to renal disease.\n",
      "Renal hypertension.\n",
      "Uremia with resulting encephalopathy and platelet dysfunction.\n",
      "Coronary Artery Disease s/p cor a bypass graft surgery.\n",
      "\n"
     ]
    }
   ],
   "source": [
    "print(dds[dds.name = 'Admission ID:173881'].text.iloc[0])"
   ]
  },
  {
   "cell_type": "code",
   "execution_count": 96,
   "metadata": {},
   "outputs": [],
   "source": [
    "dds['len'] = dds.text.str.split('\\n').apply(lambda l: len([i for i in l if len(i) > 1]))"
   ]
  },
  {
   "cell_type": "code",
   "execution_count": 98,
   "metadata": {},
   "outputs": [],
   "source": [
    "dds['hadm'] = dds.name.str.split(':').apply(lambda l: l[1])"
   ]
  },
  {
   "cell_type": "code",
   "execution_count": 99,
   "metadata": {},
   "outputs": [
    {
     "data": {
      "text/html": [
       "<div>\n",
       "<style scoped>\n",
       "    .dataframe tbody tr th:only-of-type {\n",
       "        vertical-align: middle;\n",
       "    }\n",
       "\n",
       "    .dataframe tbody tr th {\n",
       "        vertical-align: top;\n",
       "    }\n",
       "\n",
       "    .dataframe thead th {\n",
       "        text-align: right;\n",
       "    }\n",
       "</style>\n",
       "<table border=\"1\" class=\"dataframe\">\n",
       "  <thead>\n",
       "    <tr style=\"text-align: right;\">\n",
       "      <th></th>\n",
       "      <th>name</th>\n",
       "      <th>text</th>\n",
       "      <th>len</th>\n",
       "      <th>hadm</th>\n",
       "    </tr>\n",
       "  </thead>\n",
       "  <tbody>\n",
       "    <tr>\n",
       "      <th>0</th>\n",
       "      <td>Admission ID:100001</td>\n",
       "      <td>\\nDiabetic keotacidosis\\nHematemesis (blood in...</td>\n",
       "      <td>4</td>\n",
       "      <td>100001</td>\n",
       "    </tr>\n",
       "    <tr>\n",
       "      <th>1</th>\n",
       "      <td>Admission ID:100003</td>\n",
       "      <td>\\nPeptic ulcer\\nGI bleed\\n</td>\n",
       "      <td>2</td>\n",
       "      <td>100003</td>\n",
       "    </tr>\n",
       "    <tr>\n",
       "      <th>2</th>\n",
       "      <td>Admission ID:100006</td>\n",
       "      <td>\\n1. Multiple myeloma.\\n2. Congestive obstruct...</td>\n",
       "      <td>4</td>\n",
       "      <td>100006</td>\n",
       "    </tr>\n",
       "    <tr>\n",
       "      <th>3</th>\n",
       "      <td>Admission ID:100007</td>\n",
       "      <td>\\nSmall bowel obstruction\\nInternal hernia wit...</td>\n",
       "      <td>3</td>\n",
       "      <td>100007</td>\n",
       "    </tr>\n",
       "    <tr>\n",
       "      <th>4</th>\n",
       "      <td>Admission ID:100009</td>\n",
       "      <td>\\nCoronary Artery Disease\\nCAD-(AMI [**2143-7-...</td>\n",
       "      <td>8</td>\n",
       "      <td>100009</td>\n",
       "    </tr>\n",
       "    <tr>\n",
       "      <th>...</th>\n",
       "      <td>...</td>\n",
       "      <td>...</td>\n",
       "      <td>...</td>\n",
       "      <td>...</td>\n",
       "    </tr>\n",
       "    <tr>\n",
       "      <th>48893</th>\n",
       "      <td>Admission ID:199993</td>\n",
       "      <td>\\n1.  CAD status post redo CABG times five and...</td>\n",
       "      <td>5</td>\n",
       "      <td>199993</td>\n",
       "    </tr>\n",
       "    <tr>\n",
       "      <th>48894</th>\n",
       "      <td>Admission ID:199994</td>\n",
       "      <td>\\n1.  Pneumonia.\\n2.  Sepsis.\\n</td>\n",
       "      <td>2</td>\n",
       "      <td>199994</td>\n",
       "    </tr>\n",
       "    <tr>\n",
       "      <th>48895</th>\n",
       "      <td>Admission ID:199995</td>\n",
       "      <td>\\n1. Congenital bicuspid aortic valve.\\n2. Aor...</td>\n",
       "      <td>5</td>\n",
       "      <td>199995</td>\n",
       "    </tr>\n",
       "    <tr>\n",
       "      <th>48896</th>\n",
       "      <td>Admission ID:199998</td>\n",
       "      <td>\\nCoronary Artery Disease - s/p Off Pump Coron...</td>\n",
       "      <td>7</td>\n",
       "      <td>199998</td>\n",
       "    </tr>\n",
       "    <tr>\n",
       "      <th>48897</th>\n",
       "      <td>Admission ID:199999</td>\n",
       "      <td>\\nPrimary:\\nLegionella pneumonia\\nLeft pleural...</td>\n",
       "      <td>3</td>\n",
       "      <td>199999</td>\n",
       "    </tr>\n",
       "  </tbody>\n",
       "</table>\n",
       "<p>48898 rows × 4 columns</p>\n",
       "</div>"
      ],
      "text/plain": [
       "                      name                                               text  \\\n",
       "0      Admission ID:100001  \\nDiabetic keotacidosis\\nHematemesis (blood in...   \n",
       "1      Admission ID:100003                         \\nPeptic ulcer\\nGI bleed\\n   \n",
       "2      Admission ID:100006  \\n1. Multiple myeloma.\\n2. Congestive obstruct...   \n",
       "3      Admission ID:100007  \\nSmall bowel obstruction\\nInternal hernia wit...   \n",
       "4      Admission ID:100009  \\nCoronary Artery Disease\\nCAD-(AMI [**2143-7-...   \n",
       "...                    ...                                                ...   \n",
       "48893  Admission ID:199993  \\n1.  CAD status post redo CABG times five and...   \n",
       "48894  Admission ID:199994                    \\n1.  Pneumonia.\\n2.  Sepsis.\\n   \n",
       "48895  Admission ID:199995  \\n1. Congenital bicuspid aortic valve.\\n2. Aor...   \n",
       "48896  Admission ID:199998  \\nCoronary Artery Disease - s/p Off Pump Coron...   \n",
       "48897  Admission ID:199999  \\nPrimary:\\nLegionella pneumonia\\nLeft pleural...   \n",
       "\n",
       "       len    hadm  \n",
       "0        4  100001  \n",
       "1        2  100003  \n",
       "2        4  100006  \n",
       "3        3  100007  \n",
       "4        8  100009  \n",
       "...    ...     ...  \n",
       "48893    5  199993  \n",
       "48894    2  199994  \n",
       "48895    5  199995  \n",
       "48896    7  199998  \n",
       "48897    3  199999  \n",
       "\n",
       "[48898 rows x 4 columns]"
      ]
     },
     "execution_count": 99,
     "metadata": {},
     "output_type": "execute_result"
    }
   ],
   "source": []
  }
 ],
 "metadata": {
  "kernelspec": {
   "display_name": "Python [conda env:mimc3_dd]",
   "language": "python",
   "name": "conda-env-mimc3_dd-py"
  },
  "language_info": {
   "codemirror_mode": {
    "name": "ipython",
    "version": 3
   },
   "file_extension": ".py",
   "mimetype": "text/x-python",
   "name": "python",
   "nbconvert_exporter": "python",
   "pygments_lexer": "ipython3",
   "version": "3.8.1"
  }
 },
 "nbformat": 4,
 "nbformat_minor": 4
}
