{
 "cells": [
  {
   "cell_type": "code",
   "execution_count": 1,
   "metadata": {},
   "outputs": [],
   "source": [
    "from medcat.cat import CAT\n",
    "from medcat.utils.vocab import Vocab\n",
    "from medcat.cdb import CDB"
   ]
  },
  {
   "cell_type": "code",
   "execution_count": 2,
   "metadata": {},
   "outputs": [],
   "source": [
    "import json\n",
    "from copy import deepcopy\n",
    "import pandas as pd"
   ]
  },
  {
   "cell_type": "markdown",
   "metadata": {},
   "source": [
    "# Load UMLS Base MedCAT\n",
    "-  filtered to only the top ICD 400 Codes."
   ]
  },
  {
   "cell_type": "code",
   "execution_count": 3,
   "metadata": {},
   "outputs": [],
   "source": [
    "vocab = Vocab()\n",
    "vocab.load_dict('/Users/tom/phd/cattrainer_models/base_vocabulary.dat')"
   ]
  },
  {
   "cell_type": "code",
   "execution_count": 4,
   "metadata": {},
   "outputs": [],
   "source": [
    "umls_cdb = CDB()\n",
    "umls_cdb.load_dict('/Users/tom/phd/cattrainer_models/0.2.7+ - umls_base_mimic - ICD10_Only.dat')"
   ]
  },
  {
   "cell_type": "code",
   "execution_count": 5,
   "metadata": {},
   "outputs": [],
   "source": [
    "full_umls_cdb = CDB()\n",
    "full_umls_cdb.load_dict('/Users/tom/phd/cattrainer_models/0.2.7+ umls_2m_mimic.dat')"
   ]
  },
  {
   "cell_type": "code",
   "execution_count": 6,
   "metadata": {},
   "outputs": [],
   "source": [
    "cat = CAT(cdb=umls_cdb, vocab=vocab)"
   ]
  },
  {
   "cell_type": "markdown",
   "metadata": {},
   "source": [
    "## Train using the Code's already predicted and correct."
   ]
  },
  {
   "cell_type": "code",
   "execution_count": 9,
   "metadata": {},
   "outputs": [],
   "source": [
    "pred_corr = json.load(open('MedCAT_Export_With_Text_Pred_Corr.json'))"
   ]
  },
  {
   "cell_type": "code",
   "execution_count": null,
   "metadata": {},
   "outputs": [],
   "source": [
    "pred_core_train = []"
   ]
  },
  {
   "cell_type": "code",
   "execution_count": 51,
   "metadata": {},
   "outputs": [],
   "source": [
    "train_set = []\n",
    "test_set = []\n",
    "for p in pred_corr['projects']:\n",
    "    if len(p['documents']) > 1:\n",
    "        p_copy_train = deepcopy(p)\n",
    "        p_copy_test = deepcopy(p)\n",
    "        p_copy_train['documents'] = p['documents'][:-1]\n",
    "        p_copy_test['documents'] = [p['documents'][-1]]\n",
    "        train_set.append(p_copy_train)\n",
    "        test_set.append(p_copy_test)\n",
    "    else:\n",
    "        train_set.append(p)"
   ]
  },
  {
   "cell_type": "code",
   "execution_count": 52,
   "metadata": {},
   "outputs": [],
   "source": [
    "pred_corr_train_set = {'projects': train_set}\n",
    "pred_corr_test_set = {'projects': test_set}"
   ]
  },
  {
   "cell_type": "code",
   "execution_count": 53,
   "metadata": {},
   "outputs": [
    {
     "data": {
      "text/plain": [
       "1437"
      ]
     },
     "execution_count": 53,
     "metadata": {},
     "output_type": "execute_result"
    }
   ],
   "source": [
    "len([a for p in pred_corr_train_set['projects'] for d in p['documents'] for a in d['annotations']])"
   ]
  },
  {
   "cell_type": "code",
   "execution_count": 55,
   "metadata": {},
   "outputs": [
    {
     "data": {
      "text/plain": [
       "171"
      ]
     },
     "execution_count": 55,
     "metadata": {},
     "output_type": "execute_result"
    }
   ],
   "source": [
    "len([a for p in pred_corr_test_set['projects'] for d in p['documents'] for a in d['annotations']])"
   ]
  },
  {
   "cell_type": "code",
   "execution_count": 58,
   "metadata": {},
   "outputs": [],
   "source": [
    "json.dump(pred_corr_train_set, open('pred_corr_train.json', 'w'))\n",
    "json.dump(pred_corr_test_set, open('pred_corr_test.json', 'w'))"
   ]
  },
  {
   "cell_type": "code",
   "execution_count": null,
   "metadata": {},
   "outputs": [],
   "source": [
    "cat.train_supervised('pred_corr_train.json', lr=0.1, print_stats=True, test_set='pred_corr_test.json', use_filters=True)"
   ]
  },
  {
   "cell_type": "code",
   "execution_count": null,
   "metadata": {},
   "outputs": [],
   "source": [
    "cat.train_supervised('pred_corr_train.json', lr=0.1, print_stats=True, use_filters=True)"
   ]
  },
  {
   "cell_type": "code",
   "execution_count": 12,
   "metadata": {},
   "outputs": [],
   "source": [
    "cat.spacy_cat.MIN_CUI_COUNT_STRICT = 0"
   ]
  },
  {
   "cell_type": "code",
   "execution_count": null,
   "metadata": {},
   "outputs": [],
   "source": []
  },
  {
   "cell_type": "code",
   "execution_count": 138,
   "metadata": {},
   "outputs": [],
   "source": [
    "foo = pd.DataFrame(json.load(open('MedCAT_Export_With_Text_Assn_No_Pred.json'))['projects'])"
   ]
  },
  {
   "cell_type": "code",
   "execution_count": 97,
   "metadata": {},
   "outputs": [
    {
     "name": "stdout",
     "output_type": "stream",
     "text": [
      "Epoch: 0, Prec: 0.9034564958283671, Rec: 0.8783314020857474, F1: 0.8908939489570573\n",
      "First 10 out of 157 docs with problems: 125347; 162484; 151592; 131363; 191028; 166261; 111866; 128902; 134125; 123355\n",
      "Starting epoch: 0\n",
      "Epoch: 1, Prec: 0.893348623853211, Rec: 0.9026651216685979, F1: 0.8980068727609045\n",
      "First 10 out of 147 docs with problems: 125347; 162484; 151592; 191028; 111866; 138230; 128902; 134125; 123355; 115842\n",
      "Starting epoch: 1\n",
      "Epoch: 2, Prec: 0.8939566704675028, Rec: 0.9084588644264194, F1: 0.9012077674469612\n",
      "First 10 out of 141 docs with problems: 125347; 162484; 151592; 191028; 111866; 138230; 128902; 134125; 123355; 110674\n",
      "Starting epoch: 2\n",
      "Epoch: 3, Prec: 0.8952164009111617, Rec: 0.9107763615295481, F1: 0.902996381220355\n",
      "First 10 out of 140 docs with problems: 125347; 162484; 151592; 111866; 128902; 134125; 123355; 110674; 115842; 133316\n",
      "Starting epoch: 3\n",
      "Epoch: 4, Prec: 0.8965909090909091, Rec: 0.9142526071842411, F1: 0.9054217581375751\n",
      "First 10 out of 136 docs with problems: 162484; 151592; 111866; 134125; 123355; 110674; 115842; 133316; 187850; 173185\n",
      "Starting epoch: 4\n",
      "Epoch: 5, Prec: 0.8979591836734694, Rec: 0.9177288528389339, F1: 0.9078440182562016\n",
      "First 10 out of 134 docs with problems: 151592; 134125; 123355; 110674; 115842; 133316; 187850; 173185; 157828; 162451\n"
     ]
    }
   ],
   "source": [
    "cat.train_supervised('not-fucked.json', print_stats=True, lr=0.3, nepochs=0, use_filters=True, reset_cdb=True, anneal=True)"
   ]
  },
  {
   "cell_type": "code",
   "execution_count": 111,
   "metadata": {},
   "outputs": [
    {
     "name": "stdout",
     "output_type": "stream",
     "text": [
      "Epoch: 0, Prec: 0.8979591836734694, Rec: 0.9177288528389339, F1: 0.9078440182562016\n",
      "First 10 out of 134 docs with problems: 151592; 134125; 123355; 110674; 115842; 133316; 187850; 173185; 157828; 162451\n",
      "Starting epoch: 0\n",
      "Epoch: 1, Prec: 0.8978433598183881, Rec: 0.9165701042873696, F1: 0.9072067320528789\n",
      "First 10 out of 135 docs with problems: 151592; 135955; 134125; 123355; 110674; 115842; 133316; 187850; 173185; 157828\n"
     ]
    }
   ],
   "source": [
    "cat.train_supervised('not-fucked.json', print_stats=True, lr=0.3, nepochs=1, use_filters=True, anneal=True)"
   ]
  },
  {
   "cell_type": "code",
   "execution_count": 125,
   "metadata": {},
   "outputs": [],
   "source": [
    "doc = cat('\\n1.  Coronary artery disease status post CABG.\\n2.  Sternal wound infection status post rewiring.\\n3.  Revision of PDA graft.\\n4.  Status post living related kidney transplant for chronic\\nrenal failure.\\n')"
   ]
  },
  {
   "cell_type": "code",
   "execution_count": 126,
   "metadata": {},
   "outputs": [],
   "source": [
    "cat.spacy_cat.CUI_FILTER = None"
   ]
  },
  {
   "cell_type": "code",
   "execution_count": 129,
   "metadata": {},
   "outputs": [
    {
     "data": {
      "text/plain": [
       "'C2891269'"
      ]
     },
     "execution_count": 129,
     "metadata": {},
     "output_type": "execute_result"
    }
   ],
   "source": [
    "doc.ents[-2]._.cui"
   ]
  },
  {
   "cell_type": "code",
   "execution_count": 128,
   "metadata": {},
   "outputs": [
    {
     "data": {
      "text/plain": [
       "(Coronary artery disease, CABG, kidney transplant, chronic\n",
       " renal failure)"
      ]
     },
     "execution_count": 128,
     "metadata": {},
     "output_type": "execute_result"
    }
   ],
   "source": [
    "doc.ents"
   ]
  },
  {
   "cell_type": "code",
   "execution_count": 18,
   "metadata": {},
   "outputs": [
    {
     "data": {
      "text/plain": [
       "25"
      ]
     },
     "execution_count": 18,
     "metadata": {},
     "output_type": "execute_result"
    }
   ],
   "source": [
    "cat.cdb.cui_count['C2887101']"
   ]
  },
  {
   "cell_type": "code",
   "execution_count": 40,
   "metadata": {},
   "outputs": [],
   "source": [
    "cat.cdb.name2cui['sepsis'] = {'C0036690', 'C2887101'}"
   ]
  },
  {
   "cell_type": "code",
   "execution_count": 38,
   "metadata": {},
   "outputs": [
    {
     "data": {
      "text/plain": [
       "[(2, 'C0036690'), (25, 'C2887101'), (48, 'C0243026')]"
      ]
     },
     "execution_count": 38,
     "metadata": {},
     "output_type": "execute_result"
    }
   ],
   "source": [
    "[(cat.cdb.cui_count[x], x) for x in cat.cdb.name2cui['sepsis']]"
   ]
  },
  {
   "cell_type": "code",
   "execution_count": 31,
   "metadata": {},
   "outputs": [],
   "source": [
    "cat.spacy_cat.PREFER_FREQUENT = False"
   ]
  },
  {
   "cell_type": "markdown",
   "metadata": {},
   "source": [
    "The steps would be:\n",
    "- Take all the names you have in the new CDB\n",
    "- Check which ones were ambiguous in the old CDB (have  multiple CUIs linked)\n",
    "- Set cdb.name_isunique[name] = False"
   ]
  },
  {
   "cell_type": "markdown",
   "metadata": {},
   "source": [
    "## Ensure all names that are in the ICD-10 CDB 'Trainable' "
   ]
  },
  {
   "cell_type": "code",
   "execution_count": 7,
   "metadata": {},
   "outputs": [],
   "source": [
    "unique_names = [k for k, v in umls_cdb.name2cui.items() if len(v) == 1]\n",
    "non_unique_names_from_full_umls_cdb = set([k for k, v in full_umls_cdb.name2cui.items() if len(v) > 1])\n",
    "new_names = set(umls_cdb.name2cui.keys()) - set(umls_cdb.name_isunique.keys())"
   ]
  },
  {
   "cell_type": "code",
   "execution_count": 8,
   "metadata": {},
   "outputs": [],
   "source": [
    "for name in new_names:\n",
    "    if name in non_unique_names_from_full_umls_cdb:\n",
    "        umls_cdb.name_isunique[name] = False"
   ]
  },
  {
   "cell_type": "code",
   "execution_count": 9,
   "metadata": {},
   "outputs": [],
   "source": [
    "umls_cdb.save_dict('/Users/tom/phd/cattrainer_models/0.2.7+ - umls_base_mimic - ICD10_Only - Trainable.dat')"
   ]
  },
  {
   "cell_type": "code",
   "execution_count": 74,
   "metadata": {},
   "outputs": [
    {
     "data": {
      "text/plain": [
       "99082"
      ]
     },
     "execution_count": 74,
     "metadata": {},
     "output_type": "execute_result"
    }
   ],
   "source": [
    "len(umls_cdb.cui2names)"
   ]
  },
  {
   "cell_type": "code",
   "execution_count": 73,
   "metadata": {},
   "outputs": [],
   "source": [
    "cui_to_keep = json.load(open('all_icd9_cuis.json'))"
   ]
  },
  {
   "cell_type": "code",
   "execution_count": null,
   "metadata": {},
   "outputs": [],
   "source": []
  },
  {
   "cell_type": "code",
   "execution_count": 36,
   "metadata": {},
   "outputs": [],
   "source": [
    "mimic3 = pd.read_csv('../data/mimic3_with_addendums.csv')\n",
    "df = pd.DataFrame({'name': ['Test Episode 1', 'Test Episode 2'], 'text': mimic3.text[3:5]})\n",
    "df.to_csv('test_dataset.csv', index=False)"
   ]
  }
 ],
 "metadata": {
  "kernelspec": {
   "display_name": "Python [conda env:cattrainer]",
   "language": "python",
   "name": "conda-env-cattrainer-py"
  },
  "language_info": {
   "codemirror_mode": {
    "name": "ipython",
    "version": 3
   },
   "file_extension": ".py",
   "mimetype": "text/x-python",
   "name": "python",
   "nbconvert_exporter": "python",
   "pygments_lexer": "ipython3",
   "version": "3.7.0"
  }
 },
 "nbformat": 4,
 "nbformat_minor": 4
}
