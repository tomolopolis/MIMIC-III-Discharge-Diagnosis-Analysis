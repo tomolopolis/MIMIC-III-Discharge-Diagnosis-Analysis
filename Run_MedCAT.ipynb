{
 "cells": [
  {
   "cell_type": "code",
   "execution_count": 41,
   "metadata": {},
   "outputs": [],
   "source": [
    "from medcat.cat import CAT\n",
    "from medcat.utils.vocab import Vocab\n",
    "from medcat.cdb import CDB\n",
    "from icd9cms import search"
   ]
  },
  {
   "cell_type": "code",
   "execution_count": 7,
   "metadata": {},
   "outputs": [],
   "source": [
    "import json\n",
    "from copy import deepcopy\n",
    "import pandas as pd"
   ]
  },
  {
   "cell_type": "markdown",
   "metadata": {},
   "source": [
    "# 1) Load UMLS Concept Databases\n",
    "- Base Vocab - \n",
    "- Base UMLS CDB.\n",
    "- Filtered ICD-10-CM code only CDB"
   ]
  },
  {
   "cell_type": "code",
   "execution_count": null,
   "metadata": {},
   "outputs": [],
   "source": []
  },
  {
   "cell_type": "code",
   "execution_count": 11,
   "metadata": {},
   "outputs": [],
   "source": [
    "vocab = Vocab()\n",
    "vocab.load_dict('medcat_models/base_vocabulary.dat')"
   ]
  },
  {
   "cell_type": "code",
   "execution_count": 5,
   "metadata": {},
   "outputs": [],
   "source": [
    "full_umls_cdb = CDB()\n",
    "full_umls_cdb.load_dict('medcat_models/0.2.7+ umls_2m_mimic.dat')"
   ]
  },
  {
   "cell_type": "code",
   "execution_count": null,
   "metadata": {},
   "outputs": [],
   "source": [
    "umls_cdb = CDB()\n",
    "umls_cdb.load_dict('medcat_models/0.2.7+ - umls_base_mimic - ICD10_Only.dat')"
   ]
  },
  {
   "cell_type": "code",
   "execution_count": null,
   "metadata": {},
   "outputs": [],
   "source": [
    "cat = CAT(cdb=umls_cdb, vocab=vocab)"
   ]
  },
  {
   "cell_type": "markdown",
   "metadata": {},
   "source": [
    "## 2) Run Pre-Trained MedCAT on DD Subsections\n",
    "- Loads the vocab and pre-trained UMLS based Concept Database into a MedCAT instance.\n",
    "- Reads the DD subsections from /data/mimic_dd_icd9_sections.csv\n",
    "- Runs MedCAT over all DD subsections and collects results as JSON,\n",
    "- Dumps output to file 'mimic_dd_annos.json'"
   ]
  },
  {
   "cell_type": "code",
   "execution_count": 25,
   "metadata": {},
   "outputs": [],
   "source": [
    "notes = pd.read_csv('data/mimic_dd_icd9_sections.csv')\n",
    "objs = [json.loads(cat.get_json(t)) for t in notes.text]\n",
    "json.dump(objs, open('mimic_dd_annos.json', 'w'))"
   ]
  },
  {
   "cell_type": "markdown",
   "metadata": {},
   "source": [
    "## 3) Fine-Tune the MedCAT Model with tranining samples\n",
    "- Firstly, ensure all names that are in the ICD-10 CDB 'Trainable', by telling MedCAT to use training samples for given concepts during training data annotation."
   ]
  },
  {
   "cell_type": "code",
   "execution_count": null,
   "metadata": {},
   "outputs": [],
   "source": [
    "%%timeit\n",
    "unique_names = [k for k, v in umls_cdb.name2cui.items() if len(v) == 1]\n",
    "non_unique_names_from_full_umls_cdb = set([k for k, v in full_umls_cdb.name2cui.items() if len(v) > 1])\n",
    "new_names = set(umls_cdb.name2cui.keys()) - set(umls_cdb.name_isunique.keys())\n",
    "\n",
    "for name in new_names:\n",
    "    if name in non_unique_names_from_full_umls_cdb:\n",
    "        umls_cdb.name_isunique[name] = False"
   ]
  },
  {
   "cell_type": "code",
   "execution_count": 9,
   "metadata": {},
   "outputs": [],
   "source": [
    "umls_cdb.save_dict('medcat_models/0.2.7+ - umls_base_mimic - ICD10_Only - Trainable.dat')"
   ]
  },
  {
   "cell_type": "markdown",
   "metadata": {},
   "source": [
    "- 'Train' the model with collected samples"
   ]
  },
  {
   "cell_type": "code",
   "execution_count": 29,
   "metadata": {},
   "outputs": [],
   "source": [
    "cdb = CDB()"
   ]
  },
  {
   "cell_type": "code",
   "execution_count": 30,
   "metadata": {},
   "outputs": [],
   "source": [
    "cdb.load_dict('medcat_models/0.2.7+ - umls_base_mimic - ICD10_Only - Trainable.dat')"
   ]
  },
  {
   "cell_type": "code",
   "execution_count": 31,
   "metadata": {},
   "outputs": [],
   "source": [
    "cat = CAT(cdb=cdb, vocab=vocab)"
   ]
  },
  {
   "cell_type": "code",
   "execution_count": 32,
   "metadata": {},
   "outputs": [],
   "source": [
    "cat.spacy_cat.MIN_CUI_COUNT_STRICT = 0"
   ]
  },
  {
   "cell_type": "code",
   "execution_count": 33,
   "metadata": {},
   "outputs": [
    {
     "name": "stdout",
     "output_type": "stream",
     "text": [
      "Epoch: 0, Prec: 0.7162162162162162, Rec: 0.06141367323290846, F1: 0.38881494472456235\n",
      "First 10 out of 786 docs with problems: 153791; 105960; 111263; 143808; 171129; 106006; 151079; 103496; 116879; 138328\n",
      "Starting epoch: 0\n",
      "Epoch: 1, Prec: 0.893348623853211, Rec: 0.9026651216685979, F1: 0.8980068727609045\n",
      "First 10 out of 147 docs with problems: 116726; 142881; 136130; 109386; 186963; 178995; 150592; 167835; 147385; 117806\n",
      "Starting epoch: 1\n",
      "Epoch: 2, Prec: 0.8939566704675028, Rec: 0.9084588644264194, F1: 0.9012077674469612\n",
      "First 10 out of 141 docs with problems: 116726; 142881; 136130; 109386; 186963; 178995; 150592; 167835; 147385; 110674\n",
      "Starting epoch: 2\n",
      "Epoch: 3, Prec: 0.8952164009111617, Rec: 0.9107763615295481, F1: 0.902996381220355\n",
      "First 10 out of 140 docs with problems: 116726; 142881; 136130; 109386; 186963; 178995; 150592; 167835; 147385; 110674\n",
      "Starting epoch: 3\n",
      "Epoch: 4, Prec: 0.8965909090909091, Rec: 0.9142526071842411, F1: 0.9054217581375751\n",
      "First 10 out of 136 docs with problems: 116726; 142881; 136130; 109386; 186963; 178995; 150592; 167835; 147385; 110674\n",
      "Starting epoch: 4\n",
      "Epoch: 5, Prec: 0.8978433598183881, Rec: 0.9165701042873696, F1: 0.9072067320528789\n",
      "First 10 out of 134 docs with problems: 116726; 142881; 136130; 109386; 186963; 178995; 150592; 167835; 147385; 110674\n"
     ]
    }
   ],
   "source": [
    "cat.train_supervised('data/MedCAT_Export_With_Text_Assn_No_Pred.json', print_stats=True, lr=0.3, nepochs=5, reset_cdb=True, use_filters=True, anneal=True)"
   ]
  },
  {
   "cell_type": "code",
   "execution_count": 34,
   "metadata": {},
   "outputs": [],
   "source": [
    "cdb.save_dict('medcat_models/0.2.7+ - umls_base_mimic - ICD 10 - Fine Tuned.dat')"
   ]
  },
  {
   "cell_type": "markdown",
   "metadata": {},
   "source": [
    "## Load Fine-Tuned MedCAT Model, Re-Reun on DD Subsections and save down."
   ]
  },
  {
   "cell_type": "code",
   "execution_count": 35,
   "metadata": {},
   "outputs": [],
   "source": [
    "fine_tuned_cdb = CDB()\n",
    "fine_tuned_cdb.load_dict('medcat_models/0.2.7+ - umls_base_mimic - ICD 10 - Fine Tuned.dat')\n",
    "tuned_cat = CAT(cdb=fine_tuned_cdb, vocab=vocab)"
   ]
  },
  {
   "cell_type": "code",
   "execution_count": 36,
   "metadata": {},
   "outputs": [],
   "source": [
    "notes = pd.read_csv('data/mimic_dd_icd9_sections.csv')\n",
    "objs = [json.loads(tuned_cat.get_json(t)) for t in notes.text]\n",
    "json.dump(objs, open('data/mimic_dd_annos_fine_tuned_cat.json', 'w'))"
   ]
  }
 ],
 "metadata": {
  "kernelspec": {
   "display_name": "Python [conda env:cattrainer]",
   "language": "python",
   "name": "conda-env-cattrainer-py"
  },
  "language_info": {
   "codemirror_mode": {
    "name": "ipython",
    "version": 3
   },
   "file_extension": ".py",
   "mimetype": "text/x-python",
   "name": "python",
   "nbconvert_exporter": "python",
   "pygments_lexer": "ipython3",
   "version": "3.7.0"
  }
 },
 "nbformat": 4,
 "nbformat_minor": 4
}
