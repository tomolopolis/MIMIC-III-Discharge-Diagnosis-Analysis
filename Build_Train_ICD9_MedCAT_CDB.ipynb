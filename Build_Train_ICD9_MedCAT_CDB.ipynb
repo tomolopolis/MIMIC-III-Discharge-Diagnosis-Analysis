{
 "cells": [
  {
   "cell_type": "code",
   "execution_count": 1,
   "metadata": {},
   "outputs": [],
   "source": [
    "%load_ext autoreload\n",
    "\n",
    "%autoreload 2\n",
    "\n",
    "from medcat.cat import CAT\n",
    "from medcat.utils.vocab import Vocab\n",
    "from medcat.cdb import CDB\n",
    "from medcat.prepare_cdb import PrepareCDB\n",
    "\n",
    "from icd9cms import search\n",
    "import os\n",
    "import pandas as pd\n",
    "from collections import defaultdict\n",
    "import json\n",
    "from matplotlib import pyplot as plt"
   ]
  },
  {
   "cell_type": "code",
   "execution_count": 2,
   "metadata": {},
   "outputs": [],
   "source": [
    "codes = pd.read_csv('data/admission_codes.csv')\n",
    "df = codes.groupby('icd9_code').count()\n",
    "df.reset_index(inplace=True)\n",
    "df.columns = ['cui', 'count', '_', '_', '_']\n",
    "clean_codes = df.loc[:, ['cui', 'count']]"
   ]
  },
  {
   "cell_type": "markdown",
   "metadata": {},
   "source": [
    "### Top 5 Occurring Codes in MIMIC-III"
   ]
  },
  {
   "cell_type": "code",
   "execution_count": 3,
   "metadata": {},
   "outputs": [
    {
     "data": {
      "text/html": [
       "<div>\n",
       "<style scoped>\n",
       "    .dataframe tbody tr th:only-of-type {\n",
       "        vertical-align: middle;\n",
       "    }\n",
       "\n",
       "    .dataframe tbody tr th {\n",
       "        vertical-align: top;\n",
       "    }\n",
       "\n",
       "    .dataframe thead th {\n",
       "        text-align: right;\n",
       "    }\n",
       "</style>\n",
       "<table border=\"1\" class=\"dataframe\">\n",
       "  <thead>\n",
       "    <tr style=\"text-align: right;\">\n",
       "      <th></th>\n",
       "      <th>cui</th>\n",
       "      <th>count</th>\n",
       "    </tr>\n",
       "  </thead>\n",
       "  <tbody>\n",
       "    <tr>\n",
       "      <th>1920</th>\n",
       "      <td>4019</td>\n",
       "      <td>20703</td>\n",
       "    </tr>\n",
       "    <tr>\n",
       "      <th>2066</th>\n",
       "      <td>4280</td>\n",
       "      <td>13111</td>\n",
       "    </tr>\n",
       "    <tr>\n",
       "      <th>2055</th>\n",
       "      <td>42731</td>\n",
       "      <td>12891</td>\n",
       "    </tr>\n",
       "    <tr>\n",
       "      <th>1977</th>\n",
       "      <td>41401</td>\n",
       "      <td>12429</td>\n",
       "    </tr>\n",
       "    <tr>\n",
       "      <th>2897</th>\n",
       "      <td>5849</td>\n",
       "      <td>9119</td>\n",
       "    </tr>\n",
       "  </tbody>\n",
       "</table>\n",
       "</div>"
      ],
      "text/plain": [
       "        cui  count\n",
       "1920   4019  20703\n",
       "2066   4280  13111\n",
       "2055  42731  12891\n",
       "1977  41401  12429\n",
       "2897   5849   9119"
      ]
     },
     "execution_count": 3,
     "metadata": {},
     "output_type": "execute_result"
    }
   ],
   "source": [
    "clean_codes.sort_values('count', ascending=False).head(5)"
   ]
  },
  {
   "cell_type": "code",
   "execution_count": 4,
   "metadata": {},
   "outputs": [],
   "source": [
    "# needed columns \n",
    "# cui,str,onto,tty,tui,sty,desc,is_unique,examples\n",
    "code_meta_dir = defaultdict(list)\n",
    "for row in clean_codes.itertuples():\n",
    "    found_code = search(row.cui)\n",
    "    code_meta_dir['cui'].append(row.cui)\n",
    "    code_meta_dir['count'].append(row.count)\n",
    "    code_meta_dir['str'].append(found_code.short_desc)\n",
    "    code_meta_dir['onto'].append('icd9')\n",
    "    parent_code = found_code\n",
    "    if  found_code.code[0] != 'E' and len(found_code.code) > 3:\n",
    "        parent_code = search(found_code.code[0:3])\n",
    "    elif found_code.code[0] == 'E' and len(found_code.code) > 4:\n",
    "        parent_code = search(found_code.code[0:4])\n",
    "    code_meta_dir['tui'].append(parent_code.code)\n",
    "    code_meta_dir['sty'].append(parent_code.short_desc)\n",
    "    code_meta_dir['desc'].append(found_code.long_desc or found_code.short_desc)\n",
    "    code_meta_dir['is_unique'].append(-1)"
   ]
  },
  {
   "cell_type": "code",
   "execution_count": 5,
   "metadata": {},
   "outputs": [],
   "source": [
    "cdb_df = pd.DataFrame(code_meta_dir).sort_values('count', ascending=False)"
   ]
  },
  {
   "cell_type": "code",
   "execution_count": 6,
   "metadata": {},
   "outputs": [
    {
     "data": {
      "text/html": [
       "<div>\n",
       "<style scoped>\n",
       "    .dataframe tbody tr th:only-of-type {\n",
       "        vertical-align: middle;\n",
       "    }\n",
       "\n",
       "    .dataframe tbody tr th {\n",
       "        vertical-align: top;\n",
       "    }\n",
       "\n",
       "    .dataframe thead th {\n",
       "        text-align: right;\n",
       "    }\n",
       "</style>\n",
       "<table border=\"1\" class=\"dataframe\">\n",
       "  <thead>\n",
       "    <tr style=\"text-align: right;\">\n",
       "      <th></th>\n",
       "      <th>cui</th>\n",
       "      <th>count</th>\n",
       "      <th>str</th>\n",
       "      <th>onto</th>\n",
       "      <th>tui</th>\n",
       "      <th>sty</th>\n",
       "      <th>desc</th>\n",
       "      <th>is_unique</th>\n",
       "    </tr>\n",
       "  </thead>\n",
       "  <tbody>\n",
       "    <tr>\n",
       "      <th>1920</th>\n",
       "      <td>4019</td>\n",
       "      <td>20703</td>\n",
       "      <td>Hypertension NOS</td>\n",
       "      <td>icd9</td>\n",
       "      <td>401</td>\n",
       "      <td>Essential hypertension</td>\n",
       "      <td>Unspecified essential hypertension</td>\n",
       "      <td>-1</td>\n",
       "    </tr>\n",
       "    <tr>\n",
       "      <th>2066</th>\n",
       "      <td>4280</td>\n",
       "      <td>13111</td>\n",
       "      <td>CHF NOS</td>\n",
       "      <td>icd9</td>\n",
       "      <td>428</td>\n",
       "      <td>Heart failure</td>\n",
       "      <td>Congestive heart failure, unspecified</td>\n",
       "      <td>-1</td>\n",
       "    </tr>\n",
       "    <tr>\n",
       "      <th>2055</th>\n",
       "      <td>42731</td>\n",
       "      <td>12891</td>\n",
       "      <td>Atrial fibrillation</td>\n",
       "      <td>icd9</td>\n",
       "      <td>427</td>\n",
       "      <td>Cardiac dysrhythmias</td>\n",
       "      <td>Atrial fibrillation</td>\n",
       "      <td>-1</td>\n",
       "    </tr>\n",
       "    <tr>\n",
       "      <th>1977</th>\n",
       "      <td>41401</td>\n",
       "      <td>12429</td>\n",
       "      <td>Crnry athrscl natve vssl</td>\n",
       "      <td>icd9</td>\n",
       "      <td>414</td>\n",
       "      <td>Other forms of chronic ischemic heart disease</td>\n",
       "      <td>Coronary atherosclerosis of native coronary ar...</td>\n",
       "      <td>-1</td>\n",
       "    </tr>\n",
       "    <tr>\n",
       "      <th>2897</th>\n",
       "      <td>5849</td>\n",
       "      <td>9119</td>\n",
       "      <td>Acute kidney failure NOS</td>\n",
       "      <td>icd9</td>\n",
       "      <td>584</td>\n",
       "      <td>Acute kidney failure</td>\n",
       "      <td>Acute kidney failure, unspecified</td>\n",
       "      <td>-1</td>\n",
       "    </tr>\n",
       "    <tr>\n",
       "      <th>811</th>\n",
       "      <td>25000</td>\n",
       "      <td>9058</td>\n",
       "      <td>DMII wo cmp nt st uncntr</td>\n",
       "      <td>icd9</td>\n",
       "      <td>250</td>\n",
       "      <td>Diabetes mellitus</td>\n",
       "      <td>Diabetes mellitus without mention of complicat...</td>\n",
       "      <td>-1</td>\n",
       "    </tr>\n",
       "    <tr>\n",
       "      <th>931</th>\n",
       "      <td>2724</td>\n",
       "      <td>8690</td>\n",
       "      <td>Hyperlipidemia NEC/NOS</td>\n",
       "      <td>icd9</td>\n",
       "      <td>272</td>\n",
       "      <td>Disorders of lipoid metabolism</td>\n",
       "      <td>Other and unspecified hyperlipidemia</td>\n",
       "      <td>-1</td>\n",
       "    </tr>\n",
       "    <tr>\n",
       "      <th>2484</th>\n",
       "      <td>51881</td>\n",
       "      <td>7497</td>\n",
       "      <td>Acute respiratry failure</td>\n",
       "      <td>icd9</td>\n",
       "      <td>518</td>\n",
       "      <td>Other diseases of lung</td>\n",
       "      <td>Acute respiratory failure</td>\n",
       "      <td>-1</td>\n",
       "    </tr>\n",
       "    <tr>\n",
       "      <th>2965</th>\n",
       "      <td>5990</td>\n",
       "      <td>6555</td>\n",
       "      <td>Urin tract infection NOS</td>\n",
       "      <td>icd9</td>\n",
       "      <td>599</td>\n",
       "      <td>Other disorders of urethra and urinary tract</td>\n",
       "      <td>Urinary tract infection, site not specified</td>\n",
       "      <td>-1</td>\n",
       "    </tr>\n",
       "    <tr>\n",
       "      <th>2576</th>\n",
       "      <td>53081</td>\n",
       "      <td>6326</td>\n",
       "      <td>Esophageal reflux</td>\n",
       "      <td>icd9</td>\n",
       "      <td>530</td>\n",
       "      <td>Diseases of esophagus</td>\n",
       "      <td>Esophageal reflux</td>\n",
       "      <td>-1</td>\n",
       "    </tr>\n",
       "  </tbody>\n",
       "</table>\n",
       "</div>"
      ],
      "text/plain": [
       "        cui  count                       str  onto  tui  \\\n",
       "1920   4019  20703          Hypertension NOS  icd9  401   \n",
       "2066   4280  13111                   CHF NOS  icd9  428   \n",
       "2055  42731  12891       Atrial fibrillation  icd9  427   \n",
       "1977  41401  12429  Crnry athrscl natve vssl  icd9  414   \n",
       "2897   5849   9119  Acute kidney failure NOS  icd9  584   \n",
       "811   25000   9058  DMII wo cmp nt st uncntr  icd9  250   \n",
       "931    2724   8690    Hyperlipidemia NEC/NOS  icd9  272   \n",
       "2484  51881   7497  Acute respiratry failure  icd9  518   \n",
       "2965   5990   6555  Urin tract infection NOS  icd9  599   \n",
       "2576  53081   6326         Esophageal reflux  icd9  530   \n",
       "\n",
       "                                                sty  \\\n",
       "1920                         Essential hypertension   \n",
       "2066                                  Heart failure   \n",
       "2055                           Cardiac dysrhythmias   \n",
       "1977  Other forms of chronic ischemic heart disease   \n",
       "2897                           Acute kidney failure   \n",
       "811                               Diabetes mellitus   \n",
       "931                  Disorders of lipoid metabolism   \n",
       "2484                         Other diseases of lung   \n",
       "2965   Other disorders of urethra and urinary tract   \n",
       "2576                          Diseases of esophagus   \n",
       "\n",
       "                                                   desc  is_unique  \n",
       "1920                 Unspecified essential hypertension         -1  \n",
       "2066              Congestive heart failure, unspecified         -1  \n",
       "2055                                Atrial fibrillation         -1  \n",
       "1977  Coronary atherosclerosis of native coronary ar...         -1  \n",
       "2897                  Acute kidney failure, unspecified         -1  \n",
       "811   Diabetes mellitus without mention of complicat...         -1  \n",
       "931                Other and unspecified hyperlipidemia         -1  \n",
       "2484                          Acute respiratory failure         -1  \n",
       "2965        Urinary tract infection, site not specified         -1  \n",
       "2576                                  Esophageal reflux         -1  "
      ]
     },
     "execution_count": 6,
     "metadata": {},
     "output_type": "execute_result"
    }
   ],
   "source": [
    "cdb_df.sort_values('count', ascending=False).head(10)"
   ]
  },
  {
   "cell_type": "markdown",
   "metadata": {},
   "source": [
    "## Link Pre-trained UMLS to ICD-9-CM\n",
    "CSV mapping file from: https://bioportal.bioontology.org/ontologies/ICD9CM/?p=summary\n",
    "\n",
    "After testing with ICD9 mapping. Many mappings appear to be missing with UMLS. Using the trained / built ICD10 to UMLS mapping"
   ]
  },
  {
   "cell_type": "code",
   "execution_count": 7,
   "metadata": {},
   "outputs": [],
   "source": [
    "# mapping = pd.read_csv('ICD9CM.csv')"
   ]
  },
  {
   "cell_type": "markdown",
   "metadata": {},
   "source": [
    "## Mapping ICD9 to ICD10"
   ]
  },
  {
   "cell_type": "code",
   "execution_count": 65,
   "metadata": {},
   "outputs": [],
   "source": [
    "codes = pd.read_csv('data/admission_codes.csv')"
   ]
  },
  {
   "cell_type": "code",
   "execution_count": 9,
   "metadata": {},
   "outputs": [],
   "source": [
    "icd9_to_10_mapping = pd.read_csv('refdata/icd9toicd10cmgem.csv')\n",
    "sorted_codes = codes.icd9_code.value_counts().reset_index().sort_values('icd9_code', ascending=False)\n",
    "sorted_codes.columns = ['code', 'count']\n",
    "count = 0\n",
    "icd10 = []\n",
    "for c in sorted_codes.code:\n",
    "    mapped_rows = icd9_to_10_mapping[icd9_to_10_mapping.icd9cm == c]   \n",
    "    icd10.append(','.join(mapped_rows.icd10cm.tolist()) if \n",
    "                 mapped_rows.shape[0] > 1 else mapped_rows.icd10cm.iloc[0])\n",
    "sorted_codes['icd10'] = icd10"
   ]
  },
  {
   "cell_type": "code",
   "execution_count": 10,
   "metadata": {},
   "outputs": [],
   "source": [
    "total_assigned_codes = sorted_codes['count'].sum()"
   ]
  },
  {
   "cell_type": "code",
   "execution_count": 11,
   "metadata": {},
   "outputs": [
    {
     "data": {
      "text/plain": [
       "450732"
      ]
     },
     "execution_count": 11,
     "metadata": {},
     "output_type": "execute_result"
    }
   ],
   "source": [
    "sorted_codes['count'].iloc[:300].sum()"
   ]
  },
  {
   "cell_type": "markdown",
   "metadata": {},
   "source": [
    "## Code Proportions of Total Assigned Codes\n",
    "We go with thea top 400 ICD-9 codes in the following analysis, giving  is a reasonable number for 'majority' coverage of the codes in MIMIC-III without validating all ~6k. "
   ]
  },
  {
   "cell_type": "code",
   "execution_count": 12,
   "metadata": {},
   "outputs": [],
   "source": [
    "code_ranges = [50, 100, 200, 300, 400, 500, 600]\n",
    "props_of_total_codes = [(r, round((sorted_codes['count'].iloc[:r].sum() / total_assigned_codes) * 100, 2)) for r in code_ranges] "
   ]
  },
  {
   "cell_type": "code",
   "execution_count": 13,
   "metadata": {},
   "outputs": [
    {
     "data": {
      "text/plain": [
       "[(50, 38.24),\n",
       " (100, 50.11),\n",
       " (200, 63.39),\n",
       " (300, 71.01),\n",
       " (400, 76.2),\n",
       " (500, 79.96),\n",
       " (600, 82.9)]"
      ]
     },
     "execution_count": 13,
     "metadata": {},
     "output_type": "execute_result"
    }
   ],
   "source": [
    "props_of_total_codes"
   ]
  },
  {
   "cell_type": "markdown",
   "metadata": {},
   "source": [
    "## Filter Down to top 400 ICD-9 Codes\n",
    "That have first been mapped to ICD-10 codes, then mapped to UMLS CUI Codes."
   ]
  },
  {
   "cell_type": "code",
   "execution_count": 14,
   "metadata": {},
   "outputs": [],
   "source": [
    "icd10_mapping = pd.read_csv('refdata/UMLS_to_ICD10.csv')"
   ]
  },
  {
   "cell_type": "code",
   "execution_count": 15,
   "metadata": {},
   "outputs": [],
   "source": [
    "icd10_mapping = icd10_mapping.loc[:, ['Class ID', 'CUI', 'Semantic type UMLS property']]"
   ]
  },
  {
   "cell_type": "code",
   "execution_count": 16,
   "metadata": {},
   "outputs": [],
   "source": [
    "icd10_mapping['tuis'] = icd10_mapping['Semantic type UMLS property']\\\n",
    "    .str.split('|').dropna().apply(\\\n",
    "        lambda tui_list: ','.join([l.split('/')[-1] for l in tui_list]))"
   ]
  },
  {
   "cell_type": "code",
   "execution_count": 17,
   "metadata": {},
   "outputs": [],
   "source": [
    "icd10_mapping['code'] = icd10_mapping['Class ID'].str.split('/').apply(lambda l: l[-1])"
   ]
  },
  {
   "cell_type": "code",
   "execution_count": 18,
   "metadata": {},
   "outputs": [],
   "source": [
    "from itertools import chain\n",
    "icd10_codes_to_keep = list(chain.from_iterable(sorted_codes[0:400].icd10.str.split(',').tolist()))"
   ]
  },
  {
   "cell_type": "code",
   "execution_count": 19,
   "metadata": {},
   "outputs": [],
   "source": [
    "icd10_mapping['code'] = icd10_mapping.code.str.replace('.', '')\n",
    "tuis_to_keep = chain.from_iterable([icd10_mapping[icd10_mapping.code == code].tuis.tolist() for code in icd10_codes_to_keep])\n",
    "tuis_to_keep = set(chain.from_iterable([tui.split(',') for tui in tuis_to_keep]))\n",
    "cuis_to_keep = chain.from_iterable([icd10_mapping[icd10_mapping.code == code].CUI.tolist() for code in icd10_codes_to_keep])\n",
    "cuis_to_keep = list(chain.from_iterable([cui.split('|') for cui in cuis_to_keep]))\n",
    "cuis_to_keep = list(set(cuis_to_keep))"
   ]
  },
  {
   "cell_type": "code",
   "execution_count": 20,
   "metadata": {},
   "outputs": [],
   "source": [
    "icd10_mapping = pd.read_csv('refdata/UMLS_to_ICD10.csv')\n",
    "icd10_mapping['icd10'] = icd10_mapping['Class ID'].str.split('/').apply(lambda l: l[-1])\n",
    "icd10_mapping['icd10'] = icd10_mapping.icd10.str.replace('.', '')"
   ]
  },
  {
   "cell_type": "markdown",
   "metadata": {},
   "source": [
    "## Code Reconciliation\n",
    "Given a set of predicted UMLS concepts for the DD subsections made by MedCAT, we aim to reconcile the codes assigned to the discharge diagnosis subsections in MIMIC-III."
   ]
  },
  {
   "cell_type": "markdown",
   "metadata": {},
   "source": [
    "Firstly, we map the predicted codes back into their ICD-9 counterparts. MedCAT already contains a UMLS to ICD-10-CM mapping, so we directly use that mapping supplied by the tool."
   ]
  },
  {
   "cell_type": "code",
   "execution_count": 21,
   "metadata": {},
   "outputs": [],
   "source": [
    "notes = pd.read_csv('data/mimic_dd_icd9_sections.csv')\n",
    "notes['name'] = notes.name.str.split(':').apply(lambda l: l[1])\n",
    "codes = pd.read_csv('data/admission_codes.csv').drop('Unnamed: 0', axis=1)\n",
    "objs = json.load(open('data/mimic_dd_annos.json'))"
   ]
  },
  {
   "cell_type": "markdown",
   "metadata": {},
   "source": [
    "### Map parsed UMLS concepts with attached ICD-10 codes to ICD9"
   ]
  },
  {
   "cell_type": "code",
   "execution_count": null,
   "metadata": {},
   "outputs": [],
   "source": [
    "from reconcile import map_medcat_annos_to_icd9"
   ]
  },
  {
   "cell_type": "code",
   "execution_count": null,
   "metadata": {},
   "outputs": [],
   "source": [
    "parsed_dd_mapped_to_icd9_from_intellij = map_medcat_annos_to_icd9(objs, notes, codes, cuis_to_keep)"
   ]
  },
  {
   "cell_type": "markdown",
   "metadata": {},
   "source": [
    "### Reconcile Codes\n",
    "As UMLS codes can map many-to-many to ICD-10 and ICD-9 codes, a single UMLS prediction by MedCAT can map to many associated ICD codes. If the MIMIC-III assigned codes matches one of these UMLS assigned codes we assume the MIMIC-III assigned code is correct and remove all others that refer to the same span of text.\n",
    "\n",
    "Then split the reconciled codes into 3 datasets:\n",
    "- Assigned in MIMIC-III and Not Predicted by MedCAT, denoted **A_NP** in the paper.\n",
    "- Predicted by MedCAT and Assigned in MIMIC-III, denoted **P_A** in the paper. \n",
    "- Predicted by MedCAT and Not Assigned in MIMIC-III, denoted **P_NA** in the paper. "
   ]
  },
  {
   "cell_type": "code",
   "execution_count": 50,
   "metadata": {},
   "outputs": [],
   "source": [
    "from reconcile import remove_duplicate_mapped_assigned_codes"
   ]
  },
  {
   "cell_type": "code",
   "execution_count": 106,
   "metadata": {},
   "outputs": [],
   "source": [
    "joined_df = remove_duplicate_mapped_assigned_codes(notes, codes, parsed_dd_mapped_to_icd9_from_intellij)"
   ]
  },
  {
   "cell_type": "code",
   "execution_count": 23,
   "metadata": {
    "jupyter": {
     "source_hidden": true
    }
   },
   "outputs": [],
   "source": [
    "# all_rows = []\n",
    "# for note, ents in zip(notes.itertuples(), objs):\n",
    "#     for e in ents['entities']:\n",
    "#         if e['cui'] in cuis_to_keep:\n",
    "#             e['hadm'] = note.name\n",
    "#             all_rows.append(e)\n",
    "# df = pd.DataFrame(all_rows)\n",
    "# sorted_top_400 = codes.groupby('icd9_code').count().loc[:, 'hadm_id'].sort_values(ascending=False)[0:400].index.tolist()\n",
    "# codes = codes[codes.icd9_code.isin(sorted_top_400)]\n",
    "# codes = codes[codes.hadm_id.isin(notes.name)]\n",
    "\n",
    "# icd9_to_10_mapping = pd.read_csv('refdata/icd9toicd10cmgem.csv')\n",
    "# icd9_to_10_mapping = icd9_to_10_mapping[icd9_to_10_mapping.icd9cm.isin(sorted_top_400)]\n",
    "# filtered_icd_10_codes = icd9_to_10_mapping.icd10cm.tolist()\n",
    "# \n",
    "# parsed_dd_mapped_to_icd9 = []\n",
    "# no_mapping_found = []\n",
    "# for r in df.itertuples():\n",
    "#     for code in r.icd10.split(','):\n",
    "#         clean_code = code.replace('.', '')\n",
    "#         if clean_code in filtered_icd_10_codes:\n",
    "#             mapped_icd9_codes = icd9_to_10_mapping[icd9_to_10_mapping.icd10cm == clean_code].icd9cm.tolist()\n",
    "#             mapped_icd9_code_instances = [{\n",
    "#                 'acc': r.acc,\n",
    "#                 'cui': r.cui,\n",
    "#                 'hadm': r.hadm,\n",
    "#                 'pretty_name': r.pretty_name,\n",
    "#                 'source_value': r.source_value,\n",
    "#                 'start': r.start,\n",
    "#                 'end': r.end,\n",
    "#                 'icd9': icd9_code,\n",
    "#                 'icd10': code\n",
    "#             } for icd9_code in mapped_icd9_codes]\n",
    "#             parsed_dd_mapped_to_icd9 += mapped_icd9_code_instances\n",
    "#         else:\n",
    "#             no_mapping_found.append(code)\n",
    "# parsed_dd_mapped_to_icd9 = pd.DataFrame(parsed_dd_mapped_to_icd9)\n",
    "\n",
    "# codes = codes.reset_index(drop=True)\n",
    "# codes.columns = ['hadm', 'icd9', 'short_title', 'long_title']\n",
    "\n",
    "# joined_df = []\n",
    "# for h_key, codes_by_hadm in codes.groupby('hadm'):\n",
    "#     pred_codes = parsed_dd_mapped_to_icd9[parsed_dd_mapped_to_icd9.hadm == str(h_key)]\n",
    "#     rows_to_keep = []\n",
    "#     mult_starts = []\n",
    "#     matched_icd9_codes = []\n",
    "#     for code_row in codes_by_hadm.itertuples():\n",
    "#         if code_row.icd9 in pred_codes.icd9.tolist():\n",
    "#             # true positive rows. De-dupe is needed.\n",
    "#             pred_code_match = pred_codes[pred_codes.icd9 == code_row.icd9].iloc[0]\n",
    "#             pred_code_match = pred_code_match.to_dict()\n",
    "#             pred_code_match['match'] = 'match'\n",
    "#             matched_icd9_codes.append(pred_code_match['icd9'])\n",
    "#             rows_to_keep.append(pred_code_match)\n",
    "#             mult_starts.append(pred_code_match['start'])\n",
    "#     no_match_pred_codes = pred_codes[~pred_codes.start.isin(mult_starts)]\n",
    "#     no_match_pred_codes = no_match_pred_codes.to_dict(orient='records')\n",
    "#     for p in no_match_pred_codes:\n",
    "#         p['match'] = 'pred_no_assign'\n",
    "#     rows_to_keep.extend(no_match_pred_codes)\n",
    "    \n",
    "#     no_match_codes = codes_by_hadm[~codes_by_hadm.icd9.isin(matched_icd9_codes)].loc[:, ['hadm', 'icd9']]\n",
    "#     no_match_codes = no_match_codes.to_dict(orient='records')\n",
    "#     for p in no_match_codes:\n",
    "#         p['match'] = 'assigned_no_pred'\n",
    "#     rows_to_keep.extend(no_match_codes)\n",
    "#     joined_df.extend(rows_to_keep)"
   ]
  },
  {
   "cell_type": "markdown",
   "metadata": {},
   "source": [
    "### Plot Base Predictions by MedCAT of DD Susections\n",
    "- Predicted codes that match with Assigned codes from MIMIC-III\n",
    "- Predicted codes but have no matching assigned codes. (These are the most interesting cases, where we can begin to argue where the coding is unreliable).\n",
    "- We accept the gap between assigned codes and no predictions is large due to:\n",
    " - codes coming from outside the DD subsection\n",
    " - possibly overcoding"
   ]
  },
  {
   "cell_type": "code",
   "execution_count": 41,
   "metadata": {},
   "outputs": [],
   "source": [
    "joined_df = pd.DataFrame(joined_df)\n",
    "matched_codes = joined_df[joined_df.match == 'match'].icd9.unique()\n",
    "joined_df_assignedno_pred = joined_df[joined_df.match == 'assigned_no_pred']\n",
    "joined_df_assignedno_pred = joined_df_assignedno_pred[joined_df_assignedno_pred.icd9.isin(matched_codes)].shape[0]\n",
    "joined_df_assignedpred_no_assign = joined_df[joined_df.match == 'pred_no_assign']\n",
    "joined_df_assignedpred_no_assign = joined_df_assignedpred_no_assign[joined_df_assignedpred_no_assign.icd9.isin(matched_codes)].shape[0]"
   ]
  },
  {
   "cell_type": "code",
   "execution_count": 42,
   "metadata": {},
   "outputs": [],
   "source": [
    "y = [joined_df[joined_df.match != 'pred_no_assign'].shape[0],  # raw code counts\n",
    "     joined_df_assignedno_pred, # raw code counts not including the codes that had at least one match.\n",
    "     joined_df[joined_df.match == 'match'].shape[0], # raw code counts that match with assigned codes\n",
    "     joined_df_assignedpred_no_assign # raw code counts that were not assigned but were predicted.\n",
    "    ]"
   ]
  },
  {
   "cell_type": "code",
   "execution_count": 415,
   "metadata": {},
   "outputs": [],
   "source": [
    "labels = ['All assign.', 'Assign., filtered', 'Matches', 'Predictions, no assign.,\\nfiltered']\n",
    "fig, ax = plt.subplots(figsize=(8, 5))\n",
    "ax.bar(range(len(y)), y)\n",
    "ax.set_xticks(range(len(labels)))\n",
    "ax.set_xticklabels(labels)\n",
    "ax.set_ylabel('# of codes assigned')\n",
    "plt.savefig('./plots/code_counts_unsupervised.png')\n",
    "plt.show()"
   ]
  },
  {
   "cell_type": "markdown",
   "metadata": {},
   "source": [
    "## MedCAT Fine-Tuning / Validation Stratified Sampling \n",
    "We sub-sample each of the three datasets by:\n",
    " - by ICD-9 Code\n",
    " - by HADMD ID\n",
    "\n",
    "The **A_NP** dataset is used for MedCAT 'fine-tuning', so the model can include additional synoyms or abbreviations for codes.\n",
    "\n",
    "**P_A** and **P_NA** are used to validate the tool ensuring the model predictions are valid."
   ]
  },
  {
   "cell_type": "code",
   "execution_count": 429,
   "metadata": {},
   "outputs": [],
   "source": [
    "random_state = 42\n",
    "def sample_dataset(dataset, sample_size, num_discard_lead_samples=0, only_sample_codes=None):\n",
    "    samples = []\n",
    "    for code, group_df in dataset.groupby('icd9'):\n",
    "        if only_sample_codes is not None and code not in only_sample_codes:\n",
    "            continue\n",
    "        sample_df = group_df.sample(min(group_df.shape[0], sample_size), random_state=random_state).loc[:, ['hadm']]\n",
    "        sample_df.iloc[num_discard_lead_samples:]\n",
    "        sample_df['icd9'] = code\n",
    "        sample_df['text'] = [notes[notes.name == str(sample.hadm)].text.iloc[0] for sample in sample_df.itertuples()]\n",
    "        samples.append(sample_df)\n",
    "    return pd.concat(samples).reset_index(drop=True)"
   ]
  },
  {
   "cell_type": "markdown",
   "metadata": {},
   "source": [
    "### Sample - Prediction and Assigned"
   ]
  },
  {
   "cell_type": "code",
   "execution_count": 430,
   "metadata": {},
   "outputs": [],
   "source": [
    "sample_dataset(joined_df[joined_df.match == 'match'], 10).to_csv('sampled_correct_preds.csv', index=False)"
   ]
  },
  {
   "cell_type": "markdown",
   "metadata": {},
   "source": [
    "### Sample - Pred and Not Assigned"
   ]
  },
  {
   "cell_type": "code",
   "execution_count": null,
   "metadata": {},
   "outputs": [],
   "source": [
    "sample_dataset(joined_df[joined_df.match == 'pred_no_assign'], 10).to_csv('sampled_preds_no_assign.csv', index=False)"
   ]
  },
  {
   "cell_type": "markdown",
   "metadata": {},
   "source": [
    "### Sample - Assigned, No Pred"
   ]
  },
  {
   "cell_type": "code",
   "execution_count": null,
   "metadata": {},
   "outputs": [],
   "source": [
    "sample_dataset(joined_df[joined_df.match == 'assigned_no_pred'], 10).to_csv('sampled_assigned_no_pred.csv', index=False)"
   ]
  },
  {
   "cell_type": "markdown",
   "metadata": {},
   "source": [
    "# Create Datasets to be evaludated in MedCATTrainer\n",
    "We use a running instance of the [MedCATTrainer](https://github.com/Cogstack/MedCATTrainer) interface.\n",
    "\n",
    "We use the ReST API for creating datasets / projects"
   ]
  },
  {
   "cell_type": "code",
   "execution_count": 10,
   "metadata": {},
   "outputs": [],
   "source": [
    "import requests\n",
    "import json\n",
    "import pandas as pd"
   ]
  },
  {
   "cell_type": "markdown",
   "metadata": {},
   "source": [
    "### First 'Login' to the API with Username and Password.\n",
    "The returned API token once logged in is used in subsequent request headers."
   ]
  },
  {
   "cell_type": "code",
   "execution_count": 16,
   "metadata": {},
   "outputs": [],
   "source": [
    "headers = {\n",
    "    'Authorization': f'Token {json.loads(requests.post(\"http://localhost:8001/api/api-token-auth/\", json={\"username\": \"admin\", \"password\": \"admin\"}).text)[\"token\"]}',\n",
    "}"
   ]
  },
  {
   "cell_type": "markdown",
   "metadata": {},
   "source": [
    "### Create Datasets for Fine-Tuning / Validation\n",
    "Each ICD-9 Code for each of the 3 (**A_NP**, **P_A**, **P_NA**) are created."
   ]
  },
  {
   "cell_type": "code",
   "execution_count": 100,
   "metadata": {},
   "outputs": [],
   "source": [
    "def create_datasets(filename, dataset_name_prefix, dataset_desc_prefix):\n",
    "    dataset_ids = []\n",
    "    for code, group_df in list(pd.read_csv(filename).groupby('icd9')):\n",
    "        group_df.columns = ['name', 'icd9', 'text']\n",
    "        payload = {\n",
    "            'dataset_name': f'{dataset_name_prefix}{code}',\n",
    "            'dataset': group_df.loc[:, ['name', 'text']].to_dict(),\n",
    "            'description': f'{dataset_desc_prefix}{code}',\n",
    "        }\n",
    "        resp = requests.post('http://localhost:8001/api/create-dataset/', json=payload, headers=headers)\n",
    "        dataset_ids.append(json.loads(resp.text)['dataset_id'])\n",
    "    return dataset_ids"
   ]
  },
  {
   "cell_type": "code",
   "execution_count": null,
   "metadata": {},
   "outputs": [],
   "source": [
    "assn_no_pred_dataset_ids = create_datasets('sampled_assigned_no_pred.csv', 'Assn No Pred ', 'Assigned with no prediction for code ')"
   ]
  },
  {
   "cell_type": "code",
   "execution_count": 114,
   "metadata": {},
   "outputs": [],
   "source": [
    "assn_pred_dataset_ids = create_datasets('sampled_correct_preds.csv', 'Corr No Pred ', 'Assigned and predicted for code ')"
   ]
  },
  {
   "cell_type": "code",
   "execution_count": 106,
   "metadata": {},
   "outputs": [],
   "source": [
    "preds_no_assgn_dataset_ids = create_datasets('sampled_preds_no_assign.csv', 'Preds No Assn ', 'Predicted but no assignment for code ')"
   ]
  },
  {
   "cell_type": "markdown",
   "metadata": {},
   "source": [
    "### Create Projects for Fine-Tuning / Validation\n",
    "Each ICD-9 Code for each of the 3 (**A_NP**, **P_A**, **P_NA**) are created.\n",
    "\n",
    "We create an associated .csv file for each of 3 datasets to track the manual validation / fine-tuning effort."
   ]
  },
  {
   "cell_type": "code",
   "execution_count": 102,
   "metadata": {},
   "outputs": [],
   "source": [
    "icd10_mapping.icd10_code = icd10_mapping.icd10_code.str.replace('.', '')\n",
    "icd9_to_10_mapping.reset_index(inplace=True)"
   ]
  },
  {
   "cell_type": "code",
   "execution_count": 112,
   "metadata": {},
   "outputs": [],
   "source": [
    "def create_projects(project_prefix, filename, dataset_ids):\n",
    "    code_maps = {'icd9_code': [], 'icd9_long_title': [], 'icd10_code': [], 'umls_cuis': []}\n",
    "    for dataset_id, (code, group_df) in zip(dataset_ids, pd.read_csv(filename).groupby('icd9')):\n",
    "        icd10_mapped_codes = icd9_to_10_mapping[icd9_to_10_mapping.icd9cm == code].icd10cm.tolist()\n",
    "        cuis = list(chain.from_iterable([c.split('|') for c in icd10_mapping[icd10_mapping.icd10_code.isin(icd10_mapped_codes)].CUI.tolist()]))\n",
    "        payload = {\n",
    "            'name': f'{project_prefix} - DS: {dataset_id} code: {code} desc: {codes[codes.icd9 == code].iloc[0].short_title}',\n",
    "            'description': '',\n",
    "            'cuis': ','.join(cuis),\n",
    "            'tuis': '',\n",
    "            'require_entity_validation': True,\n",
    "            'train_model_on_submit': True,\n",
    "            'dataset': dataset_id,\n",
    "            'concept_db': 3, # UMLS Full CDB \n",
    "            'vocab': 1, # vocab full\n",
    "            'members': [1]\n",
    "        }\n",
    "        code_maps['icd9_code'].append(code)\n",
    "        code_maps['icd9_long_title'].append(search(code).long_desc)\n",
    "        code_maps['icd10_code'].append(icd10_mapped_codes)\n",
    "        code_maps['umls_cuis'].append(cuis)\n",
    "        resp = requests.post('http://localhost:8001/api/project-annotate-entities/', json=payload, headers=headers)\n",
    "        if resp.ok:\n",
    "            print(f'created project for dataset:{dataset_id}')\n",
    "        else:\n",
    "            print(f'error creating project for dataset:{dataset_id}')\n",
    "            print(resp.text)\n",
    "            raise Exception()\n",
    "    return code_maps"
   ]
  },
  {
   "cell_type": "code",
   "execution_count": 207,
   "metadata": {},
   "outputs": [],
   "source": [
    "df = list(pd.read_csv('sampled_assigned_no_pred.csv').groupby('icd9'))\n",
    "icd9_to_10_mapping[icd9_to_10_mapping.icd9cm == '00845'].icd10cm.tolist()\n",
    "df = list(pd.read_csv('sampled_correct_preds.csv').groupby('icd9'))"
   ]
  },
  {
   "cell_type": "code",
   "execution_count": 252,
   "metadata": {},
   "outputs": [],
   "source": [
    "code_maps_asssn_no_preds = create_projects('Assn No Prd', 'sampled_assigned_no_pred.csv', assn_no_pred_dataset_ids)\n",
    "pd.DataFrame(code_maps_asssn_no_preds).to_csv('code_maps_sampled_assgned_no_pred.csv', index=False)"
   ]
  },
  {
   "cell_type": "code",
   "execution_count": null,
   "metadata": {},
   "outputs": [],
   "source": [
    "code_maps_preds_no_assign = create_projects('Prd N Asn', 'sampled_preds_no_assign.csv', preds_no_assgn_dataset_ids)\n",
    "pd.DataFrame(code_maps_preds_no_assign).to_csv('code_maps_sampeld_preds_no_assn.csv', index=False)"
   ]
  },
  {
   "cell_type": "code",
   "execution_count": 124,
   "metadata": {},
   "outputs": [],
   "source": [
    "code_maps_correct_preds = create_projects('Cor Prd', 'sampled_correct_preds.csv', assn_pred_dataset_ids)\n",
    "pd.DataFrame(code_maps_correct_preds).to_csv('code_maps_sampled_correct_preds.csv', index=False)"
   ]
  },
  {
   "cell_type": "markdown",
   "metadata": {},
   "source": [
    "## Manual validation of above samples of each Dataset\n",
    "Each csv dataset has an associated .xlsx, with further columns added for validation."
   ]
  },
  {
   "cell_type": "markdown",
   "metadata": {},
   "source": [
    "### Further Samples of Assigned but no prediction from MedCAT\n",
    "- During validation of the 'Assigned with no prediction of code', we annotate if more samples are required.\n",
    "- Re-sample only those with 'TRUE' in the column of more_samples_required."
   ]
  },
  {
   "cell_type": "code",
   "execution_count": 422,
   "metadata": {},
   "outputs": [],
   "source": [
    "code_maps_assn_no_preds_complete = pd.read_excel('code_maps_sampled_assgned_no_pred.xlsx')"
   ]
  },
  {
   "cell_type": "code",
   "execution_count": 425,
   "metadata": {},
   "outputs": [],
   "source": [
    "icd9_codes_to_resample = code_maps_assn_no_preds_complete[code_maps_assn_no_preds_complete.more_samples_required].icd9_code.tolist()"
   ]
  },
  {
   "cell_type": "code",
   "execution_count": 433,
   "metadata": {},
   "outputs": [],
   "source": [
    "sample_dataset(joined_df[joined_df.match == 'assigned_no_pred'], 10, 10, icd9_codes_to_resample).to_csv('sampled_assigned_no_pred_more.csv', index=False)"
   ]
  },
  {
   "cell_type": "markdown",
   "metadata": {},
   "source": [
    "## Load Fine-Tuned MedCAT Model, Re-Reun on DD Subsections, then Re-run Analysis\n"
   ]
  },
  {
   "cell_type": "markdown",
   "metadata": {},
   "source": [
    "## Analyse new annotations"
   ]
  },
  {
   "cell_type": "code",
   "execution_count": 125,
   "metadata": {},
   "outputs": [],
   "source": [
    "code_maps_assn_no_preds_complete = pd.read_excel('code_maps_sampled_assgned_no_pred.xlsx')"
   ]
  },
  {
   "cell_type": "code",
   "execution_count": 127,
   "metadata": {},
   "outputs": [],
   "source": [
    "more_samples_required = code_maps_assn_no_preds_complete[code_maps_assn_no_preds_complete.more_samples_required == True]"
   ]
  },
  {
   "cell_type": "code",
   "execution_count": 98,
   "metadata": {},
   "outputs": [
    {
     "data": {
      "text/html": [
       "<div>\n",
       "<style scoped>\n",
       "    .dataframe tbody tr th:only-of-type {\n",
       "        vertical-align: middle;\n",
       "    }\n",
       "\n",
       "    .dataframe tbody tr th {\n",
       "        vertical-align: top;\n",
       "    }\n",
       "\n",
       "    .dataframe thead th {\n",
       "        text-align: right;\n",
       "    }\n",
       "</style>\n",
       "<table border=\"1\" class=\"dataframe\">\n",
       "  <thead>\n",
       "    <tr style=\"text-align: right;\">\n",
       "      <th></th>\n",
       "      <th>icd9_code</th>\n",
       "      <th>icd9_long_title</th>\n",
       "      <th>icd10_code</th>\n",
       "      <th>umls_cuis</th>\n",
       "      <th>more_samples_required</th>\n",
       "      <th>Notes</th>\n",
       "      <th>Conflict _nums</th>\n",
       "      <th>Conflicts</th>\n",
       "    </tr>\n",
       "  </thead>\n",
       "  <tbody>\n",
       "    <tr>\n",
       "      <th>6</th>\n",
       "      <td>4104</td>\n",
       "      <td>Streptococcus infection in conditions classifi...</td>\n",
       "      <td>['B952']</td>\n",
       "      <td>['C2833796']</td>\n",
       "      <td>0.0</td>\n",
       "      <td>NaN</td>\n",
       "      <td>NaN</td>\n",
       "      <td>NaN</td>\n",
       "    </tr>\n",
       "    <tr>\n",
       "      <th>8</th>\n",
       "      <td>4119</td>\n",
       "      <td>Staphylococcus infection in conditions classif...</td>\n",
       "      <td>['B957']</td>\n",
       "      <td>['C2833801']</td>\n",
       "      <td>1.0</td>\n",
       "      <td>NaN</td>\n",
       "      <td>NaN</td>\n",
       "      <td>NaN</td>\n",
       "    </tr>\n",
       "    <tr>\n",
       "      <th>11</th>\n",
       "      <td>4185</td>\n",
       "      <td>Other specified bacterial infections in condit...</td>\n",
       "      <td>['B9689']</td>\n",
       "      <td>['C2833813']</td>\n",
       "      <td>0.0</td>\n",
       "      <td>NaN</td>\n",
       "      <td>ecoli uti, ecoli pneumonia</td>\n",
       "      <td>Urosepsis</td>\n",
       "    </tr>\n",
       "    <tr>\n",
       "      <th>13</th>\n",
       "      <td>7032</td>\n",
       "      <td>Chronic viral hepatitis B without mention of h...</td>\n",
       "      <td>['B181']</td>\n",
       "      <td>['C0276610', 'C0524909', 'C2911652']</td>\n",
       "      <td>0.0</td>\n",
       "      <td>NaN</td>\n",
       "      <td>NaN</td>\n",
       "      <td>NaN</td>\n",
       "    </tr>\n",
       "    <tr>\n",
       "      <th>15</th>\n",
       "      <td>7070</td>\n",
       "      <td>Unspecified viral hepatitis C without hepatic ...</td>\n",
       "      <td>['B1920']</td>\n",
       "      <td>['C0019196', 'C1456263']</td>\n",
       "      <td>0.0</td>\n",
       "      <td>NaN</td>\n",
       "      <td>NaN</td>\n",
       "      <td>NaN</td>\n",
       "    </tr>\n",
       "    <tr>\n",
       "      <th>...</th>\n",
       "      <td>...</td>\n",
       "      <td>...</td>\n",
       "      <td>...</td>\n",
       "      <td>...</td>\n",
       "      <td>...</td>\n",
       "      <td>...</td>\n",
       "      <td>...</td>\n",
       "      <td>...</td>\n",
       "    </tr>\n",
       "    <tr>\n",
       "      <th>395</th>\n",
       "      <td>V5865</td>\n",
       "      <td>Long-term (current) use of steroids</td>\n",
       "      <td>['Z7951', 'Z7952']</td>\n",
       "      <td>['C2911186', 'C2911187']</td>\n",
       "      <td>0.0</td>\n",
       "      <td>NaN</td>\n",
       "      <td>NaN</td>\n",
       "      <td>not mentioned</td>\n",
       "    </tr>\n",
       "    <tr>\n",
       "      <th>396</th>\n",
       "      <td>V5867</td>\n",
       "      <td>Long-term (current) use of insulin</td>\n",
       "      <td>['Z794']</td>\n",
       "      <td>['C1455979']</td>\n",
       "      <td>0.0</td>\n",
       "      <td>NaN</td>\n",
       "      <td>NaN</td>\n",
       "      <td>not mentioned</td>\n",
       "    </tr>\n",
       "    <tr>\n",
       "      <th>397</th>\n",
       "      <td>V667</td>\n",
       "      <td>Encounter for palliative care</td>\n",
       "      <td>['Z515']</td>\n",
       "      <td>['C0375892']</td>\n",
       "      <td>0.0</td>\n",
       "      <td>NaN</td>\n",
       "      <td>NaN</td>\n",
       "      <td>NaN</td>\n",
       "    </tr>\n",
       "    <tr>\n",
       "      <th>398</th>\n",
       "      <td>V707</td>\n",
       "      <td>Examination of participant in clinical trial</td>\n",
       "      <td>['Z006']</td>\n",
       "      <td>['C2910462', 'C3264055']</td>\n",
       "      <td>0.0</td>\n",
       "      <td>NaN</td>\n",
       "      <td>NaN</td>\n",
       "      <td>NaN</td>\n",
       "    </tr>\n",
       "    <tr>\n",
       "      <th>399</th>\n",
       "      <td>V8741</td>\n",
       "      <td>Personal history of antineoplastic chemotherapy</td>\n",
       "      <td>['Z9221']</td>\n",
       "      <td>['C2349913']</td>\n",
       "      <td>0.0</td>\n",
       "      <td>NaN</td>\n",
       "      <td>NaN</td>\n",
       "      <td>not mentioned</td>\n",
       "    </tr>\n",
       "  </tbody>\n",
       "</table>\n",
       "<p>191 rows × 8 columns</p>\n",
       "</div>"
      ],
      "text/plain": [
       "    icd9_code                                    icd9_long_title  \\\n",
       "6        4104  Streptococcus infection in conditions classifi...   \n",
       "8        4119  Staphylococcus infection in conditions classif...   \n",
       "11       4185  Other specified bacterial infections in condit...   \n",
       "13       7032  Chronic viral hepatitis B without mention of h...   \n",
       "15       7070  Unspecified viral hepatitis C without hepatic ...   \n",
       "..        ...                                                ...   \n",
       "395     V5865                Long-term (current) use of steroids   \n",
       "396     V5867                 Long-term (current) use of insulin   \n",
       "397      V667                      Encounter for palliative care   \n",
       "398      V707       Examination of participant in clinical trial   \n",
       "399     V8741    Personal history of antineoplastic chemotherapy   \n",
       "\n",
       "             icd10_code                             umls_cuis  \\\n",
       "6              ['B952']                          ['C2833796']   \n",
       "8              ['B957']                          ['C2833801']   \n",
       "11            ['B9689']                          ['C2833813']   \n",
       "13             ['B181']  ['C0276610', 'C0524909', 'C2911652']   \n",
       "15            ['B1920']              ['C0019196', 'C1456263']   \n",
       "..                  ...                                   ...   \n",
       "395  ['Z7951', 'Z7952']              ['C2911186', 'C2911187']   \n",
       "396            ['Z794']                          ['C1455979']   \n",
       "397            ['Z515']                          ['C0375892']   \n",
       "398            ['Z006']              ['C2910462', 'C3264055']   \n",
       "399           ['Z9221']                          ['C2349913']   \n",
       "\n",
       "     more_samples_required Notes              Conflict _nums      Conflicts  \n",
       "6                      0.0   NaN                         NaN            NaN  \n",
       "8                      1.0   NaN                         NaN            NaN  \n",
       "11                     0.0   NaN  ecoli uti, ecoli pneumonia      Urosepsis  \n",
       "13                     0.0   NaN                         NaN            NaN  \n",
       "15                     0.0   NaN                         NaN            NaN  \n",
       "..                     ...   ...                         ...            ...  \n",
       "395                    0.0   NaN                         NaN  not mentioned  \n",
       "396                    0.0   NaN                         NaN  not mentioned  \n",
       "397                    0.0   NaN                         NaN            NaN  \n",
       "398                    0.0   NaN                         NaN            NaN  \n",
       "399                    0.0   NaN                         NaN  not mentioned  \n",
       "\n",
       "[191 rows x 8 columns]"
      ]
     },
     "execution_count": 98,
     "metadata": {},
     "output_type": "execute_result"
    }
   ],
   "source": [
    "code_maps_assn_no_preds_complete[pd.isna(code_maps_assn_no_preds_complete.Notes)]"
   ]
  },
  {
   "cell_type": "code",
   "execution_count": 164,
   "metadata": {},
   "outputs": [
    {
     "data": {
      "text/plain": [
       "46.5"
      ]
     },
     "execution_count": 164,
     "metadata": {},
     "output_type": "execute_result"
    }
   ],
   "source": [
    "(code_maps_assn_no_preds_complete[code_maps_assn_no_preds_complete.more_samples_required].shape[0] / 400) * 100"
   ]
  },
  {
   "cell_type": "code",
   "execution_count": null,
   "metadata": {},
   "outputs": [],
   "source": [
    "code_maps_assn_no_preds_complete"
   ]
  },
  {
   "cell_type": "code",
   "execution_count": null,
   "metadata": {},
   "outputs": [],
   "source": []
  },
  {
   "cell_type": "code",
   "execution_count": 172,
   "metadata": {},
   "outputs": [
    {
     "data": {
      "text/plain": [
       "97.0"
      ]
     },
     "execution_count": 172,
     "metadata": {},
     "output_type": "execute_result"
    }
   ],
   "source": [
    "(code_maps_assn_no_preds_complete[~pd.isna(code_maps_assn_no_preds_complete.Notes)].shape[0] / 400) * 100"
   ]
  },
  {
   "cell_type": "code",
   "execution_count": null,
   "metadata": {},
   "outputs": [],
   "source": []
  },
  {
   "cell_type": "code",
   "execution_count": null,
   "metadata": {},
   "outputs": [],
   "source": []
  },
  {
   "cell_type": "code",
   "execution_count": 132,
   "metadata": {},
   "outputs": [],
   "source": [
    "code_maps_pred_no_assn_complete = pd.read_excel('code_maps_sampeld_preds_no_assn.xlsx')\n",
    "code_maps_correct_preds_complete = pd.read_excel('code_maps_sampled_correct_preds.xlsx')"
   ]
  },
  {
   "cell_type": "code",
   "execution_count": 149,
   "metadata": {},
   "outputs": [
    {
     "data": {
      "text/plain": [
       "84.06593406593407"
      ]
     },
     "execution_count": 149,
     "metadata": {},
     "output_type": "execute_result"
    }
   ],
   "source": [
    "num_good = code_maps_pred_no_assn_complete[code_maps_pred_no_assn_complete.notes == 'good'].shape[0]\n",
    "(num_good / code_maps_pred_no_assn_complete.shape[0]) * 100"
   ]
  },
  {
   "cell_type": "code",
   "execution_count": null,
   "metadata": {},
   "outputs": [],
   "source": [
    "code_maps_pred_no_assn_complete"
   ]
  },
  {
   "cell_type": "code",
   "execution_count": 154,
   "metadata": {},
   "outputs": [
    {
     "data": {
      "text/plain": [
       "96.08938547486034"
      ]
     },
     "execution_count": 154,
     "metadata": {},
     "output_type": "execute_result"
    }
   ],
   "source": [
    "all_corr = code_maps_correct_preds_complete[code_maps_correct_preds_complete.all_correct].shape[0]\n",
    "(all_corr / code_maps_correct_preds_complete.shape[0]) * 100"
   ]
  },
  {
   "cell_type": "code",
   "execution_count": null,
   "metadata": {},
   "outputs": [],
   "source": []
  },
  {
   "cell_type": "code",
   "execution_count": null,
   "metadata": {},
   "outputs": [],
   "source": []
  },
  {
   "cell_type": "code",
   "execution_count": 293,
   "metadata": {},
   "outputs": [],
   "source": [
    "training_data = pd.DataFrame(json.load(open('MedCAT_Export_With_Text_Assn_No_Pred.json'))['projects']).iloc[:-3]"
   ]
  },
  {
   "cell_type": "code",
   "execution_count": 297,
   "metadata": {},
   "outputs": [
    {
     "data": {
      "text/plain": [
       "3841"
      ]
     },
     "execution_count": 297,
     "metadata": {},
     "output_type": "execute_result"
    }
   ],
   "source": [
    "sum(training_data.documents.apply(len))"
   ]
  },
  {
   "cell_type": "code",
   "execution_count": null,
   "metadata": {},
   "outputs": [],
   "source": []
  },
  {
   "cell_type": "code",
   "execution_count": 177,
   "metadata": {},
   "outputs": [],
   "source": [
    "all_corr_preds_no_assn = code_maps_pred_no_assn_complete[code_maps_pred_no_assn_complete.notes == 'good']"
   ]
  },
  {
   "cell_type": "code",
   "execution_count": 188,
   "metadata": {},
   "outputs": [],
   "source": [
    "all_corr_preds_corr = code_maps_correct_preds_complete[code_maps_correct_preds_complete.all_correct]"
   ]
  },
  {
   "cell_type": "code",
   "execution_count": 299,
   "metadata": {},
   "outputs": [
    {
     "data": {
      "text/html": [
       "<div>\n",
       "<style scoped>\n",
       "    .dataframe tbody tr th:only-of-type {\n",
       "        vertical-align: middle;\n",
       "    }\n",
       "\n",
       "    .dataframe tbody tr th {\n",
       "        vertical-align: top;\n",
       "    }\n",
       "\n",
       "    .dataframe thead th {\n",
       "        text-align: right;\n",
       "    }\n",
       "</style>\n",
       "<table border=\"1\" class=\"dataframe\">\n",
       "  <thead>\n",
       "    <tr style=\"text-align: right;\">\n",
       "      <th></th>\n",
       "      <th>icd9_code</th>\n",
       "      <th>icd9_long_title</th>\n",
       "      <th>icd10_code</th>\n",
       "      <th>umls_cuis</th>\n",
       "      <th>all_correct</th>\n",
       "      <th>notes</th>\n",
       "    </tr>\n",
       "  </thead>\n",
       "  <tbody>\n",
       "    <tr>\n",
       "      <th>0</th>\n",
       "      <td>845</td>\n",
       "      <td>Intestinal infection due to Clostridium difficile</td>\n",
       "      <td>['A047']</td>\n",
       "      <td>['C1257843', 'C0494025', 'C2880102']</td>\n",
       "      <td>True</td>\n",
       "      <td>NaN</td>\n",
       "    </tr>\n",
       "    <tr>\n",
       "      <th>1</th>\n",
       "      <td>380</td>\n",
       "      <td>Streptococcal septicemia</td>\n",
       "      <td>['A409']</td>\n",
       "      <td>['C0152964']</td>\n",
       "      <td>True</td>\n",
       "      <td>NaN</td>\n",
       "    </tr>\n",
       "    <tr>\n",
       "      <th>2</th>\n",
       "      <td>389</td>\n",
       "      <td>Unspecified septicemia</td>\n",
       "      <td>['A419']</td>\n",
       "      <td>['C2887101', 'C0036690']</td>\n",
       "      <td>True</td>\n",
       "      <td>NaN</td>\n",
       "    </tr>\n",
       "    <tr>\n",
       "      <th>3</th>\n",
       "      <td>42</td>\n",
       "      <td>NaN</td>\n",
       "      <td>['B20']</td>\n",
       "      <td>['C0001857', 'C0001175', 'C0019693', 'C0864665']</td>\n",
       "      <td>True</td>\n",
       "      <td>NaN</td>\n",
       "    </tr>\n",
       "    <tr>\n",
       "      <th>4</th>\n",
       "      <td>7032</td>\n",
       "      <td>Chronic viral hepatitis B without mention of h...</td>\n",
       "      <td>['B181']</td>\n",
       "      <td>['C0276610', 'C0524909', 'C2911652']</td>\n",
       "      <td>True</td>\n",
       "      <td>NaN</td>\n",
       "    </tr>\n",
       "    <tr>\n",
       "      <th>...</th>\n",
       "      <td>...</td>\n",
       "      <td>...</td>\n",
       "      <td>...</td>\n",
       "      <td>...</td>\n",
       "      <td>...</td>\n",
       "      <td>...</td>\n",
       "    </tr>\n",
       "    <tr>\n",
       "      <th>174</th>\n",
       "      <td>99592</td>\n",
       "      <td>Severe sepsis</td>\n",
       "      <td>['R6520']</td>\n",
       "      <td>['C1719672', 'C2830469']</td>\n",
       "      <td>True</td>\n",
       "      <td>NaN</td>\n",
       "    </tr>\n",
       "    <tr>\n",
       "      <th>175</th>\n",
       "      <td>99681</td>\n",
       "      <td>Complications of transplanted kidney</td>\n",
       "      <td>['T8610', 'T8611', 'T8612']</td>\n",
       "      <td>['C2891269', 'C0238217', 'C1404117']</td>\n",
       "      <td>True</td>\n",
       "      <td>NaN</td>\n",
       "    </tr>\n",
       "    <tr>\n",
       "      <th>176</th>\n",
       "      <td>99731</td>\n",
       "      <td>Ventilator associated pneumonia</td>\n",
       "      <td>['J95851']</td>\n",
       "      <td>['C1701940']</td>\n",
       "      <td>True</td>\n",
       "      <td>NaN</td>\n",
       "    </tr>\n",
       "    <tr>\n",
       "      <th>177</th>\n",
       "      <td>V08</td>\n",
       "      <td>NaN</td>\n",
       "      <td>['Z21']</td>\n",
       "      <td>['C0019699', 'C0476550']</td>\n",
       "      <td>True</td>\n",
       "      <td>NaN</td>\n",
       "    </tr>\n",
       "    <tr>\n",
       "      <th>178</th>\n",
       "      <td>V1588</td>\n",
       "      <td>History of fall</td>\n",
       "      <td>['Z9181']</td>\n",
       "      <td>['C1268740', 'C2919132']</td>\n",
       "      <td>True</td>\n",
       "      <td>NaN</td>\n",
       "    </tr>\n",
       "  </tbody>\n",
       "</table>\n",
       "<p>172 rows × 6 columns</p>\n",
       "</div>"
      ],
      "text/plain": [
       "    icd9_code                                    icd9_long_title  \\\n",
       "0         845  Intestinal infection due to Clostridium difficile   \n",
       "1         380                           Streptococcal septicemia   \n",
       "2         389                             Unspecified septicemia   \n",
       "3          42                                                NaN   \n",
       "4        7032  Chronic viral hepatitis B without mention of h...   \n",
       "..        ...                                                ...   \n",
       "174     99592                                      Severe sepsis   \n",
       "175     99681               Complications of transplanted kidney   \n",
       "176     99731                    Ventilator associated pneumonia   \n",
       "177       V08                                                NaN   \n",
       "178     V1588                                    History of fall   \n",
       "\n",
       "                      icd10_code  \\\n",
       "0                       ['A047']   \n",
       "1                       ['A409']   \n",
       "2                       ['A419']   \n",
       "3                        ['B20']   \n",
       "4                       ['B181']   \n",
       "..                           ...   \n",
       "174                    ['R6520']   \n",
       "175  ['T8610', 'T8611', 'T8612']   \n",
       "176                   ['J95851']   \n",
       "177                      ['Z21']   \n",
       "178                    ['Z9181']   \n",
       "\n",
       "                                            umls_cuis  all_correct notes  \n",
       "0                ['C1257843', 'C0494025', 'C2880102']         True   NaN  \n",
       "1                                        ['C0152964']         True   NaN  \n",
       "2                            ['C2887101', 'C0036690']         True   NaN  \n",
       "3    ['C0001857', 'C0001175', 'C0019693', 'C0864665']         True   NaN  \n",
       "4                ['C0276610', 'C0524909', 'C2911652']         True   NaN  \n",
       "..                                                ...          ...   ...  \n",
       "174                          ['C1719672', 'C2830469']         True   NaN  \n",
       "175              ['C2891269', 'C0238217', 'C1404117']         True   NaN  \n",
       "176                                      ['C1701940']         True   NaN  \n",
       "177                          ['C0019699', 'C0476550']         True   NaN  \n",
       "178                          ['C1268740', 'C2919132']         True   NaN  \n",
       "\n",
       "[172 rows x 6 columns]"
      ]
     },
     "execution_count": 299,
     "metadata": {},
     "output_type": "execute_result"
    }
   ],
   "source": [
    "all_corr_preds_corr"
   ]
  },
  {
   "cell_type": "code",
   "execution_count": null,
   "metadata": {},
   "outputs": [],
   "source": []
  },
  {
   "cell_type": "code",
   "execution_count": 129,
   "metadata": {},
   "outputs": [],
   "source": [
    "assn_no_pred = pd.DataFrame(json.load(open('data/MedCAT_Export_With_Text_Assn_No_Pred.json'))['projects'])"
   ]
  },
  {
   "cell_type": "code",
   "execution_count": 123,
   "metadata": {},
   "outputs": [],
   "source": [
    "json.dump(preds_no_assn_json, open('data/MedCAT_Export_With_Text_Pred_No_Assn.json', 'w'))"
   ]
  },
  {
   "cell_type": "code",
   "execution_count": null,
   "metadata": {},
   "outputs": [],
   "source": []
  },
  {
   "cell_type": "code",
   "execution_count": 253,
   "metadata": {},
   "outputs": [],
   "source": [
    "preds_corr = pd.DataFrame(json.load(open('MedCAT_Export_With_Text_Pred_Corr.json'))['projects'])"
   ]
  },
  {
   "cell_type": "code",
   "execution_count": 231,
   "metadata": {},
   "outputs": [],
   "source": [
    "def fix_cui_string(cui_string):\n",
    "    cui_string = cui_string.replace(\"'\", '\"')\n",
    "    return ','.join(json.loads(cui_string))"
   ]
  },
  {
   "cell_type": "code",
   "execution_count": 276,
   "metadata": {},
   "outputs": [],
   "source": [
    "cui_strings = all_corr_preds_no_assn.umls_cuis.apply(fix_cui_string)\n",
    "corr_1 = preds_no_assn[preds_no_assn.cuis.isin(cui_strings)]"
   ]
  },
  {
   "cell_type": "code",
   "execution_count": 277,
   "metadata": {},
   "outputs": [],
   "source": [
    "cui_strings = all_corr_preds_corr.umls_cuis.apply(fix_cui_string)\n",
    "corr_2 = preds_corr[preds_corr.cuis.isin(cui_strings)]"
   ]
  },
  {
   "cell_type": "code",
   "execution_count": 469,
   "metadata": {},
   "outputs": [
    {
     "data": {
      "text/html": [
       "<div>\n",
       "<style scoped>\n",
       "    .dataframe tbody tr th:only-of-type {\n",
       "        vertical-align: middle;\n",
       "    }\n",
       "\n",
       "    .dataframe tbody tr th {\n",
       "        vertical-align: top;\n",
       "    }\n",
       "\n",
       "    .dataframe thead th {\n",
       "        text-align: right;\n",
       "    }\n",
       "</style>\n",
       "<table border=\"1\" class=\"dataframe\">\n",
       "  <thead>\n",
       "    <tr style=\"text-align: right;\">\n",
       "      <th></th>\n",
       "      <th>name</th>\n",
       "      <th>id</th>\n",
       "      <th>cuis</th>\n",
       "      <th>tuis</th>\n",
       "      <th>documents</th>\n",
       "    </tr>\n",
       "  </thead>\n",
       "  <tbody>\n",
       "    <tr>\n",
       "      <th>0</th>\n",
       "      <td>Prd N Asn - DS: 363 code: V4511 desc: Renal di...</td>\n",
       "      <td>183</td>\n",
       "      <td>C2945570,C1399375,C2349870,C0481496</td>\n",
       "      <td></td>\n",
       "      <td>[{'id': 3180, 'name': '164077', 'text': '\n",
       "1. S...</td>\n",
       "    </tr>\n",
       "    <tr>\n",
       "      <th>1</th>\n",
       "      <td>Prd N Asn - DS: 362 code: V441 desc: Gastrosto...</td>\n",
       "      <td>182</td>\n",
       "      <td>C0260683</td>\n",
       "      <td></td>\n",
       "      <td>[{'id': 3179, 'name': '176423', 'text': '\n",
       "1. S...</td>\n",
       "    </tr>\n",
       "    <tr>\n",
       "      <th>2</th>\n",
       "      <td>Prd N Asn - DS: 361 code: V440 desc: Tracheost...</td>\n",
       "      <td>181</td>\n",
       "      <td>C0260682</td>\n",
       "      <td></td>\n",
       "      <td>[{'id': 3174, 'name': '112290', 'text': '\n",
       "Obes...</td>\n",
       "    </tr>\n",
       "    <tr>\n",
       "      <th>3</th>\n",
       "      <td>Prd N Asn - DS: 360 code: V1588 desc: Personal...</td>\n",
       "      <td>180</td>\n",
       "      <td>C1268740,C2919132</td>\n",
       "      <td></td>\n",
       "      <td>[{'id': 3164, 'name': '160730', 'text': '\n",
       "1. C...</td>\n",
       "    </tr>\n",
       "    <tr>\n",
       "      <th>4</th>\n",
       "      <td>Prd N Asn - DS: 359 code: V08 desc: Asymp hiv ...</td>\n",
       "      <td>179</td>\n",
       "      <td>C0019699,C0476550</td>\n",
       "      <td></td>\n",
       "      <td>[{'id': 3154, 'name': '143757', 'text': '\n",
       "stre...</td>\n",
       "    </tr>\n",
       "    <tr>\n",
       "      <th>...</th>\n",
       "      <td>...</td>\n",
       "      <td>...</td>\n",
       "      <td>...</td>\n",
       "      <td>...</td>\n",
       "      <td>...</td>\n",
       "    </tr>\n",
       "    <tr>\n",
       "      <th>174</th>\n",
       "      <td>Cor Prd - DS: 368 code: 07032 desc: Hpt B chrn...</td>\n",
       "      <td>188</td>\n",
       "      <td>C0276610,C0524909,C2911652</td>\n",
       "      <td></td>\n",
       "      <td>[{'id': 3215, 'name': '154838', 'text': '\n",
       "s/p ...</td>\n",
       "    </tr>\n",
       "    <tr>\n",
       "      <th>175</th>\n",
       "      <td>Cor Prd - DS: 367 code: 042 desc: Human immuno...</td>\n",
       "      <td>187</td>\n",
       "      <td>C0001857,C0001175,C0019693,C0864665</td>\n",
       "      <td></td>\n",
       "      <td>[{'id': 3205, 'name': '130858', 'text': '\n",
       "Mult...</td>\n",
       "    </tr>\n",
       "    <tr>\n",
       "      <th>176</th>\n",
       "      <td>Cor Prd - DS: 366 code: 0389 desc: Septicemia NOS</td>\n",
       "      <td>186</td>\n",
       "      <td>C2887101,C0036690</td>\n",
       "      <td></td>\n",
       "      <td>[{'id': 3195, 'name': '107520', 'text': '\n",
       "Chol...</td>\n",
       "    </tr>\n",
       "    <tr>\n",
       "      <th>177</th>\n",
       "      <td>Cor Prd - DS: 365 code: 0380 desc: Streptococc...</td>\n",
       "      <td>185</td>\n",
       "      <td>C0152964</td>\n",
       "      <td></td>\n",
       "      <td>[{'id': 3185, 'name': '184534', 'text': '\n",
       "Prim...</td>\n",
       "    </tr>\n",
       "    <tr>\n",
       "      <th>178</th>\n",
       "      <td>Cor Prd - DS: 364 code: 00845 desc: Int inf cl...</td>\n",
       "      <td>184</td>\n",
       "      <td>C1257843,C0494025,C2880102</td>\n",
       "      <td></td>\n",
       "      <td>[{'id': 3181, 'name': '125332', 'text': '\n",
       "1. M...</td>\n",
       "    </tr>\n",
       "  </tbody>\n",
       "</table>\n",
       "<p>326 rows × 5 columns</p>\n",
       "</div>"
      ],
      "text/plain": [
       "                                                  name   id  \\\n",
       "0    Prd N Asn - DS: 363 code: V4511 desc: Renal di...  183   \n",
       "1    Prd N Asn - DS: 362 code: V441 desc: Gastrosto...  182   \n",
       "2    Prd N Asn - DS: 361 code: V440 desc: Tracheost...  181   \n",
       "3    Prd N Asn - DS: 360 code: V1588 desc: Personal...  180   \n",
       "4    Prd N Asn - DS: 359 code: V08 desc: Asymp hiv ...  179   \n",
       "..                                                 ...  ...   \n",
       "174  Cor Prd - DS: 368 code: 07032 desc: Hpt B chrn...  188   \n",
       "175  Cor Prd - DS: 367 code: 042 desc: Human immuno...  187   \n",
       "176  Cor Prd - DS: 366 code: 0389 desc: Septicemia NOS  186   \n",
       "177  Cor Prd - DS: 365 code: 0380 desc: Streptococc...  185   \n",
       "178  Cor Prd - DS: 364 code: 00845 desc: Int inf cl...  184   \n",
       "\n",
       "                                    cuis tuis  \\\n",
       "0    C2945570,C1399375,C2349870,C0481496        \n",
       "1                               C0260683        \n",
       "2                               C0260682        \n",
       "3                      C1268740,C2919132        \n",
       "4                      C0019699,C0476550        \n",
       "..                                   ...  ...   \n",
       "174           C0276610,C0524909,C2911652        \n",
       "175  C0001857,C0001175,C0019693,C0864665        \n",
       "176                    C2887101,C0036690        \n",
       "177                             C0152964        \n",
       "178           C1257843,C0494025,C2880102        \n",
       "\n",
       "                                             documents  \n",
       "0    [{'id': 3180, 'name': '164077', 'text': '\n",
       "1. S...  \n",
       "1    [{'id': 3179, 'name': '176423', 'text': '\n",
       "1. S...  \n",
       "2    [{'id': 3174, 'name': '112290', 'text': '\n",
       "Obes...  \n",
       "3    [{'id': 3164, 'name': '160730', 'text': '\n",
       "1. C...  \n",
       "4    [{'id': 3154, 'name': '143757', 'text': '\n",
       "stre...  \n",
       "..                                                 ...  \n",
       "174  [{'id': 3215, 'name': '154838', 'text': '\n",
       "s/p ...  \n",
       "175  [{'id': 3205, 'name': '130858', 'text': '\n",
       "Mult...  \n",
       "176  [{'id': 3195, 'name': '107520', 'text': '\n",
       "Chol...  \n",
       "177  [{'id': 3185, 'name': '184534', 'text': '\n",
       "Prim...  \n",
       "178  [{'id': 3181, 'name': '125332', 'text': '\n",
       "1. M...  \n",
       "\n",
       "[326 rows x 5 columns]"
      ]
     },
     "execution_count": 469,
     "metadata": {},
     "output_type": "execute_result"
    }
   ],
   "source": [
    "corr_concat"
   ]
  },
  {
   "cell_type": "code",
   "execution_count": null,
   "metadata": {},
   "outputs": [],
   "source": []
  }
 ],
 "metadata": {
  "kernelspec": {
   "display_name": "Python [conda env:mimc3_dd]",
   "language": "python",
   "name": "conda-env-mimc3_dd-py"
  },
  "language_info": {
   "codemirror_mode": {
    "name": "ipython",
    "version": 3
   },
   "file_extension": ".py",
   "mimetype": "text/x-python",
   "name": "python",
   "nbconvert_exporter": "python",
   "pygments_lexer": "ipython3",
   "version": "3.8.1"
  }
 },
 "nbformat": 4,
 "nbformat_minor": 4
}
